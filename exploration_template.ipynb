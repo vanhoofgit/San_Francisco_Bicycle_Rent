{
 "cells": [
  {
   "cell_type": "markdown",
   "metadata": {},
   "source": [
    "# (BayWheels Dataset Exploration)\n",
    "## by (Benny Van Hoof)\n",
    "\n",
    "## 1) Preliminary Wrangling\n",
    "\n",
    "> This document explores a dataset containing information (duration, location, time, user type) about 1.8 m bike rentals in San Francisco in 2018."
   ]
  },
  {
   "cell_type": "code",
   "execution_count": 1,
   "metadata": {},
   "outputs": [],
   "source": [
    "# import all packages and set plots to be embedded inline\n",
    "import numpy as np\n",
    "import pandas as pd\n",
    "import matplotlib.pyplot as plt\n",
    "import matplotlib.ticker as ticker\n",
    "%matplotlib inline\n",
    "import seaborn as sb\n",
    "import glob\n",
    "from math import radians, cos, sin, asin, sqrt\n",
    "\n",
    "\n"
   ]
  },
  {
   "cell_type": "markdown",
   "metadata": {},
   "source": [
    "### 1a) Load the dataset"
   ]
  },
  {
   "cell_type": "code",
   "execution_count": 2,
   "metadata": {},
   "outputs": [],
   "source": [
    "## a number of csv files are loaded (one file for each month)\n",
    "appended_data = []\n",
    "\n",
    "for filename in glob.iglob('*.csv', recursive=False):\n",
    "    data = pd.read_csv(filename)\n",
    "    appended_data.append(data)\n",
    "biketrips = pd.concat(appended_data, sort=False)\n",
    "#biketrips = biketrips.reset_index()\n",
    "    \n",
    "    \n",
    "    "
   ]
  },
  {
   "cell_type": "markdown",
   "metadata": {},
   "source": [
    "### 1b)  Some basic tests on the dataset"
   ]
  },
  {
   "cell_type": "code",
   "execution_count": 3,
   "metadata": {
    "scrolled": false
   },
   "outputs": [
    {
     "data": {
      "text/html": [
       "<div>\n",
       "<style scoped>\n",
       "    .dataframe tbody tr th:only-of-type {\n",
       "        vertical-align: middle;\n",
       "    }\n",
       "\n",
       "    .dataframe tbody tr th {\n",
       "        vertical-align: top;\n",
       "    }\n",
       "\n",
       "    .dataframe thead th {\n",
       "        text-align: right;\n",
       "    }\n",
       "</style>\n",
       "<table border=\"1\" class=\"dataframe\">\n",
       "  <thead>\n",
       "    <tr style=\"text-align: right;\">\n",
       "      <th></th>\n",
       "      <th>duration_sec</th>\n",
       "      <th>start_time</th>\n",
       "      <th>end_time</th>\n",
       "      <th>start_station_id</th>\n",
       "      <th>start_station_name</th>\n",
       "      <th>start_station_latitude</th>\n",
       "      <th>start_station_longitude</th>\n",
       "      <th>end_station_id</th>\n",
       "      <th>end_station_name</th>\n",
       "      <th>end_station_latitude</th>\n",
       "      <th>end_station_longitude</th>\n",
       "      <th>bike_id</th>\n",
       "      <th>user_type</th>\n",
       "      <th>bike_share_for_all_trip</th>\n",
       "    </tr>\n",
       "  </thead>\n",
       "  <tbody>\n",
       "    <tr>\n",
       "      <td>0</td>\n",
       "      <td>598</td>\n",
       "      <td>2018-02-28 23:59:47.0970</td>\n",
       "      <td>2018-03-01 00:09:45.1870</td>\n",
       "      <td>284.0</td>\n",
       "      <td>Yerba Buena Center for the Arts (Howard St at ...</td>\n",
       "      <td>37.784872</td>\n",
       "      <td>-122.400876</td>\n",
       "      <td>114.0</td>\n",
       "      <td>Rhode Island St at 17th St</td>\n",
       "      <td>37.764478</td>\n",
       "      <td>-122.402570</td>\n",
       "      <td>1035</td>\n",
       "      <td>Subscriber</td>\n",
       "      <td>No</td>\n",
       "    </tr>\n",
       "    <tr>\n",
       "      <td>1</td>\n",
       "      <td>943</td>\n",
       "      <td>2018-02-28 23:21:16.4950</td>\n",
       "      <td>2018-02-28 23:36:59.9740</td>\n",
       "      <td>6.0</td>\n",
       "      <td>The Embarcadero at Sansome St</td>\n",
       "      <td>37.804770</td>\n",
       "      <td>-122.403234</td>\n",
       "      <td>324.0</td>\n",
       "      <td>Union Square (Powell St at Post St)</td>\n",
       "      <td>37.788300</td>\n",
       "      <td>-122.408531</td>\n",
       "      <td>1673</td>\n",
       "      <td>Customer</td>\n",
       "      <td>No</td>\n",
       "    </tr>\n",
       "    <tr>\n",
       "      <td>2</td>\n",
       "      <td>18587</td>\n",
       "      <td>2018-02-28 18:20:55.1900</td>\n",
       "      <td>2018-02-28 23:30:42.9250</td>\n",
       "      <td>93.0</td>\n",
       "      <td>4th St at Mission Bay Blvd S</td>\n",
       "      <td>37.770407</td>\n",
       "      <td>-122.391198</td>\n",
       "      <td>15.0</td>\n",
       "      <td>San Francisco Ferry Building (Harry Bridges Pl...</td>\n",
       "      <td>37.795392</td>\n",
       "      <td>-122.394203</td>\n",
       "      <td>3498</td>\n",
       "      <td>Customer</td>\n",
       "      <td>No</td>\n",
       "    </tr>\n",
       "    <tr>\n",
       "      <td>3</td>\n",
       "      <td>18558</td>\n",
       "      <td>2018-02-28 18:20:53.6210</td>\n",
       "      <td>2018-02-28 23:30:12.4500</td>\n",
       "      <td>93.0</td>\n",
       "      <td>4th St at Mission Bay Blvd S</td>\n",
       "      <td>37.770407</td>\n",
       "      <td>-122.391198</td>\n",
       "      <td>15.0</td>\n",
       "      <td>San Francisco Ferry Building (Harry Bridges Pl...</td>\n",
       "      <td>37.795392</td>\n",
       "      <td>-122.394203</td>\n",
       "      <td>3129</td>\n",
       "      <td>Customer</td>\n",
       "      <td>No</td>\n",
       "    </tr>\n",
       "    <tr>\n",
       "      <td>4</td>\n",
       "      <td>885</td>\n",
       "      <td>2018-02-28 23:15:12.8580</td>\n",
       "      <td>2018-02-28 23:29:58.6080</td>\n",
       "      <td>308.0</td>\n",
       "      <td>San Pedro Square</td>\n",
       "      <td>37.336802</td>\n",
       "      <td>-121.894090</td>\n",
       "      <td>297.0</td>\n",
       "      <td>Locust St at Grant St</td>\n",
       "      <td>37.322980</td>\n",
       "      <td>-121.887931</td>\n",
       "      <td>1839</td>\n",
       "      <td>Subscriber</td>\n",
       "      <td>Yes</td>\n",
       "    </tr>\n",
       "  </tbody>\n",
       "</table>\n",
       "</div>"
      ],
      "text/plain": [
       "   duration_sec                start_time                  end_time  \\\n",
       "0           598  2018-02-28 23:59:47.0970  2018-03-01 00:09:45.1870   \n",
       "1           943  2018-02-28 23:21:16.4950  2018-02-28 23:36:59.9740   \n",
       "2         18587  2018-02-28 18:20:55.1900  2018-02-28 23:30:42.9250   \n",
       "3         18558  2018-02-28 18:20:53.6210  2018-02-28 23:30:12.4500   \n",
       "4           885  2018-02-28 23:15:12.8580  2018-02-28 23:29:58.6080   \n",
       "\n",
       "   start_station_id                                 start_station_name  \\\n",
       "0             284.0  Yerba Buena Center for the Arts (Howard St at ...   \n",
       "1               6.0                      The Embarcadero at Sansome St   \n",
       "2              93.0                       4th St at Mission Bay Blvd S   \n",
       "3              93.0                       4th St at Mission Bay Blvd S   \n",
       "4             308.0                                   San Pedro Square   \n",
       "\n",
       "   start_station_latitude  start_station_longitude  end_station_id  \\\n",
       "0               37.784872              -122.400876           114.0   \n",
       "1               37.804770              -122.403234           324.0   \n",
       "2               37.770407              -122.391198            15.0   \n",
       "3               37.770407              -122.391198            15.0   \n",
       "4               37.336802              -121.894090           297.0   \n",
       "\n",
       "                                    end_station_name  end_station_latitude  \\\n",
       "0                         Rhode Island St at 17th St             37.764478   \n",
       "1                Union Square (Powell St at Post St)             37.788300   \n",
       "2  San Francisco Ferry Building (Harry Bridges Pl...             37.795392   \n",
       "3  San Francisco Ferry Building (Harry Bridges Pl...             37.795392   \n",
       "4                              Locust St at Grant St             37.322980   \n",
       "\n",
       "   end_station_longitude  bike_id   user_type bike_share_for_all_trip  \n",
       "0            -122.402570     1035  Subscriber                      No  \n",
       "1            -122.408531     1673    Customer                      No  \n",
       "2            -122.394203     3498    Customer                      No  \n",
       "3            -122.394203     3129    Customer                      No  \n",
       "4            -121.887931     1839  Subscriber                     Yes  "
      ]
     },
     "execution_count": 3,
     "metadata": {},
     "output_type": "execute_result"
    }
   ],
   "source": [
    "biketrips.head()"
   ]
  },
  {
   "cell_type": "code",
   "execution_count": 4,
   "metadata": {
    "scrolled": true
   },
   "outputs": [
    {
     "data": {
      "text/plain": [
       "(1863721, 14)"
      ]
     },
     "execution_count": 4,
     "metadata": {},
     "output_type": "execute_result"
    }
   ],
   "source": [
    "#Number of rows and columns\n",
    "biketrips.shape\n",
    "\n"
   ]
  },
  {
   "cell_type": "code",
   "execution_count": 5,
   "metadata": {
    "scrolled": false
   },
   "outputs": [
    {
     "name": "stdout",
     "output_type": "stream",
     "text": [
      "<class 'pandas.core.frame.DataFrame'>\n",
      "Int64Index: 1863721 entries, 0 to 131168\n",
      "Data columns (total 14 columns):\n",
      "duration_sec               int64\n",
      "start_time                 object\n",
      "end_time                   object\n",
      "start_station_id           float64\n",
      "start_station_name         object\n",
      "start_station_latitude     float64\n",
      "start_station_longitude    float64\n",
      "end_station_id             float64\n",
      "end_station_name           object\n",
      "end_station_latitude       float64\n",
      "end_station_longitude      float64\n",
      "bike_id                    int64\n",
      "user_type                  object\n",
      "bike_share_for_all_trip    object\n",
      "dtypes: float64(6), int64(2), object(6)\n",
      "memory usage: 213.3+ MB\n"
     ]
    }
   ],
   "source": [
    "## Variable type for each columns\n",
    "biketrips.info()"
   ]
  },
  {
   "cell_type": "code",
   "execution_count": 6,
   "metadata": {},
   "outputs": [
    {
     "name": "stdout",
     "output_type": "stream",
     "text": [
      "       duration_sec  start_station_id  start_station_latitude  \\\n",
      "count  1.863721e+06      1.851950e+06            1.863721e+06   \n",
      "mean   8.573026e+02      1.196744e+02            3.776678e+01   \n",
      "std    2.370379e+03      1.003976e+02            1.057689e-01   \n",
      "min    6.100000e+01      3.000000e+00            3.726331e+01   \n",
      "25%    3.500000e+02      3.300000e+01            3.777106e+01   \n",
      "50%    5.560000e+02      8.900000e+01            3.778107e+01   \n",
      "75%    8.720000e+02      1.860000e+02            3.779625e+01   \n",
      "max    8.636600e+04      3.810000e+02            4.551000e+01   \n",
      "\n",
      "       start_station_longitude  end_station_id  end_station_latitude  \\\n",
      "count             1.863721e+06    1.851950e+06          1.863721e+06   \n",
      "mean             -1.223492e+02    1.181730e+02          3.776690e+01   \n",
      "std               1.654634e-01    1.004403e+02          1.056483e-01   \n",
      "min              -1.224737e+02    3.000000e+00          3.726331e+01   \n",
      "25%              -1.224114e+02    3.000000e+01          3.777106e+01   \n",
      "50%              -1.223974e+02    8.800000e+01          3.778127e+01   \n",
      "75%              -1.222865e+02    1.830000e+02          3.779728e+01   \n",
      "max              -7.357000e+01    3.810000e+02          4.551000e+01   \n",
      "\n",
      "       end_station_longitude       bike_id  \n",
      "count           1.863721e+06  1.863721e+06  \n",
      "mean           -1.223487e+02  2.296851e+03  \n",
      "std             1.650597e-01  1.287733e+03  \n",
      "min            -1.224737e+02  1.100000e+01  \n",
      "25%            -1.224094e+02  1.225000e+03  \n",
      "50%            -1.223971e+02  2.338000e+03  \n",
      "75%            -1.222894e+02  3.333000e+03  \n",
      "max            -7.357000e+01  6.234000e+03  \n"
     ]
    }
   ],
   "source": [
    "# descriptive statistics for numeric variables\n",
    "print(biketrips.describe())"
   ]
  },
  {
   "cell_type": "code",
   "execution_count": 7,
   "metadata": {
    "scrolled": false
   },
   "outputs": [
    {
     "data": {
      "text/plain": [
       "duration_sec                   0\n",
       "start_time                     0\n",
       "end_time                       0\n",
       "start_station_id           11771\n",
       "start_station_name         11771\n",
       "start_station_latitude         0\n",
       "start_station_longitude        0\n",
       "end_station_id             11771\n",
       "end_station_name           11771\n",
       "end_station_latitude           0\n",
       "end_station_longitude          0\n",
       "bike_id                        0\n",
       "user_type                      0\n",
       "bike_share_for_all_trip        0\n",
       "dtype: int64"
      ]
     },
     "execution_count": 7,
     "metadata": {},
     "output_type": "execute_result"
    }
   ],
   "source": [
    "## number of null values per column \n",
    "biketrips.isnull().sum()"
   ]
  },
  {
   "cell_type": "markdown",
   "metadata": {},
   "source": [
    "Some empty cells in the station id and name  (start and end station)"
   ]
  },
  {
   "cell_type": "code",
   "execution_count": 8,
   "metadata": {},
   "outputs": [
    {
     "data": {
      "text/plain": [
       "Subscriber    1583554\n",
       "Customer       280167\n",
       "Name: user_type, dtype: int64"
      ]
     },
     "execution_count": 8,
     "metadata": {},
     "output_type": "execute_result"
    }
   ],
   "source": [
    "biketrips['user_type'].value_counts()"
   ]
  },
  {
   "cell_type": "code",
   "execution_count": 9,
   "metadata": {},
   "outputs": [
    {
     "data": {
      "text/plain": [
       "3961    1220\n",
       "4452    1141\n",
       "3729    1062\n",
       "3379    1057\n",
       "3254    1055\n",
       "        ... \n",
       "3763       1\n",
       "3758       1\n",
       "4612       1\n",
       "888        1\n",
       "4085       1\n",
       "Name: bike_id, Length: 5054, dtype: int64"
      ]
     },
     "execution_count": 9,
     "metadata": {},
     "output_type": "execute_result"
    }
   ],
   "source": [
    "biketrips['bike_id'].value_counts() "
   ]
  },
  {
   "cell_type": "code",
   "execution_count": 10,
   "metadata": {},
   "outputs": [
    {
     "data": {
      "text/plain": [
       "San Francisco Ferry Building (Harry Bridges Plaza)           38461\n",
       "San Francisco Caltrain Station 2  (Townsend St at 4th St)    37617\n",
       "San Francisco Caltrain (Townsend St at 4th St)               35092\n",
       "Market St at 10th St                                         34918\n",
       "Berry St at 4th St                                           33716\n",
       "                                                             ...  \n",
       "William St at 4th St (Temporary Location)                       26\n",
       "Viva Calle SJ                                                   25\n",
       "Williams Ave at 3rd St                                          17\n",
       "Farnam St at Fruitvale Ave                                      14\n",
       "2nd St at S Park St                                             11\n",
       "Name: start_station_name, Length: 348, dtype: int64"
      ]
     },
     "execution_count": 10,
     "metadata": {},
     "output_type": "execute_result"
    }
   ],
   "source": [
    "biketrips['start_station_name'].value_counts() "
   ]
  },
  {
   "cell_type": "code",
   "execution_count": 11,
   "metadata": {},
   "outputs": [
    {
     "data": {
      "text/plain": [
       "San Francisco Caltrain Station 2  (Townsend St at 4th St)    50000\n",
       "San Francisco Ferry Building (Harry Bridges Plaza)           44113\n",
       "San Francisco Caltrain (Townsend St at 4th St)               42970\n",
       "The Embarcadero at Sansome St                                39222\n",
       "Montgomery St BART Station (Market St at 2nd St)             35955\n",
       "                                                             ...  \n",
       "2nd St at S Park St                                             33\n",
       "Lane St at Van Dyke Ave                                         33\n",
       "Williams Ave at 3rd St                                          24\n",
       "Viva Calle SJ                                                   15\n",
       "Farnam St at Fruitvale Ave                                      12\n",
       "Name: end_station_name, Length: 348, dtype: int64"
      ]
     },
     "execution_count": 11,
     "metadata": {},
     "output_type": "execute_result"
    }
   ],
   "source": [
    "biketrips['end_station_name'].value_counts() "
   ]
  },
  {
   "cell_type": "code",
   "execution_count": 12,
   "metadata": {
    "scrolled": true
   },
   "outputs": [
    {
     "data": {
      "text/plain": [
       "-122.395526    50000\n",
       "-122.394203    44113\n",
       "-122.395282    42970\n",
       "-122.403234    39222\n",
       "-122.400811    35955\n",
       "               ...  \n",
       "-74.010000         3\n",
       "-121.830000        2\n",
       "-93.220000         2\n",
       "-122.000000        1\n",
       "-121.990000        1\n",
       "Name: end_station_longitude, Length: 371, dtype: int64"
      ]
     },
     "execution_count": 12,
     "metadata": {},
     "output_type": "execute_result"
    }
   ],
   "source": [
    "biketrips['end_station_longitude'].value_counts() "
   ]
  },
  {
   "cell_type": "markdown",
   "metadata": {},
   "source": [
    "Some outliers here"
   ]
  },
  {
   "cell_type": "code",
   "execution_count": 13,
   "metadata": {
    "scrolled": false
   },
   "outputs": [
    {
     "data": {
      "text/plain": [
       "-122.394203    38461\n",
       "-122.395526    37617\n",
       "-122.395282    35092\n",
       "-122.417385    34918\n",
       "-122.393170    33716\n",
       "               ...  \n",
       "-121.840000        3\n",
       "-74.010000         3\n",
       "-93.220000         2\n",
       "-121.830000        1\n",
       "-121.990000        1\n",
       "Name: start_station_longitude, Length: 370, dtype: int64"
      ]
     },
     "execution_count": 13,
     "metadata": {},
     "output_type": "execute_result"
    }
   ],
   "source": [
    "biketrips['start_station_longitude'].value_counts() "
   ]
  },
  {
   "cell_type": "markdown",
   "metadata": {},
   "source": [
    "some outliers here"
   ]
  },
  {
   "cell_type": "code",
   "execution_count": 14,
   "metadata": {
    "scrolled": true
   },
   "outputs": [
    {
     "data": {
      "text/plain": [
       "37.795392    38461\n",
       "37.776639    37617\n",
       "37.776598    35092\n",
       "37.776619    34918\n",
       "37.775880    33716\n",
       "             ...  \n",
       "37.440000        3\n",
       "45.500000        2\n",
       "44.950000        2\n",
       "37.320000        2\n",
       "37.450000        1\n",
       "Name: start_station_latitude, Length: 369, dtype: int64"
      ]
     },
     "execution_count": 14,
     "metadata": {},
     "output_type": "execute_result"
    }
   ],
   "source": [
    "biketrips['start_station_latitude'].value_counts() "
   ]
  },
  {
   "cell_type": "markdown",
   "metadata": {},
   "source": [
    "some outliers here"
   ]
  },
  {
   "cell_type": "code",
   "execution_count": 15,
   "metadata": {
    "scrolled": true
   },
   "outputs": [
    {
     "data": {
      "text/plain": [
       "37.776639    50000\n",
       "37.795392    44113\n",
       "37.776598    42970\n",
       "37.804770    39222\n",
       "37.789625    35955\n",
       "             ...  \n",
       "37.490000        3\n",
       "40.660000        3\n",
       "44.950000        2\n",
       "37.280000        1\n",
       "37.450000        1\n",
       "Name: end_station_latitude, Length: 370, dtype: int64"
      ]
     },
     "execution_count": 15,
     "metadata": {},
     "output_type": "execute_result"
    }
   ],
   "source": [
    "biketrips['end_station_latitude'].value_counts() "
   ]
  },
  {
   "cell_type": "code",
   "execution_count": 16,
   "metadata": {},
   "outputs": [
    {
     "data": {
      "text/plain": [
       "No     1701386\n",
       "Yes     162335\n",
       "Name: bike_share_for_all_trip, dtype: int64"
      ]
     },
     "execution_count": 16,
     "metadata": {},
     "output_type": "execute_result"
    }
   ],
   "source": [
    "biketrips['bike_share_for_all_trip'].value_counts() "
   ]
  },
  {
   "cell_type": "markdown",
   "metadata": {},
   "source": [
    "Some outliers here"
   ]
  },
  {
   "cell_type": "markdown",
   "metadata": {},
   "source": [
    "biketrips['bike_share_for_all_trip'].value_counts()"
   ]
  },
  {
   "cell_type": "markdown",
   "metadata": {},
   "source": [
    "### 1c) Data Wrangling based on the observations"
   ]
  },
  {
   "cell_type": "markdown",
   "metadata": {},
   "source": [
    "#### - Null values for stations id and name\n"
   ]
  },
  {
   "cell_type": "markdown",
   "metadata": {},
   "source": [
    "A very limited number of rows (< 1%) doesn't have the id and name for the start station and end station. In the next session , I will have a closer look at these lines to decide what to do with them."
   ]
  },
  {
   "cell_type": "code",
   "execution_count": 17,
   "metadata": {
    "scrolled": true
   },
   "outputs": [],
   "source": [
    "## Creation of a temporary dataframe with only rows without\n",
    "##start_station (id and name) and end_station (id and name)\n",
    "df_nostation = biketrips[biketrips['start_station_id'].isnull() & biketrips['end_station_id'].isnull()]"
   ]
  },
  {
   "cell_type": "code",
   "execution_count": 18,
   "metadata": {
    "scrolled": false
   },
   "outputs": [
    {
     "data": {
      "text/html": [
       "<div>\n",
       "<style scoped>\n",
       "    .dataframe tbody tr th:only-of-type {\n",
       "        vertical-align: middle;\n",
       "    }\n",
       "\n",
       "    .dataframe tbody tr th {\n",
       "        vertical-align: top;\n",
       "    }\n",
       "\n",
       "    .dataframe thead th {\n",
       "        text-align: right;\n",
       "    }\n",
       "</style>\n",
       "<table border=\"1\" class=\"dataframe\">\n",
       "  <thead>\n",
       "    <tr style=\"text-align: right;\">\n",
       "      <th></th>\n",
       "      <th>duration_sec</th>\n",
       "      <th>start_time</th>\n",
       "      <th>end_time</th>\n",
       "      <th>start_station_id</th>\n",
       "      <th>start_station_name</th>\n",
       "      <th>start_station_latitude</th>\n",
       "      <th>start_station_longitude</th>\n",
       "      <th>end_station_id</th>\n",
       "      <th>end_station_name</th>\n",
       "      <th>end_station_latitude</th>\n",
       "      <th>end_station_longitude</th>\n",
       "      <th>bike_id</th>\n",
       "      <th>user_type</th>\n",
       "      <th>bike_share_for_all_trip</th>\n",
       "    </tr>\n",
       "  </thead>\n",
       "  <tbody>\n",
       "    <tr>\n",
       "      <td>0</td>\n",
       "      <td>79489</td>\n",
       "      <td>2018-11-30 13:40:32.7690</td>\n",
       "      <td>2018-12-01 11:45:21.9720</td>\n",
       "      <td>NaN</td>\n",
       "      <td>NaN</td>\n",
       "      <td>37.42</td>\n",
       "      <td>-121.94</td>\n",
       "      <td>NaN</td>\n",
       "      <td>NaN</td>\n",
       "      <td>37.41</td>\n",
       "      <td>-121.94</td>\n",
       "      <td>4105</td>\n",
       "      <td>Customer</td>\n",
       "      <td>No</td>\n",
       "    </tr>\n",
       "    <tr>\n",
       "      <td>258</td>\n",
       "      <td>392</td>\n",
       "      <td>2018-11-30 21:05:43.9400</td>\n",
       "      <td>2018-11-30 21:12:16.1520</td>\n",
       "      <td>NaN</td>\n",
       "      <td>NaN</td>\n",
       "      <td>37.41</td>\n",
       "      <td>-121.95</td>\n",
       "      <td>NaN</td>\n",
       "      <td>NaN</td>\n",
       "      <td>37.41</td>\n",
       "      <td>-121.94</td>\n",
       "      <td>4181</td>\n",
       "      <td>Subscriber</td>\n",
       "      <td>No</td>\n",
       "    </tr>\n",
       "    <tr>\n",
       "      <td>419</td>\n",
       "      <td>366</td>\n",
       "      <td>2018-11-30 20:07:04.5700</td>\n",
       "      <td>2018-11-30 20:13:10.5990</td>\n",
       "      <td>NaN</td>\n",
       "      <td>NaN</td>\n",
       "      <td>37.41</td>\n",
       "      <td>-121.94</td>\n",
       "      <td>NaN</td>\n",
       "      <td>NaN</td>\n",
       "      <td>37.41</td>\n",
       "      <td>-121.95</td>\n",
       "      <td>4181</td>\n",
       "      <td>Subscriber</td>\n",
       "      <td>No</td>\n",
       "    </tr>\n",
       "    <tr>\n",
       "      <td>546</td>\n",
       "      <td>351</td>\n",
       "      <td>2018-11-30 19:27:46.8680</td>\n",
       "      <td>2018-11-30 19:33:38.4550</td>\n",
       "      <td>NaN</td>\n",
       "      <td>NaN</td>\n",
       "      <td>37.41</td>\n",
       "      <td>-121.95</td>\n",
       "      <td>NaN</td>\n",
       "      <td>NaN</td>\n",
       "      <td>37.41</td>\n",
       "      <td>-121.96</td>\n",
       "      <td>4157</td>\n",
       "      <td>Subscriber</td>\n",
       "      <td>No</td>\n",
       "    </tr>\n",
       "    <tr>\n",
       "      <td>875</td>\n",
       "      <td>309</td>\n",
       "      <td>2018-11-30 18:37:23.5710</td>\n",
       "      <td>2018-11-30 18:42:33.2340</td>\n",
       "      <td>NaN</td>\n",
       "      <td>NaN</td>\n",
       "      <td>37.38</td>\n",
       "      <td>-121.94</td>\n",
       "      <td>NaN</td>\n",
       "      <td>NaN</td>\n",
       "      <td>37.38</td>\n",
       "      <td>-121.93</td>\n",
       "      <td>4147</td>\n",
       "      <td>Subscriber</td>\n",
       "      <td>Yes</td>\n",
       "    </tr>\n",
       "  </tbody>\n",
       "</table>\n",
       "</div>"
      ],
      "text/plain": [
       "     duration_sec                start_time                  end_time  \\\n",
       "0           79489  2018-11-30 13:40:32.7690  2018-12-01 11:45:21.9720   \n",
       "258           392  2018-11-30 21:05:43.9400  2018-11-30 21:12:16.1520   \n",
       "419           366  2018-11-30 20:07:04.5700  2018-11-30 20:13:10.5990   \n",
       "546           351  2018-11-30 19:27:46.8680  2018-11-30 19:33:38.4550   \n",
       "875           309  2018-11-30 18:37:23.5710  2018-11-30 18:42:33.2340   \n",
       "\n",
       "     start_station_id start_station_name  start_station_latitude  \\\n",
       "0                 NaN                NaN                   37.42   \n",
       "258               NaN                NaN                   37.41   \n",
       "419               NaN                NaN                   37.41   \n",
       "546               NaN                NaN                   37.41   \n",
       "875               NaN                NaN                   37.38   \n",
       "\n",
       "     start_station_longitude  end_station_id end_station_name  \\\n",
       "0                    -121.94             NaN              NaN   \n",
       "258                  -121.95             NaN              NaN   \n",
       "419                  -121.94             NaN              NaN   \n",
       "546                  -121.95             NaN              NaN   \n",
       "875                  -121.94             NaN              NaN   \n",
       "\n",
       "     end_station_latitude  end_station_longitude  bike_id   user_type  \\\n",
       "0                   37.41                -121.94     4105    Customer   \n",
       "258                 37.41                -121.94     4181  Subscriber   \n",
       "419                 37.41                -121.95     4181  Subscriber   \n",
       "546                 37.41                -121.96     4157  Subscriber   \n",
       "875                 37.38                -121.93     4147  Subscriber   \n",
       "\n",
       "    bike_share_for_all_trip  \n",
       "0                        No  \n",
       "258                      No  \n",
       "419                      No  \n",
       "546                      No  \n",
       "875                     Yes  "
      ]
     },
     "execution_count": 18,
     "metadata": {},
     "output_type": "execute_result"
    }
   ],
   "source": [
    "df_nostation.head()"
   ]
  },
  {
   "cell_type": "code",
   "execution_count": 19,
   "metadata": {
    "scrolled": true
   },
   "outputs": [
    {
     "data": {
      "text/plain": [
       "11771"
      ]
     },
     "execution_count": 19,
     "metadata": {},
     "output_type": "execute_result"
    }
   ],
   "source": [
    "df_nostation.shape[0]"
   ]
  },
  {
   "cell_type": "code",
   "execution_count": 20,
   "metadata": {
    "scrolled": true
   },
   "outputs": [
    {
     "data": {
      "text/plain": [
       "37.41    4809\n",
       "37.40    4395\n",
       "37.42    1204\n",
       "37.39     822\n",
       "37.38     405\n",
       "37.34      37\n",
       "37.43      23\n",
       "37.37      17\n",
       "37.35      17\n",
       "37.33      17\n",
       "37.36       8\n",
       "45.51       4\n",
       "40.66       3\n",
       "37.44       3\n",
       "37.32       2\n",
       "44.95       2\n",
       "45.50       2\n",
       "37.45       1\n",
       "Name: start_station_latitude, dtype: int64"
      ]
     },
     "execution_count": 20,
     "metadata": {},
     "output_type": "execute_result"
    }
   ],
   "source": [
    "## overview of the different start_stations latitudes in the dataframe without start_stations\n",
    "df_nostation['start_station_latitude'].value_counts()"
   ]
  },
  {
   "cell_type": "markdown",
   "metadata": {},
   "source": [
    "I will pickout the two values with the most number of rows to find out whether they have a value for station_id i the base dataframe biketrips"
   ]
  },
  {
   "cell_type": "code",
   "execution_count": 21,
   "metadata": {},
   "outputs": [
    {
     "data": {
      "text/plain": [
       "Series([], Name: start_station_id, dtype: int64)"
      ]
     },
     "execution_count": 21,
     "metadata": {},
     "output_type": "execute_result"
    }
   ],
   "source": [
    "## to find other lines with the same start station latitude in the base dataframe biketrips\n",
    "df3741 = biketrips[(biketrips['start_station_latitude'] == 37.41) ]\n",
    "df3741['start_station_id'].value_counts()"
   ]
  },
  {
   "cell_type": "code",
   "execution_count": 22,
   "metadata": {},
   "outputs": [
    {
     "data": {
      "text/plain": [
       "Series([], Name: start_station_id, dtype: int64)"
      ]
     },
     "execution_count": 22,
     "metadata": {},
     "output_type": "execute_result"
    }
   ],
   "source": [
    "## to find other lines with the same start station latitude in the base dataframe biketrips\n",
    "df3740 = biketrips[(biketrips['start_station_latitude'] == 37.40) ]\n",
    "df3740['start_station_id'].value_counts()"
   ]
  },
  {
   "cell_type": "markdown",
   "metadata": {},
   "source": [
    "None of the rows with start station latitude 37.40 or 37.41 has a value for start station_id in the original dataframe"
   ]
  },
  {
   "cell_type": "markdown",
   "metadata": {},
   "source": [
    "There doesn't seem to be a way to fill in the missing values in de columns start_station_id and start_station_name.\n",
    "As the number of rows represents only a very small part (0.6%) of the total rows. I Will delete them from the dataframe."
   ]
  },
  {
   "cell_type": "code",
   "execution_count": 23,
   "metadata": {},
   "outputs": [],
   "source": [
    "## delete the lines with a null value in start station id and name\n",
    "biketrips = biketrips[biketrips['start_station_id'].notnull() & biketrips['end_station_id'].notnull()]"
   ]
  },
  {
   "cell_type": "code",
   "execution_count": 24,
   "metadata": {
    "scrolled": true
   },
   "outputs": [
    {
     "data": {
      "text/plain": [
       "(1851950, 14)"
      ]
     },
     "execution_count": 24,
     "metadata": {},
     "output_type": "execute_result"
    }
   ],
   "source": [
    "## number of rows and columns in the new dataframe\n",
    "biketrips.shape"
   ]
  },
  {
   "cell_type": "markdown",
   "metadata": {},
   "source": [
    "#### - Creation of  four extra columns : month ,weekday, hour and weeknumber"
   ]
  },
  {
   "cell_type": "markdown",
   "metadata": {},
   "source": [
    "Because the bike rental frequency, length of the trips, will be analysed per month, per weekday, per hour and weeknumber, it is better to have this information in a separate column"
   ]
  },
  {
   "cell_type": "code",
   "execution_count": 25,
   "metadata": {},
   "outputs": [],
   "source": [
    "biketrips['start_time'] = pd.to_datetime(biketrips['start_time'])\n",
    "biketrips['end_time'] = pd.to_datetime(biketrips['end_time'])"
   ]
  },
  {
   "cell_type": "code",
   "execution_count": 26,
   "metadata": {},
   "outputs": [
    {
     "name": "stdout",
     "output_type": "stream",
     "text": [
      "<class 'pandas.core.frame.DataFrame'>\n",
      "Int64Index: 1851950 entries, 0 to 131168\n",
      "Data columns (total 14 columns):\n",
      "duration_sec               int64\n",
      "start_time                 datetime64[ns]\n",
      "end_time                   datetime64[ns]\n",
      "start_station_id           float64\n",
      "start_station_name         object\n",
      "start_station_latitude     float64\n",
      "start_station_longitude    float64\n",
      "end_station_id             float64\n",
      "end_station_name           object\n",
      "end_station_latitude       float64\n",
      "end_station_longitude      float64\n",
      "bike_id                    int64\n",
      "user_type                  object\n",
      "bike_share_for_all_trip    object\n",
      "dtypes: datetime64[ns](2), float64(6), int64(2), object(4)\n",
      "memory usage: 211.9+ MB\n"
     ]
    }
   ],
   "source": [
    "biketrips.info()"
   ]
  },
  {
   "cell_type": "code",
   "execution_count": 27,
   "metadata": {},
   "outputs": [],
   "source": [
    "## Creation of an extra column weekday\n",
    "biketrips['weekday'] = biketrips['start_time'].dt.dayofweek"
   ]
  },
  {
   "cell_type": "code",
   "execution_count": 28,
   "metadata": {},
   "outputs": [
    {
     "data": {
      "text/plain": [
       "1    317540\n",
       "2    314495\n",
       "3    312258\n",
       "0    292878\n",
       "4    288746\n",
       "5    174140\n",
       "6    151893\n",
       "Name: weekday, dtype: int64"
      ]
     },
     "execution_count": 28,
     "metadata": {},
     "output_type": "execute_result"
    }
   ],
   "source": [
    "## overview of the different possible values (Monday = 0, Sunday = 6)\n",
    "biketrips['weekday'].value_counts()"
   ]
  },
  {
   "cell_type": "code",
   "execution_count": 29,
   "metadata": {},
   "outputs": [],
   "source": [
    "## Creation of an extra column month\n",
    "biketrips['month'] = biketrips['start_time'].dt.month"
   ]
  },
  {
   "cell_type": "code",
   "execution_count": 30,
   "metadata": {},
   "outputs": [
    {
     "data": {
      "text/plain": [
       "10    200102\n",
       "7     196038\n",
       "6     193907\n",
       "8     189250\n",
       "9     184635\n",
       "5     179125\n",
       "11    133651\n",
       "12    131171\n",
       "4     131169\n",
       "3     111382\n",
       "2     106718\n",
       "1      94802\n",
       "Name: month, dtype: int64"
      ]
     },
     "execution_count": 30,
     "metadata": {},
     "output_type": "execute_result"
    }
   ],
   "source": [
    "## overview of the different possible values\n",
    "biketrips['month'].value_counts()"
   ]
  },
  {
   "cell_type": "code",
   "execution_count": 31,
   "metadata": {},
   "outputs": [],
   "source": [
    "## add column months and fill with 3 char based on mont column"
   ]
  },
  {
   "cell_type": "code",
   "execution_count": 32,
   "metadata": {},
   "outputs": [],
   "source": [
    "month_names = [\"Jan\", \"Feb\", \"Mar\", \"Apr\", \"May\", \"Jun\", \"Jul\", \"Aug\", \"Sep\", \"Oct\", \"Nov\", \"Dec\"]\n",
    "biketrips['months'] = biketrips['month'].apply(lambda month: month_names[month-1])\n"
   ]
  },
  {
   "cell_type": "code",
   "execution_count": 33,
   "metadata": {},
   "outputs": [
    {
     "data": {
      "text/plain": [
       "Oct    200102\n",
       "Jul    196038\n",
       "Jun    193907\n",
       "Aug    189250\n",
       "Sep    184635\n",
       "May    179125\n",
       "Nov    133651\n",
       "Dec    131171\n",
       "Apr    131169\n",
       "Mar    111382\n",
       "Feb    106718\n",
       "Jan     94802\n",
       "Name: months, dtype: int64"
      ]
     },
     "execution_count": 33,
     "metadata": {},
     "output_type": "execute_result"
    }
   ],
   "source": [
    "## overview of the different possible values\n",
    "biketrips['months'].value_counts()"
   ]
  },
  {
   "cell_type": "code",
   "execution_count": 34,
   "metadata": {},
   "outputs": [],
   "source": [
    "## Creation of an extra column weeknr\n",
    "biketrips['weeknr'] = biketrips['start_time'].dt.week"
   ]
  },
  {
   "cell_type": "code",
   "execution_count": 35,
   "metadata": {
    "scrolled": false
   },
   "outputs": [
    {
     "data": {
      "text/plain": [
       "28    47373\n",
       "29    46887\n",
       "37    46030\n",
       "39    46028\n",
       "25    45995\n",
       "26    45824\n",
       "30    45790\n",
       "40    45513\n",
       "38    45311\n",
       "42    44907\n",
       "24    44804\n",
       "41    44317\n",
       "23    44248\n",
       "32    44154\n",
       "44    43989\n",
       "43    43619\n",
       "31    42308\n",
       "34    41786\n",
       "33    41373\n",
       "19    41334\n",
       "20    40682\n",
       "35    40560\n",
       "22    40512\n",
       "36    40503\n",
       "45    40281\n",
       "21    39657\n",
       "18    39199\n",
       "27    38737\n",
       "17    36345\n",
       "51    36065\n",
       "50    35449\n",
       "49    33496\n",
       "48    30534\n",
       "13    30360\n",
       "16    29825\n",
       "6     29734\n",
       "15    29682\n",
       "46    29649\n",
       "7     28065\n",
       "5     27955\n",
       "10    27889\n",
       "14    26999\n",
       "12    24413\n",
       "4     23774\n",
       "8     22543\n",
       "11    21871\n",
       "3     21647\n",
       "9     21122\n",
       "2     19548\n",
       "1     19191\n",
       "52    18000\n",
       "47    16073\n",
       "Name: weeknr, dtype: int64"
      ]
     },
     "execution_count": 35,
     "metadata": {},
     "output_type": "execute_result"
    }
   ],
   "source": [
    "## Overview of the different values for weeknr\n",
    "biketrips['weeknr'].value_counts()"
   ]
  },
  {
   "cell_type": "code",
   "execution_count": 36,
   "metadata": {},
   "outputs": [],
   "source": [
    "## Creation of an extra column hour\n",
    "biketrips['hour'] = biketrips['start_time'].dt.hour"
   ]
  },
  {
   "cell_type": "code",
   "execution_count": 37,
   "metadata": {},
   "outputs": [
    {
     "data": {
      "text/plain": [
       "17    218862\n",
       "8     206081\n",
       "18    170124\n",
       "9     160066\n",
       "16    142347\n",
       "19    102765\n",
       "7     101475\n",
       "15     96219\n",
       "12     89340\n",
       "13     87062\n",
       "10     83603\n",
       "14     82670\n",
       "11     78976\n",
       "20     65825\n",
       "21     46466\n",
       "6      36256\n",
       "22     30792\n",
       "23     18510\n",
       "0      10158\n",
       "5      10010\n",
       "1       5841\n",
       "2       3679\n",
       "4       2718\n",
       "3       2105\n",
       "Name: hour, dtype: int64"
      ]
     },
     "execution_count": 37,
     "metadata": {},
     "output_type": "execute_result"
    }
   ],
   "source": [
    "## Overview of the different values for hour\n",
    "biketrips['hour'].value_counts()"
   ]
  },
  {
   "cell_type": "code",
   "execution_count": 38,
   "metadata": {},
   "outputs": [
    {
     "data": {
      "text/plain": [
       "(1851950, 19)"
      ]
     },
     "execution_count": 38,
     "metadata": {},
     "output_type": "execute_result"
    }
   ],
   "source": [
    "biketrips.shape"
   ]
  },
  {
   "cell_type": "code",
   "execution_count": 39,
   "metadata": {},
   "outputs": [
    {
     "data": {
      "text/html": [
       "<div>\n",
       "<style scoped>\n",
       "    .dataframe tbody tr th:only-of-type {\n",
       "        vertical-align: middle;\n",
       "    }\n",
       "\n",
       "    .dataframe tbody tr th {\n",
       "        vertical-align: top;\n",
       "    }\n",
       "\n",
       "    .dataframe thead th {\n",
       "        text-align: right;\n",
       "    }\n",
       "</style>\n",
       "<table border=\"1\" class=\"dataframe\">\n",
       "  <thead>\n",
       "    <tr style=\"text-align: right;\">\n",
       "      <th></th>\n",
       "      <th>duration_sec</th>\n",
       "      <th>start_time</th>\n",
       "      <th>end_time</th>\n",
       "      <th>start_station_id</th>\n",
       "      <th>start_station_name</th>\n",
       "      <th>start_station_latitude</th>\n",
       "      <th>start_station_longitude</th>\n",
       "      <th>end_station_id</th>\n",
       "      <th>end_station_name</th>\n",
       "      <th>end_station_latitude</th>\n",
       "      <th>end_station_longitude</th>\n",
       "      <th>bike_id</th>\n",
       "      <th>user_type</th>\n",
       "      <th>bike_share_for_all_trip</th>\n",
       "      <th>weekday</th>\n",
       "      <th>month</th>\n",
       "      <th>months</th>\n",
       "      <th>weeknr</th>\n",
       "      <th>hour</th>\n",
       "    </tr>\n",
       "  </thead>\n",
       "  <tbody>\n",
       "    <tr>\n",
       "      <td>0</td>\n",
       "      <td>598</td>\n",
       "      <td>2018-02-28 23:59:47.097</td>\n",
       "      <td>2018-03-01 00:09:45.187</td>\n",
       "      <td>284.0</td>\n",
       "      <td>Yerba Buena Center for the Arts (Howard St at ...</td>\n",
       "      <td>37.784872</td>\n",
       "      <td>-122.400876</td>\n",
       "      <td>114.0</td>\n",
       "      <td>Rhode Island St at 17th St</td>\n",
       "      <td>37.764478</td>\n",
       "      <td>-122.402570</td>\n",
       "      <td>1035</td>\n",
       "      <td>Subscriber</td>\n",
       "      <td>No</td>\n",
       "      <td>2</td>\n",
       "      <td>2</td>\n",
       "      <td>Feb</td>\n",
       "      <td>9</td>\n",
       "      <td>23</td>\n",
       "    </tr>\n",
       "    <tr>\n",
       "      <td>1</td>\n",
       "      <td>943</td>\n",
       "      <td>2018-02-28 23:21:16.495</td>\n",
       "      <td>2018-02-28 23:36:59.974</td>\n",
       "      <td>6.0</td>\n",
       "      <td>The Embarcadero at Sansome St</td>\n",
       "      <td>37.804770</td>\n",
       "      <td>-122.403234</td>\n",
       "      <td>324.0</td>\n",
       "      <td>Union Square (Powell St at Post St)</td>\n",
       "      <td>37.788300</td>\n",
       "      <td>-122.408531</td>\n",
       "      <td>1673</td>\n",
       "      <td>Customer</td>\n",
       "      <td>No</td>\n",
       "      <td>2</td>\n",
       "      <td>2</td>\n",
       "      <td>Feb</td>\n",
       "      <td>9</td>\n",
       "      <td>23</td>\n",
       "    </tr>\n",
       "    <tr>\n",
       "      <td>2</td>\n",
       "      <td>18587</td>\n",
       "      <td>2018-02-28 18:20:55.190</td>\n",
       "      <td>2018-02-28 23:30:42.925</td>\n",
       "      <td>93.0</td>\n",
       "      <td>4th St at Mission Bay Blvd S</td>\n",
       "      <td>37.770407</td>\n",
       "      <td>-122.391198</td>\n",
       "      <td>15.0</td>\n",
       "      <td>San Francisco Ferry Building (Harry Bridges Pl...</td>\n",
       "      <td>37.795392</td>\n",
       "      <td>-122.394203</td>\n",
       "      <td>3498</td>\n",
       "      <td>Customer</td>\n",
       "      <td>No</td>\n",
       "      <td>2</td>\n",
       "      <td>2</td>\n",
       "      <td>Feb</td>\n",
       "      <td>9</td>\n",
       "      <td>18</td>\n",
       "    </tr>\n",
       "    <tr>\n",
       "      <td>3</td>\n",
       "      <td>18558</td>\n",
       "      <td>2018-02-28 18:20:53.621</td>\n",
       "      <td>2018-02-28 23:30:12.450</td>\n",
       "      <td>93.0</td>\n",
       "      <td>4th St at Mission Bay Blvd S</td>\n",
       "      <td>37.770407</td>\n",
       "      <td>-122.391198</td>\n",
       "      <td>15.0</td>\n",
       "      <td>San Francisco Ferry Building (Harry Bridges Pl...</td>\n",
       "      <td>37.795392</td>\n",
       "      <td>-122.394203</td>\n",
       "      <td>3129</td>\n",
       "      <td>Customer</td>\n",
       "      <td>No</td>\n",
       "      <td>2</td>\n",
       "      <td>2</td>\n",
       "      <td>Feb</td>\n",
       "      <td>9</td>\n",
       "      <td>18</td>\n",
       "    </tr>\n",
       "    <tr>\n",
       "      <td>4</td>\n",
       "      <td>885</td>\n",
       "      <td>2018-02-28 23:15:12.858</td>\n",
       "      <td>2018-02-28 23:29:58.608</td>\n",
       "      <td>308.0</td>\n",
       "      <td>San Pedro Square</td>\n",
       "      <td>37.336802</td>\n",
       "      <td>-121.894090</td>\n",
       "      <td>297.0</td>\n",
       "      <td>Locust St at Grant St</td>\n",
       "      <td>37.322980</td>\n",
       "      <td>-121.887931</td>\n",
       "      <td>1839</td>\n",
       "      <td>Subscriber</td>\n",
       "      <td>Yes</td>\n",
       "      <td>2</td>\n",
       "      <td>2</td>\n",
       "      <td>Feb</td>\n",
       "      <td>9</td>\n",
       "      <td>23</td>\n",
       "    </tr>\n",
       "  </tbody>\n",
       "</table>\n",
       "</div>"
      ],
      "text/plain": [
       "   duration_sec              start_time                end_time  \\\n",
       "0           598 2018-02-28 23:59:47.097 2018-03-01 00:09:45.187   \n",
       "1           943 2018-02-28 23:21:16.495 2018-02-28 23:36:59.974   \n",
       "2         18587 2018-02-28 18:20:55.190 2018-02-28 23:30:42.925   \n",
       "3         18558 2018-02-28 18:20:53.621 2018-02-28 23:30:12.450   \n",
       "4           885 2018-02-28 23:15:12.858 2018-02-28 23:29:58.608   \n",
       "\n",
       "   start_station_id                                 start_station_name  \\\n",
       "0             284.0  Yerba Buena Center for the Arts (Howard St at ...   \n",
       "1               6.0                      The Embarcadero at Sansome St   \n",
       "2              93.0                       4th St at Mission Bay Blvd S   \n",
       "3              93.0                       4th St at Mission Bay Blvd S   \n",
       "4             308.0                                   San Pedro Square   \n",
       "\n",
       "   start_station_latitude  start_station_longitude  end_station_id  \\\n",
       "0               37.784872              -122.400876           114.0   \n",
       "1               37.804770              -122.403234           324.0   \n",
       "2               37.770407              -122.391198            15.0   \n",
       "3               37.770407              -122.391198            15.0   \n",
       "4               37.336802              -121.894090           297.0   \n",
       "\n",
       "                                    end_station_name  end_station_latitude  \\\n",
       "0                         Rhode Island St at 17th St             37.764478   \n",
       "1                Union Square (Powell St at Post St)             37.788300   \n",
       "2  San Francisco Ferry Building (Harry Bridges Pl...             37.795392   \n",
       "3  San Francisco Ferry Building (Harry Bridges Pl...             37.795392   \n",
       "4                              Locust St at Grant St             37.322980   \n",
       "\n",
       "   end_station_longitude  bike_id   user_type bike_share_for_all_trip  \\\n",
       "0            -122.402570     1035  Subscriber                      No   \n",
       "1            -122.408531     1673    Customer                      No   \n",
       "2            -122.394203     3498    Customer                      No   \n",
       "3            -122.394203     3129    Customer                      No   \n",
       "4            -121.887931     1839  Subscriber                     Yes   \n",
       "\n",
       "   weekday  month months  weeknr  hour  \n",
       "0        2      2    Feb       9    23  \n",
       "1        2      2    Feb       9    23  \n",
       "2        2      2    Feb       9    18  \n",
       "3        2      2    Feb       9    18  \n",
       "4        2      2    Feb       9    23  "
      ]
     },
     "execution_count": 39,
     "metadata": {},
     "output_type": "execute_result"
    }
   ],
   "source": [
    "biketrips.head()"
   ]
  },
  {
   "cell_type": "code",
   "execution_count": 40,
   "metadata": {},
   "outputs": [
    {
     "data": {
      "text/plain": [
       "(1851950, 19)"
      ]
     },
     "execution_count": 40,
     "metadata": {},
     "output_type": "execute_result"
    }
   ],
   "source": [
    "biketrips.shape"
   ]
  },
  {
   "cell_type": "code",
   "execution_count": 41,
   "metadata": {
    "scrolled": true
   },
   "outputs": [
    {
     "name": "stdout",
     "output_type": "stream",
     "text": [
      "<class 'pandas.core.frame.DataFrame'>\n",
      "Int64Index: 1851950 entries, 0 to 131168\n",
      "Data columns (total 19 columns):\n",
      "duration_sec               int64\n",
      "start_time                 datetime64[ns]\n",
      "end_time                   datetime64[ns]\n",
      "start_station_id           float64\n",
      "start_station_name         object\n",
      "start_station_latitude     float64\n",
      "start_station_longitude    float64\n",
      "end_station_id             float64\n",
      "end_station_name           object\n",
      "end_station_latitude       float64\n",
      "end_station_longitude      float64\n",
      "bike_id                    int64\n",
      "user_type                  object\n",
      "bike_share_for_all_trip    object\n",
      "weekday                    int64\n",
      "month                      int64\n",
      "months                     object\n",
      "weeknr                     int64\n",
      "hour                       int64\n",
      "dtypes: datetime64[ns](2), float64(6), int64(6), object(5)\n",
      "memory usage: 282.6+ MB\n"
     ]
    }
   ],
   "source": [
    "biketrips.info()"
   ]
  },
  {
   "cell_type": "markdown",
   "metadata": {},
   "source": [
    "#### - Calculation of the distance of the trips in an extra column"
   ]
  },
  {
   "cell_type": "code",
   "execution_count": 42,
   "metadata": {},
   "outputs": [],
   "source": [
    "## This function is used to calculate the values of the column distance\n",
    "def haversine(lon1, lat1, lon2, lat2):\n",
    "    \"\"\"\n",
    "    Calculate the great circle distance between two points \n",
    "    on the earth (specified in decimal degrees)\n",
    "    \"\"\"\n",
    "    # convert decimal degrees to radians \n",
    "    lon1, lat1, lon2, lat2 = map(radians, [lon1, lat1, lon2, lat2])\n",
    "\n",
    "    # haversine formula \n",
    "    dlon = lon2 - lon1 \n",
    "    dlat = lat2 - lat1 \n",
    "    a = sin(dlat/2)**2 + cos(lat1) * cos(lat2) * sin(dlon/2)**2\n",
    "    c = 2 * asin(sqrt(a)) \n",
    "    r = 6371 # Radius of earth in kilometers. Use 3956 for miles\n",
    "    return c * r\n",
    "\n",
    "\n"
   ]
  },
  {
   "cell_type": "code",
   "execution_count": 43,
   "metadata": {},
   "outputs": [],
   "source": [
    "## a column distance is added with the distance from start_point_station to end_point_station\n",
    "biketrips['distance'] = biketrips[['start_station_longitude','start_station_latitude','end_station_longitude','end_station_latitude']].apply(lambda x:haversine(x[0],x[1],x[2],x[3]), axis = 1)"
   ]
  },
  {
   "cell_type": "code",
   "execution_count": 44,
   "metadata": {
    "scrolled": false
   },
   "outputs": [
    {
     "data": {
      "text/html": [
       "<div>\n",
       "<style scoped>\n",
       "    .dataframe tbody tr th:only-of-type {\n",
       "        vertical-align: middle;\n",
       "    }\n",
       "\n",
       "    .dataframe tbody tr th {\n",
       "        vertical-align: top;\n",
       "    }\n",
       "\n",
       "    .dataframe thead th {\n",
       "        text-align: right;\n",
       "    }\n",
       "</style>\n",
       "<table border=\"1\" class=\"dataframe\">\n",
       "  <thead>\n",
       "    <tr style=\"text-align: right;\">\n",
       "      <th></th>\n",
       "      <th>duration_sec</th>\n",
       "      <th>start_time</th>\n",
       "      <th>end_time</th>\n",
       "      <th>start_station_id</th>\n",
       "      <th>start_station_name</th>\n",
       "      <th>start_station_latitude</th>\n",
       "      <th>start_station_longitude</th>\n",
       "      <th>end_station_id</th>\n",
       "      <th>end_station_name</th>\n",
       "      <th>end_station_latitude</th>\n",
       "      <th>end_station_longitude</th>\n",
       "      <th>bike_id</th>\n",
       "      <th>user_type</th>\n",
       "      <th>bike_share_for_all_trip</th>\n",
       "      <th>weekday</th>\n",
       "      <th>month</th>\n",
       "      <th>months</th>\n",
       "      <th>weeknr</th>\n",
       "      <th>hour</th>\n",
       "      <th>distance</th>\n",
       "    </tr>\n",
       "  </thead>\n",
       "  <tbody>\n",
       "    <tr>\n",
       "      <td>0</td>\n",
       "      <td>598</td>\n",
       "      <td>2018-02-28 23:59:47.097</td>\n",
       "      <td>2018-03-01 00:09:45.187</td>\n",
       "      <td>284.0</td>\n",
       "      <td>Yerba Buena Center for the Arts (Howard St at ...</td>\n",
       "      <td>37.784872</td>\n",
       "      <td>-122.400876</td>\n",
       "      <td>114.0</td>\n",
       "      <td>Rhode Island St at 17th St</td>\n",
       "      <td>37.764478</td>\n",
       "      <td>-122.402570</td>\n",
       "      <td>1035</td>\n",
       "      <td>Subscriber</td>\n",
       "      <td>No</td>\n",
       "      <td>2</td>\n",
       "      <td>2</td>\n",
       "      <td>Feb</td>\n",
       "      <td>9</td>\n",
       "      <td>23</td>\n",
       "      <td>2.272570</td>\n",
       "    </tr>\n",
       "    <tr>\n",
       "      <td>1</td>\n",
       "      <td>943</td>\n",
       "      <td>2018-02-28 23:21:16.495</td>\n",
       "      <td>2018-02-28 23:36:59.974</td>\n",
       "      <td>6.0</td>\n",
       "      <td>The Embarcadero at Sansome St</td>\n",
       "      <td>37.804770</td>\n",
       "      <td>-122.403234</td>\n",
       "      <td>324.0</td>\n",
       "      <td>Union Square (Powell St at Post St)</td>\n",
       "      <td>37.788300</td>\n",
       "      <td>-122.408531</td>\n",
       "      <td>1673</td>\n",
       "      <td>Customer</td>\n",
       "      <td>No</td>\n",
       "      <td>2</td>\n",
       "      <td>2</td>\n",
       "      <td>Feb</td>\n",
       "      <td>9</td>\n",
       "      <td>23</td>\n",
       "      <td>1.889592</td>\n",
       "    </tr>\n",
       "    <tr>\n",
       "      <td>2</td>\n",
       "      <td>18587</td>\n",
       "      <td>2018-02-28 18:20:55.190</td>\n",
       "      <td>2018-02-28 23:30:42.925</td>\n",
       "      <td>93.0</td>\n",
       "      <td>4th St at Mission Bay Blvd S</td>\n",
       "      <td>37.770407</td>\n",
       "      <td>-122.391198</td>\n",
       "      <td>15.0</td>\n",
       "      <td>San Francisco Ferry Building (Harry Bridges Pl...</td>\n",
       "      <td>37.795392</td>\n",
       "      <td>-122.394203</td>\n",
       "      <td>3498</td>\n",
       "      <td>Customer</td>\n",
       "      <td>No</td>\n",
       "      <td>2</td>\n",
       "      <td>2</td>\n",
       "      <td>Feb</td>\n",
       "      <td>9</td>\n",
       "      <td>18</td>\n",
       "      <td>2.790681</td>\n",
       "    </tr>\n",
       "    <tr>\n",
       "      <td>3</td>\n",
       "      <td>18558</td>\n",
       "      <td>2018-02-28 18:20:53.621</td>\n",
       "      <td>2018-02-28 23:30:12.450</td>\n",
       "      <td>93.0</td>\n",
       "      <td>4th St at Mission Bay Blvd S</td>\n",
       "      <td>37.770407</td>\n",
       "      <td>-122.391198</td>\n",
       "      <td>15.0</td>\n",
       "      <td>San Francisco Ferry Building (Harry Bridges Pl...</td>\n",
       "      <td>37.795392</td>\n",
       "      <td>-122.394203</td>\n",
       "      <td>3129</td>\n",
       "      <td>Customer</td>\n",
       "      <td>No</td>\n",
       "      <td>2</td>\n",
       "      <td>2</td>\n",
       "      <td>Feb</td>\n",
       "      <td>9</td>\n",
       "      <td>18</td>\n",
       "      <td>2.790681</td>\n",
       "    </tr>\n",
       "    <tr>\n",
       "      <td>4</td>\n",
       "      <td>885</td>\n",
       "      <td>2018-02-28 23:15:12.858</td>\n",
       "      <td>2018-02-28 23:29:58.608</td>\n",
       "      <td>308.0</td>\n",
       "      <td>San Pedro Square</td>\n",
       "      <td>37.336802</td>\n",
       "      <td>-121.894090</td>\n",
       "      <td>297.0</td>\n",
       "      <td>Locust St at Grant St</td>\n",
       "      <td>37.322980</td>\n",
       "      <td>-121.887931</td>\n",
       "      <td>1839</td>\n",
       "      <td>Subscriber</td>\n",
       "      <td>Yes</td>\n",
       "      <td>2</td>\n",
       "      <td>2</td>\n",
       "      <td>Feb</td>\n",
       "      <td>9</td>\n",
       "      <td>23</td>\n",
       "      <td>1.630598</td>\n",
       "    </tr>\n",
       "  </tbody>\n",
       "</table>\n",
       "</div>"
      ],
      "text/plain": [
       "   duration_sec              start_time                end_time  \\\n",
       "0           598 2018-02-28 23:59:47.097 2018-03-01 00:09:45.187   \n",
       "1           943 2018-02-28 23:21:16.495 2018-02-28 23:36:59.974   \n",
       "2         18587 2018-02-28 18:20:55.190 2018-02-28 23:30:42.925   \n",
       "3         18558 2018-02-28 18:20:53.621 2018-02-28 23:30:12.450   \n",
       "4           885 2018-02-28 23:15:12.858 2018-02-28 23:29:58.608   \n",
       "\n",
       "   start_station_id                                 start_station_name  \\\n",
       "0             284.0  Yerba Buena Center for the Arts (Howard St at ...   \n",
       "1               6.0                      The Embarcadero at Sansome St   \n",
       "2              93.0                       4th St at Mission Bay Blvd S   \n",
       "3              93.0                       4th St at Mission Bay Blvd S   \n",
       "4             308.0                                   San Pedro Square   \n",
       "\n",
       "   start_station_latitude  start_station_longitude  end_station_id  \\\n",
       "0               37.784872              -122.400876           114.0   \n",
       "1               37.804770              -122.403234           324.0   \n",
       "2               37.770407              -122.391198            15.0   \n",
       "3               37.770407              -122.391198            15.0   \n",
       "4               37.336802              -121.894090           297.0   \n",
       "\n",
       "                                    end_station_name  end_station_latitude  \\\n",
       "0                         Rhode Island St at 17th St             37.764478   \n",
       "1                Union Square (Powell St at Post St)             37.788300   \n",
       "2  San Francisco Ferry Building (Harry Bridges Pl...             37.795392   \n",
       "3  San Francisco Ferry Building (Harry Bridges Pl...             37.795392   \n",
       "4                              Locust St at Grant St             37.322980   \n",
       "\n",
       "   end_station_longitude  bike_id   user_type bike_share_for_all_trip  \\\n",
       "0            -122.402570     1035  Subscriber                      No   \n",
       "1            -122.408531     1673    Customer                      No   \n",
       "2            -122.394203     3498    Customer                      No   \n",
       "3            -122.394203     3129    Customer                      No   \n",
       "4            -121.887931     1839  Subscriber                     Yes   \n",
       "\n",
       "   weekday  month months  weeknr  hour  distance  \n",
       "0        2      2    Feb       9    23  2.272570  \n",
       "1        2      2    Feb       9    23  1.889592  \n",
       "2        2      2    Feb       9    18  2.790681  \n",
       "3        2      2    Feb       9    18  2.790681  \n",
       "4        2      2    Feb       9    23  1.630598  "
      ]
     },
     "execution_count": 44,
     "metadata": {},
     "output_type": "execute_result"
    }
   ],
   "source": [
    "biketrips.head()"
   ]
  },
  {
   "cell_type": "code",
   "execution_count": 45,
   "metadata": {},
   "outputs": [
    {
     "data": {
      "text/plain": [
       "count    1.851950e+06\n",
       "mean     1.594331e+00\n",
       "std      1.026884e+00\n",
       "min      0.000000e+00\n",
       "25%      8.705716e-01\n",
       "50%      1.374943e+00\n",
       "75%      2.088456e+00\n",
       "max      6.530925e+01\n",
       "Name: distance, dtype: float64"
      ]
     },
     "execution_count": 45,
     "metadata": {},
     "output_type": "execute_result"
    }
   ],
   "source": [
    "biketrips['distance'].describe()"
   ]
  },
  {
   "cell_type": "code",
   "execution_count": 46,
   "metadata": {
    "scrolled": false
   },
   "outputs": [
    {
     "data": {
      "text/plain": [
       "0.000000    52041\n",
       "1.310345    11380\n",
       "1.413548     8026\n",
       "2.171534     7761\n",
       "1.035589     7710\n",
       "            ...  \n",
       "5.264529        1\n",
       "0.645716        1\n",
       "3.881753        1\n",
       "1.748116        1\n",
       "4.248642        1\n",
       "Name: distance, Length: 18998, dtype: int64"
      ]
     },
     "execution_count": 46,
     "metadata": {},
     "output_type": "execute_result"
    }
   ],
   "source": [
    "biketrips['distance'].value_counts()"
   ]
  },
  {
   "cell_type": "code",
   "execution_count": 47,
   "metadata": {
    "scrolled": true
   },
   "outputs": [
    {
     "data": {
      "text/html": [
       "<div>\n",
       "<style scoped>\n",
       "    .dataframe tbody tr th:only-of-type {\n",
       "        vertical-align: middle;\n",
       "    }\n",
       "\n",
       "    .dataframe tbody tr th {\n",
       "        vertical-align: top;\n",
       "    }\n",
       "\n",
       "    .dataframe thead th {\n",
       "        text-align: right;\n",
       "    }\n",
       "</style>\n",
       "<table border=\"1\" class=\"dataframe\">\n",
       "  <thead>\n",
       "    <tr style=\"text-align: right;\">\n",
       "      <th></th>\n",
       "      <th>duration_sec</th>\n",
       "      <th>start_time</th>\n",
       "      <th>end_time</th>\n",
       "      <th>start_station_id</th>\n",
       "      <th>start_station_name</th>\n",
       "      <th>start_station_latitude</th>\n",
       "      <th>start_station_longitude</th>\n",
       "      <th>end_station_id</th>\n",
       "      <th>end_station_name</th>\n",
       "      <th>end_station_latitude</th>\n",
       "      <th>end_station_longitude</th>\n",
       "      <th>bike_id</th>\n",
       "      <th>user_type</th>\n",
       "      <th>bike_share_for_all_trip</th>\n",
       "      <th>weekday</th>\n",
       "      <th>month</th>\n",
       "      <th>months</th>\n",
       "      <th>weeknr</th>\n",
       "      <th>hour</th>\n",
       "      <th>distance</th>\n",
       "    </tr>\n",
       "  </thead>\n",
       "  <tbody>\n",
       "    <tr>\n",
       "      <td>27</td>\n",
       "      <td>994</td>\n",
       "      <td>2018-02-28 22:17:06.664</td>\n",
       "      <td>2018-02-28 22:33:41.122</td>\n",
       "      <td>235.0</td>\n",
       "      <td>Union St at 10th St</td>\n",
       "      <td>37.807239</td>\n",
       "      <td>-122.289370</td>\n",
       "      <td>235.0</td>\n",
       "      <td>Union St at 10th St</td>\n",
       "      <td>37.807239</td>\n",
       "      <td>-122.289370</td>\n",
       "      <td>1277</td>\n",
       "      <td>Subscriber</td>\n",
       "      <td>No</td>\n",
       "      <td>2</td>\n",
       "      <td>2</td>\n",
       "      <td>Feb</td>\n",
       "      <td>9</td>\n",
       "      <td>22</td>\n",
       "      <td>0.0</td>\n",
       "    </tr>\n",
       "    <tr>\n",
       "      <td>45</td>\n",
       "      <td>910</td>\n",
       "      <td>2018-02-28 21:54:18.773</td>\n",
       "      <td>2018-02-28 22:09:29.363</td>\n",
       "      <td>232.0</td>\n",
       "      <td>MLK Jr Way at 14th St</td>\n",
       "      <td>37.806163</td>\n",
       "      <td>-122.276040</td>\n",
       "      <td>232.0</td>\n",
       "      <td>MLK Jr Way at 14th St</td>\n",
       "      <td>37.806163</td>\n",
       "      <td>-122.276040</td>\n",
       "      <td>1097</td>\n",
       "      <td>Subscriber</td>\n",
       "      <td>No</td>\n",
       "      <td>2</td>\n",
       "      <td>2</td>\n",
       "      <td>Feb</td>\n",
       "      <td>9</td>\n",
       "      <td>21</td>\n",
       "      <td>0.0</td>\n",
       "    </tr>\n",
       "    <tr>\n",
       "      <td>69</td>\n",
       "      <td>1041</td>\n",
       "      <td>2018-02-28 21:34:45.200</td>\n",
       "      <td>2018-02-28 21:52:06.534</td>\n",
       "      <td>296.0</td>\n",
       "      <td>5th St at Virginia St</td>\n",
       "      <td>37.325998</td>\n",
       "      <td>-121.877120</td>\n",
       "      <td>296.0</td>\n",
       "      <td>5th St at Virginia St</td>\n",
       "      <td>37.325998</td>\n",
       "      <td>-121.877120</td>\n",
       "      <td>1091</td>\n",
       "      <td>Subscriber</td>\n",
       "      <td>Yes</td>\n",
       "      <td>2</td>\n",
       "      <td>2</td>\n",
       "      <td>Feb</td>\n",
       "      <td>9</td>\n",
       "      <td>21</td>\n",
       "      <td>0.0</td>\n",
       "    </tr>\n",
       "    <tr>\n",
       "      <td>109</td>\n",
       "      <td>2062</td>\n",
       "      <td>2018-02-28 20:51:08.139</td>\n",
       "      <td>2018-02-28 21:25:31.067</td>\n",
       "      <td>296.0</td>\n",
       "      <td>5th St at Virginia St</td>\n",
       "      <td>37.325998</td>\n",
       "      <td>-121.877120</td>\n",
       "      <td>296.0</td>\n",
       "      <td>5th St at Virginia St</td>\n",
       "      <td>37.325998</td>\n",
       "      <td>-121.877120</td>\n",
       "      <td>47</td>\n",
       "      <td>Subscriber</td>\n",
       "      <td>Yes</td>\n",
       "      <td>2</td>\n",
       "      <td>2</td>\n",
       "      <td>Feb</td>\n",
       "      <td>9</td>\n",
       "      <td>20</td>\n",
       "      <td>0.0</td>\n",
       "    </tr>\n",
       "    <tr>\n",
       "      <td>957</td>\n",
       "      <td>67</td>\n",
       "      <td>2018-02-28 18:01:40.866</td>\n",
       "      <td>2018-02-28 18:02:48.556</td>\n",
       "      <td>256.0</td>\n",
       "      <td>Hearst Ave at Euclid Ave</td>\n",
       "      <td>37.875112</td>\n",
       "      <td>-122.260553</td>\n",
       "      <td>256.0</td>\n",
       "      <td>Hearst Ave at Euclid Ave</td>\n",
       "      <td>37.875112</td>\n",
       "      <td>-122.260553</td>\n",
       "      <td>3513</td>\n",
       "      <td>Subscriber</td>\n",
       "      <td>No</td>\n",
       "      <td>2</td>\n",
       "      <td>2</td>\n",
       "      <td>Feb</td>\n",
       "      <td>9</td>\n",
       "      <td>18</td>\n",
       "      <td>0.0</td>\n",
       "    </tr>\n",
       "  </tbody>\n",
       "</table>\n",
       "</div>"
      ],
      "text/plain": [
       "     duration_sec              start_time                end_time  \\\n",
       "27            994 2018-02-28 22:17:06.664 2018-02-28 22:33:41.122   \n",
       "45            910 2018-02-28 21:54:18.773 2018-02-28 22:09:29.363   \n",
       "69           1041 2018-02-28 21:34:45.200 2018-02-28 21:52:06.534   \n",
       "109          2062 2018-02-28 20:51:08.139 2018-02-28 21:25:31.067   \n",
       "957            67 2018-02-28 18:01:40.866 2018-02-28 18:02:48.556   \n",
       "\n",
       "     start_station_id        start_station_name  start_station_latitude  \\\n",
       "27              235.0       Union St at 10th St               37.807239   \n",
       "45              232.0     MLK Jr Way at 14th St               37.806163   \n",
       "69              296.0     5th St at Virginia St               37.325998   \n",
       "109             296.0     5th St at Virginia St               37.325998   \n",
       "957             256.0  Hearst Ave at Euclid Ave               37.875112   \n",
       "\n",
       "     start_station_longitude  end_station_id          end_station_name  \\\n",
       "27               -122.289370           235.0       Union St at 10th St   \n",
       "45               -122.276040           232.0     MLK Jr Way at 14th St   \n",
       "69               -121.877120           296.0     5th St at Virginia St   \n",
       "109              -121.877120           296.0     5th St at Virginia St   \n",
       "957              -122.260553           256.0  Hearst Ave at Euclid Ave   \n",
       "\n",
       "     end_station_latitude  end_station_longitude  bike_id   user_type  \\\n",
       "27              37.807239            -122.289370     1277  Subscriber   \n",
       "45              37.806163            -122.276040     1097  Subscriber   \n",
       "69              37.325998            -121.877120     1091  Subscriber   \n",
       "109             37.325998            -121.877120       47  Subscriber   \n",
       "957             37.875112            -122.260553     3513  Subscriber   \n",
       "\n",
       "    bike_share_for_all_trip  weekday  month months  weeknr  hour  distance  \n",
       "27                       No        2      2    Feb       9    22       0.0  \n",
       "45                       No        2      2    Feb       9    21       0.0  \n",
       "69                      Yes        2      2    Feb       9    21       0.0  \n",
       "109                     Yes        2      2    Feb       9    20       0.0  \n",
       "957                      No        2      2    Feb       9    18       0.0  "
      ]
     },
     "execution_count": 47,
     "metadata": {},
     "output_type": "execute_result"
    }
   ],
   "source": [
    "## I want to look at the lines with distance zero\n",
    "biketrips[biketrips['distance']==0].head()"
   ]
  },
  {
   "cell_type": "code",
   "execution_count": 48,
   "metadata": {},
   "outputs": [
    {
     "data": {
      "text/plain": [
       "52041"
      ]
     },
     "execution_count": 48,
     "metadata": {},
     "output_type": "execute_result"
    }
   ],
   "source": [
    "## count the rows with zero distance\n",
    "biketrips[biketrips['distance'] == 0].shape[0]"
   ]
  },
  {
   "cell_type": "code",
   "execution_count": 49,
   "metadata": {},
   "outputs": [
    {
     "data": {
      "text/plain": [
       "52041"
      ]
     },
     "execution_count": 49,
     "metadata": {},
     "output_type": "execute_result"
    }
   ],
   "source": [
    "## count the rows with zero distance and start_station equal to end station\n",
    "biketrips[(biketrips['distance'] == 0) & (biketrips['start_station_latitude']\n",
    "                                          == biketrips['end_station_latitude'])].shape[0]"
   ]
  },
  {
   "cell_type": "markdown",
   "metadata": {},
   "source": [
    "The start and end station latitudes and longitudes are indeed the same  for all these lines Most likely, these rentals might be done by tourists who make a roundtrip or by people who forgot something or changed their mind and returned to the starting point very short after they started the trip.\n"
   ]
  },
  {
   "cell_type": "code",
   "execution_count": 50,
   "metadata": {},
   "outputs": [
    {
     "name": "stdout",
     "output_type": "stream",
     "text": [
      "<class 'pandas.core.frame.DataFrame'>\n",
      "Int64Index: 1851950 entries, 0 to 131168\n",
      "Data columns (total 20 columns):\n",
      "duration_sec               int64\n",
      "start_time                 datetime64[ns]\n",
      "end_time                   datetime64[ns]\n",
      "start_station_id           float64\n",
      "start_station_name         object\n",
      "start_station_latitude     float64\n",
      "start_station_longitude    float64\n",
      "end_station_id             float64\n",
      "end_station_name           object\n",
      "end_station_latitude       float64\n",
      "end_station_longitude      float64\n",
      "bike_id                    int64\n",
      "user_type                  object\n",
      "bike_share_for_all_trip    object\n",
      "weekday                    int64\n",
      "month                      int64\n",
      "months                     object\n",
      "weeknr                     int64\n",
      "hour                       int64\n",
      "distance                   float64\n",
      "dtypes: datetime64[ns](2), float64(7), int64(6), object(5)\n",
      "memory usage: 296.7+ MB\n"
     ]
    }
   ],
   "source": [
    "biketrips.info()"
   ]
  },
  {
   "cell_type": "code",
   "execution_count": 51,
   "metadata": {},
   "outputs": [
    {
     "data": {
      "text/plain": [
       "(1851950, 20)"
      ]
     },
     "execution_count": 51,
     "metadata": {},
     "output_type": "execute_result"
    }
   ],
   "source": [
    "biketrips.shape"
   ]
  },
  {
   "cell_type": "markdown",
   "metadata": {},
   "source": [
    "### Conclusion\n",
    "> There are 1.851.950 bike rentals in the data set with 18 features (duration, start_time, end_time, start_station_id, start_station_name,start_station_latitude, start_station_longitude, end_station_id, end_station_name, end_station_latidude, end_station_longitude,bike_id, user_type, weekday, month,months, weeknr, hour, distance). Most variables are numeric in nature (float and int). The start and end time are of the datetime format.\n",
    "\n",
    "\n",
    "> I am interested in figuring out which features are drivers for a bike rental like the hour of the day, day of the week, the month of the year, type of customer. Can we make the same conclusions if we combine two or three of these features ?\n",
    "\n"
   ]
  },
  {
   "cell_type": "markdown",
   "metadata": {},
   "source": [
    "## 2) Univariate Exploration\n",
    "\n",
    "> In this section, I will investigate the distribution of :\n",
    " - Duration of the trips\n",
    " - Biketrips per month\n",
    " - Biketrips per hour\n",
    " - Biketrips per weekday\n",
    " - User type\n",
    " - Bike share\n",
    " - Distance\n",
    "\n"
   ]
  },
  {
   "cell_type": "markdown",
   "metadata": {},
   "source": [
    "#### 2a ) Univariate Exploration - Duration of the trips"
   ]
  },
  {
   "cell_type": "code",
   "execution_count": 52,
   "metadata": {
    "scrolled": false
   },
   "outputs": [
    {
     "data": {
      "image/png": "[encoded data removed]",
      "text/plain": [
       "<Figure size 720x360 with 2 Axes>"
      ]
     },
     "metadata": {
      "needs_background": "light"
     },
     "output_type": "display_data"
    }
   ],
   "source": [
    "fig_duration = plt.figure(figsize = [10,5])\n",
    "\n",
    "## first histogram withlout any adjustments\n",
    "ax_dur_1 = plt.subplot(1, 2, 1)\n",
    "binsize = 500\n",
    "bins = np.arange(0, biketrips['duration_sec'].max()+binsize, binsize)\n",
    "\n",
    "\n",
    "plt.hist(data = biketrips, x = 'duration_sec', bins = bins)\n",
    "plt.xlabel('Duration (sec)')\n",
    "plt.ylabel('Count')\n",
    "\n",
    "## plot of the transformed log data\n",
    "ax_dur_2 = plt.subplot(1, 2, 2)\n",
    "bins = 10 **np.arange(1,4+0.1,0.1)\n",
    "plt.hist(data = biketrips, x = 'duration_sec', bins = bins)\n",
    "plt.xscale('log')\n",
    "plt.xlabel('Duration (sec) - Log Transformed')\n",
    "\n",
    "\n",
    "plt.show()"
   ]
  },
  {
   "cell_type": "markdown",
   "metadata": {},
   "source": [
    "There seems to be an extremely long tail. As we can also see in the base test above, the vast majority of the bike trips doesn't take longer than 15 min (872 sec)"
   ]
  },
  {
   "cell_type": "markdown",
   "metadata": {},
   "source": [
    "I  wil concentrate on the durations of max 30 min (1800 sec). These rows represent about 95 % of the rows of the dataset"
   ]
  },
  {
   "cell_type": "code",
   "execution_count": 53,
   "metadata": {},
   "outputs": [],
   "source": [
    "## number of rows with duration < 30 min\n",
    "dftemp = biketrips[biketrips['duration_sec' ] <=1800]\n",
    "numerator = dftemp.shape[0]"
   ]
  },
  {
   "cell_type": "code",
   "execution_count": 54,
   "metadata": {},
   "outputs": [],
   "source": [
    "\n",
    "denominator = biketrips.shape[0]\n",
    "percent = numerator/denominator"
   ]
  },
  {
   "cell_type": "code",
   "execution_count": 55,
   "metadata": {},
   "outputs": [
    {
     "name": "stdout",
     "output_type": "stream",
     "text": [
      "0.9497097653824347\n"
     ]
    }
   ],
   "source": [
    "## percentage of the trips of max 30 min\n",
    "print(percent)"
   ]
  },
  {
   "cell_type": "code",
   "execution_count": 56,
   "metadata": {
    "scrolled": false
   },
   "outputs": [
    {
     "data": {
      "text/plain": [
       "Text(0.5, 1.0, 'Duration Biketrips (sec)')"
      ]
     },
     "execution_count": 56,
     "metadata": {},
     "output_type": "execute_result"
    },
    {
     "data": {
      "image/png": "[encoded data removed]",
      "text/plain": [
       "<Figure size 432x288 with 1 Axes>"
      ]
     },
     "metadata": {
      "needs_background": "light"
     },
     "output_type": "display_data"
    }
   ],
   "source": [
    "binsize = 60\n",
    "# establish tick locations and create plot\n",
    "\n",
    "tick_props = np.arange(0,1800+ binsize, 180)\n",
    "tick_names = ['{:0.0f}'.format(v) for v in tick_props]\n",
    "bins = np.arange(0,1800 + binsize,binsize )\n",
    "plt.hist(biketrips['duration_sec'], bins = bins)\n",
    "plt.xticks(tick_props , tick_names)\n",
    "plt.xticks (rotation = 15)\n",
    "plt.xlabel('Seconds')\n",
    "plt.title('Duration Biketrips (sec)')"
   ]
  },
  {
   "cell_type": "markdown",
   "metadata": {},
   "source": [
    "The distribution of the duration of the biketrips is almost like a normal distribution on the right hand side of the maximum number of trips. On the left hand side it is very steep. the . The maximum number of biketrips seems to take between 300 seconds and 400 seconds. A very limited number takes a bike for a trip les than 3 min. In that case they probably prefer to walk. Above a duration of 300-400 seconds, the number of bike trips goes gradually down per minute."
   ]
  },
  {
   "cell_type": "markdown",
   "metadata": {},
   "source": [
    "#### 2b) Univariate Exploration -  Activity per weekday"
   ]
  },
  {
   "cell_type": "markdown",
   "metadata": {},
   "source": [
    "In the next session , I will investigate the weekdays "
   ]
  },
  {
   "cell_type": "code",
   "execution_count": 57,
   "metadata": {
    "scrolled": false
   },
   "outputs": [
    {
     "data": {
      "text/plain": [
       "Text(0.5, 1.0, 'Biketrips per Weekday')"
      ]
     },
     "execution_count": 57,
     "metadata": {},
     "output_type": "execute_result"
    },
    {
     "data": {
      "image/png": "[encoded data removed]",
      "text/plain": [
       "<Figure size 432x288 with 1 Axes>"
      ]
     },
     "metadata": {
      "needs_background": "light"
     },
     "output_type": "display_data"
    }
   ],
   "source": [
    "base_color = sb.color_palette()[0]\n",
    "sb.countplot(data = biketrips, x = 'weekday', color = base_color)\n",
    "plt.xlabel('Weekdays')\n",
    "\n",
    "plt.xticks(np.arange(7), ('Mon', 'Tue','Wed','Thu','Fri','Sat','Sun'))\n",
    "\n",
    "plt.title('Biketrips per Weekday')"
   ]
  },
  {
   "cell_type": "markdown",
   "metadata": {},
   "source": [
    ">The midweek days (Tuesday - Thursday) are the most popular days for bike renters, followed by Monday and Friday. On weekends, the bike rentals are approximatively 50 to 60 percent of the bike rentals on working days. Sunday is the least popular day to rent a bike"
   ]
  },
  {
   "cell_type": "markdown",
   "metadata": {},
   "source": [
    "#### 2c) Univariate Exploration -  Activity per Month "
   ]
  },
  {
   "cell_type": "code",
   "execution_count": 58,
   "metadata": {
    "scrolled": true
   },
   "outputs": [
    {
     "data": {
      "text/plain": [
       "Text(0.5, 1.0, 'Biketrips per Month')"
      ]
     },
     "execution_count": 58,
     "metadata": {},
     "output_type": "execute_result"
    },
    {
     "data": {
      "image/png": "[encoded data removed]",
      "text/plain": [
       "<Figure size 432x288 with 1 Axes>"
      ]
     },
     "metadata": {
      "needs_background": "light"
     },
     "output_type": "display_data"
    }
   ],
   "source": [
    "base_color = sb.color_palette()[0]\n",
    "sb.countplot(data = biketrips, x = 'month', color = base_color)\n",
    "plt.xlabel('Months')\n",
    "\n",
    "plt.xticks(np.arange(13), ('Jan', 'Feb','Mar','Apr','May','Jun','Jul','Aug','Sep','Oct','Nov', 'Dec'))\n",
    "\n",
    "plt.title('Biketrips per Month')"
   ]
  },
  {
   "cell_type": "markdown",
   "metadata": {},
   "source": [
    ">The top month for bike renting is , a little bit unexpected, October. October is followed at close range by the summer months (May till September). The least popular month for renting a bike is January. It has only (approximatively) 50% of the bike rentals of October. There is a steep rise in bike rentals from  April toMay and a steep drop from October to November."
   ]
  },
  {
   "cell_type": "markdown",
   "metadata": {},
   "source": [
    "To understand better why October is the top month , we will split out the bike rentals per week."
   ]
  },
  {
   "cell_type": "code",
   "execution_count": 59,
   "metadata": {
    "scrolled": true
   },
   "outputs": [
    {
     "data": {
      "text/plain": [
       "Text(0.5, 1.0, 'Biketrips per Week')"
      ]
     },
     "execution_count": 59,
     "metadata": {},
     "output_type": "execute_result"
    },
    {
     "data": {
      "image/png": "[encoded data removed]",
      "text/plain": [
       "<Figure size 720x360 with 1 Axes>"
      ]
     },
     "metadata": {
      "needs_background": "light"
     },
     "output_type": "display_data"
    }
   ],
   "source": [
    "plt.figure(figsize=[10, 5])\n",
    "base_color = sb.color_palette()[0]\n",
    "#tick_props = np.arange(1,52,1)\n",
    "\n",
    "tick_names = ['{:0.0f}'.format(v) for v in tick_props]\n",
    "sb.countplot(data = biketrips, x = 'weeknr', color = base_color)\n",
    "plt.xlabel('Weeknumber')\n",
    "#plt.xticks(tick_props, tick_names)\n",
    "\n",
    "plt.title('Biketrips per Week')"
   ]
  },
  {
   "cell_type": "markdown",
   "metadata": {},
   "source": [
    ">I notice that week 47 is the week with the least rentals"
   ]
  },
  {
   "cell_type": "code",
   "execution_count": 60,
   "metadata": {
    "scrolled": true
   },
   "outputs": [
    {
     "data": {
      "text/html": [
       "<div>\n",
       "<style scoped>\n",
       "    .dataframe tbody tr th:only-of-type {\n",
       "        vertical-align: middle;\n",
       "    }\n",
       "\n",
       "    .dataframe tbody tr th {\n",
       "        vertical-align: top;\n",
       "    }\n",
       "\n",
       "    .dataframe thead th {\n",
       "        text-align: right;\n",
       "    }\n",
       "</style>\n",
       "<table border=\"1\" class=\"dataframe\">\n",
       "  <thead>\n",
       "    <tr style=\"text-align: right;\">\n",
       "      <th></th>\n",
       "      <th>duration_sec</th>\n",
       "      <th>start_time</th>\n",
       "      <th>end_time</th>\n",
       "      <th>start_station_id</th>\n",
       "      <th>start_station_name</th>\n",
       "      <th>start_station_latitude</th>\n",
       "      <th>start_station_longitude</th>\n",
       "      <th>end_station_id</th>\n",
       "      <th>end_station_name</th>\n",
       "      <th>end_station_latitude</th>\n",
       "      <th>end_station_longitude</th>\n",
       "      <th>bike_id</th>\n",
       "      <th>user_type</th>\n",
       "      <th>bike_share_for_all_trip</th>\n",
       "      <th>weekday</th>\n",
       "      <th>month</th>\n",
       "      <th>months</th>\n",
       "      <th>weeknr</th>\n",
       "      <th>hour</th>\n",
       "      <th>distance</th>\n",
       "    </tr>\n",
       "  </thead>\n",
       "  <tbody>\n",
       "    <tr>\n",
       "      <td>22577</td>\n",
       "      <td>85788</td>\n",
       "      <td>2018-11-25 14:31:42.769</td>\n",
       "      <td>2018-11-26 14:21:30.936</td>\n",
       "      <td>5.0</td>\n",
       "      <td>Powell St BART Station (Market St at 5th St)</td>\n",
       "      <td>37.783899</td>\n",
       "      <td>-122.408445</td>\n",
       "      <td>8.0</td>\n",
       "      <td>The Embarcadero at Vallejo St</td>\n",
       "      <td>37.799953</td>\n",
       "      <td>-122.398525</td>\n",
       "      <td>3158</td>\n",
       "      <td>Subscriber</td>\n",
       "      <td>Yes</td>\n",
       "      <td>6</td>\n",
       "      <td>11</td>\n",
       "      <td>Nov</td>\n",
       "      <td>47</td>\n",
       "      <td>14</td>\n",
       "      <td>1.986537</td>\n",
       "    </tr>\n",
       "    <tr>\n",
       "      <td>25117</td>\n",
       "      <td>50977</td>\n",
       "      <td>2018-11-25 17:19:30.015</td>\n",
       "      <td>2018-11-26 07:29:07.663</td>\n",
       "      <td>245.0</td>\n",
       "      <td>Downtown Berkeley BART</td>\n",
       "      <td>37.870139</td>\n",
       "      <td>-122.268422</td>\n",
       "      <td>250.0</td>\n",
       "      <td>North Berkeley BART Station</td>\n",
       "      <td>37.873558</td>\n",
       "      <td>-122.283093</td>\n",
       "      <td>1577</td>\n",
       "      <td>Customer</td>\n",
       "      <td>No</td>\n",
       "      <td>6</td>\n",
       "      <td>11</td>\n",
       "      <td>Nov</td>\n",
       "      <td>47</td>\n",
       "      <td>17</td>\n",
       "      <td>1.342703</td>\n",
       "    </tr>\n",
       "    <tr>\n",
       "      <td>25402</td>\n",
       "      <td>35644</td>\n",
       "      <td>2018-11-25 18:48:20.026</td>\n",
       "      <td>2018-11-26 04:42:24.190</td>\n",
       "      <td>324.0</td>\n",
       "      <td>Union Square (Powell St at Post St)</td>\n",
       "      <td>37.788300</td>\n",
       "      <td>-122.408531</td>\n",
       "      <td>27.0</td>\n",
       "      <td>Beale St at Harrison St</td>\n",
       "      <td>37.788059</td>\n",
       "      <td>-122.391865</td>\n",
       "      <td>4343</td>\n",
       "      <td>Customer</td>\n",
       "      <td>No</td>\n",
       "      <td>6</td>\n",
       "      <td>11</td>\n",
       "      <td>Nov</td>\n",
       "      <td>47</td>\n",
       "      <td>18</td>\n",
       "      <td>1.464766</td>\n",
       "    </tr>\n",
       "    <tr>\n",
       "      <td>25445</td>\n",
       "      <td>1893</td>\n",
       "      <td>2018-11-25 23:48:01.848</td>\n",
       "      <td>2018-11-26 00:19:35.480</td>\n",
       "      <td>370.0</td>\n",
       "      <td>Jones St at Post St</td>\n",
       "      <td>37.787327</td>\n",
       "      <td>-122.413278</td>\n",
       "      <td>114.0</td>\n",
       "      <td>Rhode Island St at 17th St</td>\n",
       "      <td>37.764478</td>\n",
       "      <td>-122.402570</td>\n",
       "      <td>4409</td>\n",
       "      <td>Subscriber</td>\n",
       "      <td>Yes</td>\n",
       "      <td>6</td>\n",
       "      <td>11</td>\n",
       "      <td>Nov</td>\n",
       "      <td>47</td>\n",
       "      <td>23</td>\n",
       "      <td>2.709346</td>\n",
       "    </tr>\n",
       "    <tr>\n",
       "      <td>25446</td>\n",
       "      <td>1617</td>\n",
       "      <td>2018-11-25 23:52:23.934</td>\n",
       "      <td>2018-11-26 00:19:21.220</td>\n",
       "      <td>52.0</td>\n",
       "      <td>McAllister St at Baker St</td>\n",
       "      <td>37.777416</td>\n",
       "      <td>-122.441838</td>\n",
       "      <td>138.0</td>\n",
       "      <td>Jersey St at Church St</td>\n",
       "      <td>37.750900</td>\n",
       "      <td>-122.427411</td>\n",
       "      <td>3065</td>\n",
       "      <td>Subscriber</td>\n",
       "      <td>No</td>\n",
       "      <td>6</td>\n",
       "      <td>11</td>\n",
       "      <td>Nov</td>\n",
       "      <td>47</td>\n",
       "      <td>23</td>\n",
       "      <td>3.209516</td>\n",
       "    </tr>\n",
       "  </tbody>\n",
       "</table>\n",
       "</div>"
      ],
      "text/plain": [
       "       duration_sec              start_time                end_time  \\\n",
       "22577         85788 2018-11-25 14:31:42.769 2018-11-26 14:21:30.936   \n",
       "25117         50977 2018-11-25 17:19:30.015 2018-11-26 07:29:07.663   \n",
       "25402         35644 2018-11-25 18:48:20.026 2018-11-26 04:42:24.190   \n",
       "25445          1893 2018-11-25 23:48:01.848 2018-11-26 00:19:35.480   \n",
       "25446          1617 2018-11-25 23:52:23.934 2018-11-26 00:19:21.220   \n",
       "\n",
       "       start_station_id                            start_station_name  \\\n",
       "22577               5.0  Powell St BART Station (Market St at 5th St)   \n",
       "25117             245.0                        Downtown Berkeley BART   \n",
       "25402             324.0           Union Square (Powell St at Post St)   \n",
       "25445             370.0                           Jones St at Post St   \n",
       "25446              52.0                     McAllister St at Baker St   \n",
       "\n",
       "       start_station_latitude  start_station_longitude  end_station_id  \\\n",
       "22577               37.783899              -122.408445             8.0   \n",
       "25117               37.870139              -122.268422           250.0   \n",
       "25402               37.788300              -122.408531            27.0   \n",
       "25445               37.787327              -122.413278           114.0   \n",
       "25446               37.777416              -122.441838           138.0   \n",
       "\n",
       "                    end_station_name  end_station_latitude  \\\n",
       "22577  The Embarcadero at Vallejo St             37.799953   \n",
       "25117    North Berkeley BART Station             37.873558   \n",
       "25402        Beale St at Harrison St             37.788059   \n",
       "25445     Rhode Island St at 17th St             37.764478   \n",
       "25446         Jersey St at Church St             37.750900   \n",
       "\n",
       "       end_station_longitude  bike_id   user_type bike_share_for_all_trip  \\\n",
       "22577            -122.398525     3158  Subscriber                     Yes   \n",
       "25117            -122.283093     1577    Customer                      No   \n",
       "25402            -122.391865     4343    Customer                      No   \n",
       "25445            -122.402570     4409  Subscriber                     Yes   \n",
       "25446            -122.427411     3065  Subscriber                      No   \n",
       "\n",
       "       weekday  month months  weeknr  hour  distance  \n",
       "22577        6     11    Nov      47    14  1.986537  \n",
       "25117        6     11    Nov      47    17  1.342703  \n",
       "25402        6     11    Nov      47    18  1.464766  \n",
       "25445        6     11    Nov      47    23  2.709346  \n",
       "25446        6     11    Nov      47    23  3.209516  "
      ]
     },
     "execution_count": 60,
     "metadata": {},
     "output_type": "execute_result"
    }
   ],
   "source": [
    "biketrips47 = biketrips[(biketrips['weeknr']== 47) ]\n",
    "biketrips47.head()"
   ]
  },
  {
   "cell_type": "markdown",
   "metadata": {},
   "source": [
    "> It seems to be the week of Thanksgiving"
   ]
  },
  {
   "cell_type": "code",
   "execution_count": 61,
   "metadata": {
    "scrolled": false
   },
   "outputs": [
    {
     "data": {
      "text/html": [
       "<div>\n",
       "<style scoped>\n",
       "    .dataframe tbody tr th:only-of-type {\n",
       "        vertical-align: middle;\n",
       "    }\n",
       "\n",
       "    .dataframe tbody tr th {\n",
       "        vertical-align: top;\n",
       "    }\n",
       "\n",
       "    .dataframe thead th {\n",
       "        text-align: right;\n",
       "    }\n",
       "</style>\n",
       "<table border=\"1\" class=\"dataframe\">\n",
       "  <thead>\n",
       "    <tr style=\"text-align: right;\">\n",
       "      <th></th>\n",
       "      <th>duration_sec</th>\n",
       "      <th>start_time</th>\n",
       "      <th>end_time</th>\n",
       "      <th>start_station_id</th>\n",
       "      <th>start_station_name</th>\n",
       "      <th>start_station_latitude</th>\n",
       "      <th>start_station_longitude</th>\n",
       "      <th>end_station_id</th>\n",
       "      <th>end_station_name</th>\n",
       "      <th>end_station_latitude</th>\n",
       "      <th>end_station_longitude</th>\n",
       "      <th>bike_id</th>\n",
       "      <th>user_type</th>\n",
       "      <th>bike_share_for_all_trip</th>\n",
       "      <th>weekday</th>\n",
       "      <th>month</th>\n",
       "      <th>months</th>\n",
       "      <th>weeknr</th>\n",
       "      <th>hour</th>\n",
       "      <th>distance</th>\n",
       "    </tr>\n",
       "  </thead>\n",
       "  <tbody>\n",
       "    <tr>\n",
       "      <td>108218</td>\n",
       "      <td>74379</td>\n",
       "      <td>2018-11-04 17:22:41.083</td>\n",
       "      <td>2018-11-05 14:02:20.779</td>\n",
       "      <td>375.0</td>\n",
       "      <td>Grove St at Masonic Ave</td>\n",
       "      <td>37.774836</td>\n",
       "      <td>-122.446546</td>\n",
       "      <td>375.0</td>\n",
       "      <td>Grove St at Masonic Ave</td>\n",
       "      <td>37.774836</td>\n",
       "      <td>-122.446546</td>\n",
       "      <td>1106</td>\n",
       "      <td>Customer</td>\n",
       "      <td>No</td>\n",
       "      <td>6</td>\n",
       "      <td>11</td>\n",
       "      <td>Nov</td>\n",
       "      <td>44</td>\n",
       "      <td>17</td>\n",
       "      <td>0.000000</td>\n",
       "    </tr>\n",
       "    <tr>\n",
       "      <td>109328</td>\n",
       "      <td>63768</td>\n",
       "      <td>2018-11-04 16:07:48.001</td>\n",
       "      <td>2018-11-05 09:50:36.591</td>\n",
       "      <td>122.0</td>\n",
       "      <td>19th St at Mission St</td>\n",
       "      <td>37.760299</td>\n",
       "      <td>-122.418892</td>\n",
       "      <td>66.0</td>\n",
       "      <td>3rd St at Townsend St</td>\n",
       "      <td>37.778742</td>\n",
       "      <td>-122.392741</td>\n",
       "      <td>2648</td>\n",
       "      <td>Customer</td>\n",
       "      <td>No</td>\n",
       "      <td>6</td>\n",
       "      <td>11</td>\n",
       "      <td>Nov</td>\n",
       "      <td>44</td>\n",
       "      <td>16</td>\n",
       "      <td>3.080444</td>\n",
       "    </tr>\n",
       "    <tr>\n",
       "      <td>111762</td>\n",
       "      <td>16145</td>\n",
       "      <td>2018-11-04 21:35:49.914</td>\n",
       "      <td>2018-11-05 02:04:55.171</td>\n",
       "      <td>74.0</td>\n",
       "      <td>Laguna St at Hayes St</td>\n",
       "      <td>37.776435</td>\n",
       "      <td>-122.426244</td>\n",
       "      <td>345.0</td>\n",
       "      <td>Hubbell St at 16th St</td>\n",
       "      <td>37.766474</td>\n",
       "      <td>-122.398295</td>\n",
       "      <td>3924</td>\n",
       "      <td>Subscriber</td>\n",
       "      <td>No</td>\n",
       "      <td>6</td>\n",
       "      <td>11</td>\n",
       "      <td>Nov</td>\n",
       "      <td>44</td>\n",
       "      <td>21</td>\n",
       "      <td>2.694687</td>\n",
       "    </tr>\n",
       "    <tr>\n",
       "      <td>111770</td>\n",
       "      <td>19293</td>\n",
       "      <td>2018-11-04 19:59:40.742</td>\n",
       "      <td>2018-11-05 01:21:14.188</td>\n",
       "      <td>44.0</td>\n",
       "      <td>Civic Center/UN Plaza BART Station (Market St ...</td>\n",
       "      <td>37.781074</td>\n",
       "      <td>-122.411738</td>\n",
       "      <td>22.0</td>\n",
       "      <td>Howard St at Beale St</td>\n",
       "      <td>37.789756</td>\n",
       "      <td>-122.394643</td>\n",
       "      <td>2652</td>\n",
       "      <td>Customer</td>\n",
       "      <td>No</td>\n",
       "      <td>6</td>\n",
       "      <td>11</td>\n",
       "      <td>Nov</td>\n",
       "      <td>44</td>\n",
       "      <td>19</td>\n",
       "      <td>1.785766</td>\n",
       "    </tr>\n",
       "    <tr>\n",
       "      <td>111783</td>\n",
       "      <td>11123</td>\n",
       "      <td>2018-11-04 21:30:37.643</td>\n",
       "      <td>2018-11-05 00:36:01.350</td>\n",
       "      <td>203.0</td>\n",
       "      <td>Webster St at 2nd St</td>\n",
       "      <td>37.795195</td>\n",
       "      <td>-122.273970</td>\n",
       "      <td>237.0</td>\n",
       "      <td>Fruitvale BART Station</td>\n",
       "      <td>37.775232</td>\n",
       "      <td>-122.224498</td>\n",
       "      <td>3577</td>\n",
       "      <td>Customer</td>\n",
       "      <td>No</td>\n",
       "      <td>6</td>\n",
       "      <td>11</td>\n",
       "      <td>Nov</td>\n",
       "      <td>44</td>\n",
       "      <td>21</td>\n",
       "      <td>4.881390</td>\n",
       "    </tr>\n",
       "  </tbody>\n",
       "</table>\n",
       "</div>"
      ],
      "text/plain": [
       "        duration_sec              start_time                end_time  \\\n",
       "108218         74379 2018-11-04 17:22:41.083 2018-11-05 14:02:20.779   \n",
       "109328         63768 2018-11-04 16:07:48.001 2018-11-05 09:50:36.591   \n",
       "111762         16145 2018-11-04 21:35:49.914 2018-11-05 02:04:55.171   \n",
       "111770         19293 2018-11-04 19:59:40.742 2018-11-05 01:21:14.188   \n",
       "111783         11123 2018-11-04 21:30:37.643 2018-11-05 00:36:01.350   \n",
       "\n",
       "        start_station_id                                 start_station_name  \\\n",
       "108218             375.0                            Grove St at Masonic Ave   \n",
       "109328             122.0                              19th St at Mission St   \n",
       "111762              74.0                              Laguna St at Hayes St   \n",
       "111770              44.0  Civic Center/UN Plaza BART Station (Market St ...   \n",
       "111783             203.0                               Webster St at 2nd St   \n",
       "\n",
       "        start_station_latitude  start_station_longitude  end_station_id  \\\n",
       "108218               37.774836              -122.446546           375.0   \n",
       "109328               37.760299              -122.418892            66.0   \n",
       "111762               37.776435              -122.426244           345.0   \n",
       "111770               37.781074              -122.411738            22.0   \n",
       "111783               37.795195              -122.273970           237.0   \n",
       "\n",
       "               end_station_name  end_station_latitude  end_station_longitude  \\\n",
       "108218  Grove St at Masonic Ave             37.774836            -122.446546   \n",
       "109328    3rd St at Townsend St             37.778742            -122.392741   \n",
       "111762    Hubbell St at 16th St             37.766474            -122.398295   \n",
       "111770    Howard St at Beale St             37.789756            -122.394643   \n",
       "111783   Fruitvale BART Station             37.775232            -122.224498   \n",
       "\n",
       "        bike_id   user_type bike_share_for_all_trip  weekday  month months  \\\n",
       "108218     1106    Customer                      No        6     11    Nov   \n",
       "109328     2648    Customer                      No        6     11    Nov   \n",
       "111762     3924  Subscriber                      No        6     11    Nov   \n",
       "111770     2652    Customer                      No        6     11    Nov   \n",
       "111783     3577    Customer                      No        6     11    Nov   \n",
       "\n",
       "        weeknr  hour  distance  \n",
       "108218      44    17  0.000000  \n",
       "109328      44    16  3.080444  \n",
       "111762      44    21  2.694687  \n",
       "111770      44    19  1.785766  \n",
       "111783      44    21  4.881390  "
      ]
     },
     "execution_count": 61,
     "metadata": {},
     "output_type": "execute_result"
    }
   ],
   "source": [
    "##Select only the October weeks\n",
    "biketrips_oct = biketrips[(biketrips['weeknr']>= 40) & (biketrips['weeknr']<= 44)]\n",
    "biketrips_oct.head()"
   ]
  },
  {
   "cell_type": "markdown",
   "metadata": {},
   "source": [
    "I continue  looking at the month October, the month with the most rentals"
   ]
  },
  {
   "cell_type": "code",
   "execution_count": 62,
   "metadata": {
    "scrolled": true
   },
   "outputs": [
    {
     "data": {
      "text/plain": [
       "Text(0.5, 1.0, 'Biketrips per Week (October)')"
      ]
     },
     "execution_count": 62,
     "metadata": {},
     "output_type": "execute_result"
    },
    {
     "data": {
      "image/png": "[encoded data removed]",
      "text/plain": [
       "<Figure size 432x288 with 1 Axes>"
      ]
     },
     "metadata": {
      "needs_background": "light"
     },
     "output_type": "display_data"
    }
   ],
   "source": [
    "\n",
    "base_color = sb.color_palette()[0]\n",
    "tick_names = ['{:0.0f}'.format(v) for v in tick_props]\n",
    "sb.countplot(data = biketrips_oct, x = 'weeknr', color = base_color)\n",
    "plt.xlabel('Weeknumber')\n",
    "plt.title('Biketrips per Week (October)')"
   ]
  },
  {
   "cell_type": "markdown",
   "metadata": {},
   "source": [
    "> In the top month October, there is not a week that jumps out. The bike rentals are more or less equal during the whole month.\n",
    "I will have a look now at the distribution per hour."
   ]
  },
  {
   "cell_type": "markdown",
   "metadata": {},
   "source": [
    "#### d) Univariate Exploration -  Activity per  Hour"
   ]
  },
  {
   "cell_type": "code",
   "execution_count": 63,
   "metadata": {
    "scrolled": false
   },
   "outputs": [
    {
     "data": {
      "text/plain": [
       "Text(0.5, 1.0, 'Biketrips per Week (October)')"
      ]
     },
     "execution_count": 63,
     "metadata": {},
     "output_type": "execute_result"
    },
    {
     "data": {
      "image/png": "[encoded data removed]",
      "text/plain": [
       "<Figure size 432x288 with 1 Axes>"
      ]
     },
     "metadata": {
      "needs_background": "light"
     },
     "output_type": "display_data"
    }
   ],
   "source": [
    "\n",
    "base_color = sb.color_palette()[0]\n",
    "tick_names = ['{:0.0f}'.format(v) for v in tick_props]\n",
    "sb.countplot(data = biketrips, x = 'hour', color = base_color)\n",
    "plt.xlabel('Hour (0-24)')\n",
    "plt.title('Biketrips per Week (October)') "
   ]
  },
  {
   "cell_type": "markdown",
   "metadata": {},
   "source": [
    "> There are clearly two peaks a day. One around 8 am and one around 5 pm. This seems to indicate that most people who rent a bike are people who need it to get to their work place. Unsurprisingly the lowest rental activity is around 3 am."
   ]
  },
  {
   "cell_type": "markdown",
   "metadata": {},
   "source": [
    "#### e) Univariate Exploration -  Bike Share "
   ]
  },
  {
   "cell_type": "code",
   "execution_count": 64,
   "metadata": {},
   "outputs": [
    {
     "data": {
      "text/plain": [
       "No     1690457\n",
       "Yes     161493\n",
       "Name: bike_share_for_all_trip, dtype: int64"
      ]
     },
     "execution_count": 64,
     "metadata": {},
     "output_type": "execute_result"
    }
   ],
   "source": [
    "\n",
    "biketrips['bike_share_for_all_trip'].value_counts() "
   ]
  },
  {
   "cell_type": "code",
   "execution_count": 65,
   "metadata": {},
   "outputs": [
    {
     "data": {
      "text/plain": [
       "Text(0.5, 1.0, 'Bike share for all trip')"
      ]
     },
     "execution_count": 65,
     "metadata": {},
     "output_type": "execute_result"
    },
    {
     "data": {
      "image/png": "[encoded data removed]",
      "text/plain": [
       "<Figure size 432x288 with 1 Axes>"
      ]
     },
     "metadata": {
      "needs_background": "light"
     },
     "output_type": "display_data"
    }
   ],
   "source": [
    "## bar chart showing split between yes and no for bike share\n",
    "base_color = sb.color_palette()[0]\n",
    "sb.countplot(data = biketrips, x = 'bike_share_for_all_trip', color = base_color)\n",
    "cat_counts = biketrips['bike_share_for_all_trip'].value_counts()\n",
    "total_counts = biketrips.shape[0]\n",
    "locs, labels = plt.xticks()\n",
    "## create annotation with the percentage\n",
    "for loc, label in zip(locs, labels):\n",
    "    counts = cat_counts[label.get_text()]\n",
    "    pct_string = '{:0.2f}%'.format(100*counts/total_counts)\n",
    "    plt.text(loc, counts-100000, pct_string, ha = 'center', color = 'w')\n",
    "plt.title('Bike share for all trip')\n",
    "    \n",
    "    \n",
    "\n"
   ]
  },
  {
   "cell_type": "code",
   "execution_count": 66,
   "metadata": {},
   "outputs": [],
   "source": [
    "#### e) Univariate Exploration -   "
   ]
  },
  {
   "cell_type": "markdown",
   "metadata": {},
   "source": [
    "The vast majority (85%) are Subscribers."
   ]
  },
  {
   "cell_type": "markdown",
   "metadata": {},
   "source": [
    "#### g) Univariate Exploration -  Distance"
   ]
  },
  {
   "cell_type": "markdown",
   "metadata": {},
   "source": [
    "finally , I will have a look at the distance of the biketrips. With distance is meant here the distance between the start station and the end station. In a lot of, cases the user will not take the shortest way to the end station."
   ]
  },
  {
   "cell_type": "code",
   "execution_count": 67,
   "metadata": {
    "scrolled": false
   },
   "outputs": [
    {
     "data": {
      "text/plain": [
       "count    1.851950e+06\n",
       "mean     1.594331e+00\n",
       "std      1.026884e+00\n",
       "min      0.000000e+00\n",
       "25%      8.705716e-01\n",
       "50%      1.374943e+00\n",
       "75%      2.088456e+00\n",
       "max      6.530925e+01\n",
       "Name: distance, dtype: float64"
      ]
     },
     "execution_count": 67,
     "metadata": {},
     "output_type": "execute_result"
    }
   ],
   "source": [
    "biketrips['distance'].describe()"
   ]
  },
  {
   "cell_type": "markdown",
   "metadata": {},
   "source": [
    "These are user who stopped the rental at the some location they started it."
   ]
  },
  {
   "cell_type": "code",
   "execution_count": 68,
   "metadata": {
    "scrolled": false
   },
   "outputs": [
    {
     "data": {
      "text/plain": [
       "Text(0.5, 1.0, 'Distance Biketrips in km ')"
      ]
     },
     "execution_count": 68,
     "metadata": {},
     "output_type": "execute_result"
    },
    {
     "data": {
      "image/png": "[encoded data removed]",
      "text/plain": [
       "<Figure size 432x288 with 1 Axes>"
      ]
     },
     "metadata": {
      "needs_background": "light"
     },
     "output_type": "display_data"
    }
   ],
   "source": [
    "binsize = 0.1\n",
    "# establish tick locations and create plot\n",
    "\n",
    "#tick_props = np.arange(0,6.5+ binsize, binsize)\n",
    "tick_names = ['{:0.0f}'.format(v) for v in tick_props]\n",
    "bins = np.arange(0,6.5 + binsize,binsize )\n",
    "plt.hist(biketrips['distance'], bins = bins)\n",
    "#plt.xticks(tick_props , tick_names)\n",
    "\n",
    "plt.xlabel('kilometer')\n",
    "plt.title('Distance Biketrips in km ')"
   ]
  },
  {
   "cell_type": "markdown",
   "metadata": {},
   "source": [
    "Distribution is binomial with a top around 0.5 km and a top around 1.5 km. Some trips take more than 6 km but the vast majority (75%) of the trips is less than 2 km. The high number for zero distance has been explained as users who start and end the rental at the same location."
   ]
  },
  {
   "cell_type": "code",
   "execution_count": 69,
   "metadata": {},
   "outputs": [
    {
     "name": "stdout",
     "output_type": "stream",
     "text": [
      "52041\n",
      "1851950\n",
      "0.028100650665514728\n"
     ]
    }
   ],
   "source": [
    "## calculation of the trips with zero distance\n",
    "zerodistance = biketrips[biketrips['distance']==0].shape[0]\n",
    "print(zerodistance)\n",
    "total  = biketrips.shape[0]\n",
    "print(total)\n",
    "zerodistancepercent = zerodistance/total\n",
    "print(zerodistancepercent)"
   ]
  },
  {
   "cell_type": "markdown",
   "metadata": {},
   "source": [
    "In the next section, I will have a look at the start and end stations"
   ]
  },
  {
   "cell_type": "markdown",
   "metadata": {},
   "source": [
    "first I will plot a general overview of the latitudes"
   ]
  },
  {
   "cell_type": "code",
   "execution_count": 70,
   "metadata": {
    "scrolled": true
   },
   "outputs": [
    {
     "data": {
      "text/plain": [
       "37.795392    38461\n",
       "37.776639    37617\n",
       "37.776598    35092\n",
       "37.776619    34918\n",
       "37.775880    33716\n",
       "             ...  \n",
       "37.784855       20\n",
       "37.729279       17\n",
       "37.778058       14\n",
       "37.782411       11\n",
       "37.347721        6\n",
       "Name: start_station_latitude, Length: 351, dtype: int64"
      ]
     },
     "execution_count": 70,
     "metadata": {},
     "output_type": "execute_result"
    }
   ],
   "source": [
    " biketrips['start_station_latitude'].value_counts()"
   ]
  },
  {
   "cell_type": "code",
   "execution_count": 71,
   "metadata": {},
   "outputs": [
    {
     "data": {
      "text/plain": [
       "count    1.851950e+06\n",
       "mean     3.776904e+01\n",
       "std      1.007719e-01\n",
       "min      3.726331e+01\n",
       "25%      3.777106e+01\n",
       "50%      3.778107e+01\n",
       "75%      3.779728e+01\n",
       "max      3.788022e+01\n",
       "Name: start_station_latitude, dtype: float64"
      ]
     },
     "execution_count": 71,
     "metadata": {},
     "output_type": "execute_result"
    }
   ],
   "source": [
    "biketrips['start_station_latitude'].describe()"
   ]
  },
  {
   "cell_type": "code",
   "execution_count": 72,
   "metadata": {},
   "outputs": [],
   "source": [
    "##biketrips = biketrips[biketrips['start_station_latitude'] > 37.60]"
   ]
  },
  {
   "cell_type": "markdown",
   "metadata": {},
   "source": [
    "Now, I will have a more detailed look at the distribution of the latitudes"
   ]
  },
  {
   "cell_type": "code",
   "execution_count": 73,
   "metadata": {
    "scrolled": true
   },
   "outputs": [
    {
     "data": {
      "text/plain": [
       "Text(0.5, 1.0, 'Start Stations Latitude ')"
      ]
     },
     "execution_count": 73,
     "metadata": {},
     "output_type": "execute_result"
    },
    {
     "data": {
      "image/png": "[encoded data removed]",
      "text/plain": [
       "<Figure size 720x360 with 1 Axes>"
      ]
     },
     "metadata": {
      "needs_background": "light"
     },
     "output_type": "display_data"
    }
   ],
   "source": [
    "# First Graph : Start Stations\n",
    "max_props = biketrips['start_station_latitude'].max()\n",
    "min_props = biketrips['start_station_latitude'].min()\n",
    "\n",
    "fig1a = plt.figure(figsize = (10,5))\n",
    "\n",
    "\n",
    "binsize = 0.01\n",
    "# establish tick locations and create plot\n",
    "\n",
    "\n",
    "tick_props = np.arange(min_props,max_props + binsize, binsize*5)\n",
    "tick_names = ['{:0.2f}'.format(v) for v in tick_props]\n",
    "bins = np.arange(min_props,max_props + binsize, binsize)\n",
    "plt.hist(biketrips['start_station_latitude'], bins = bins)\n",
    "\n",
    "plt.xticks(tick_props , tick_names)\n",
    "plt.xlabel('Latitude')\n",
    "plt.xticks (rotation = 15)\n",
    "plt.title('Start Stations Latitude ')\n",
    "\n"
   ]
  },
  {
   "cell_type": "code",
   "execution_count": 74,
   "metadata": {},
   "outputs": [
    {
     "data": {
      "text/plain": [
       "Text(0.5, 1.0, 'End Stations Latitude ')"
      ]
     },
     "execution_count": 74,
     "metadata": {},
     "output_type": "execute_result"
    },
    {
     "data": {
      "image/png": "[encoded data removed]",
      "text/plain": [
       "<Figure size 720x360 with 1 Axes>"
      ]
     },
     "metadata": {
      "needs_background": "light"
     },
     "output_type": "display_data"
    }
   ],
   "source": [
    "# Second Graph : End Stations\n",
    "\n",
    "max_props = biketrips['start_station_latitude'].max()\n",
    "min_props = biketrips['start_station_latitude'].min()\n",
    "\n",
    "binsize = 0.01\n",
    "#establish tick locations and create plot\n",
    "fig1b = plt.figure(figsize = (10,5))\n",
    "\n",
    "tick_props = np.arange(min_props,max_props + binsize, binsize * 5)\n",
    "tick_names = ['{:0.2f}'.format(v) for v in tick_props]\n",
    "bins = np.arange(min_props,max_props + binsize, binsize)\n",
    "plt.hist(biketrips['end_station_latitude'], bins = bins)\n",
    "\n",
    "plt.xticks(tick_props , tick_names)\n",
    "plt.xlabel('Latitude')\n",
    "plt.xticks (rotation = 15)\n",
    "plt.title('End Stations Latitude ')"
   ]
  },
  {
   "cell_type": "markdown",
   "metadata": {},
   "source": [
    "Bigger, northern distribution : Unsurprisingly, these distrubution are the more or less identical. The distributions are binomial (with some imagination) with a very large peak around 37.77 degrees and a much smaller one around 37.86 degrees."
   ]
  },
  {
   "cell_type": "markdown",
   "metadata": {},
   "source": [
    "Now I will have a look at the longitudes"
   ]
  },
  {
   "cell_type": "code",
   "execution_count": 75,
   "metadata": {
    "scrolled": true
   },
   "outputs": [
    {
     "data": {
      "text/plain": [
       "-122.394203    38461\n",
       "-122.395526    37617\n",
       "-122.395282    35092\n",
       "-122.417385    34918\n",
       "-122.393170    33716\n",
       "               ...  \n",
       "-122.239305       20\n",
       "-122.392896       17\n",
       "-122.225400       14\n",
       "-122.392706       11\n",
       "-121.890856        6\n",
       "Name: start_station_longitude, Length: 351, dtype: int64"
      ]
     },
     "execution_count": 75,
     "metadata": {},
     "output_type": "execute_result"
    }
   ],
   "source": [
    "biketrips['start_station_longitude'].value_counts()"
   ]
  },
  {
   "cell_type": "code",
   "execution_count": 76,
   "metadata": {},
   "outputs": [
    {
     "data": {
      "text/plain": [
       "count    1.851950e+06\n",
       "mean    -1.223521e+02\n",
       "std      1.186128e-01\n",
       "min     -1.224737e+02\n",
       "25%     -1.224116e+02\n",
       "50%     -1.223974e+02\n",
       "75%     -1.222894e+02\n",
       "max     -1.218333e+02\n",
       "Name: start_station_longitude, dtype: float64"
      ]
     },
     "execution_count": 76,
     "metadata": {},
     "output_type": "execute_result"
    }
   ],
   "source": [
    "biketrips['start_station_longitude'].describe()"
   ]
  },
  {
   "cell_type": "code",
   "execution_count": 77,
   "metadata": {
    "scrolled": true
   },
   "outputs": [
    {
     "data": {
      "text/plain": [
       "Text(0.5, 1.0, 'Start Stations Longitude ')"
      ]
     },
     "execution_count": 77,
     "metadata": {},
     "output_type": "execute_result"
    },
    {
     "data": {
      "image/png": "[encoded data removed]",
      "text/plain": [
       "<Figure size 720x360 with 1 Axes>"
      ]
     },
     "metadata": {
      "needs_background": "light"
     },
     "output_type": "display_data"
    }
   ],
   "source": [
    "# Third Graph : Longitude start stations\n",
    "\n",
    "max_props = biketrips['start_station_longitude'].max()\n",
    "min_props = biketrips['start_station_longitude'].min()\n",
    "\n",
    "binsize = 0.01\n",
    "#establish tick locations and create plot\n",
    "fig1b = plt.figure(figsize = (10,5))\n",
    "\n",
    "tick_props = np.arange(min_props,max_props + binsize, binsize * 5)\n",
    "tick_names = ['{:0.2f}'.format(v) for v in tick_props]\n",
    "bins = np.arange(min_props,max_props + binsize, binsize)\n",
    "plt.hist(biketrips['start_station_longitude'], bins = bins)\n",
    "\n",
    "plt.xticks(tick_props , tick_names)\n",
    "plt.xlabel('Longiitude')\n",
    "plt.xticks (rotation = 15)\n",
    "plt.title('Start Stations Longitude ')\n",
    "\n"
   ]
  },
  {
   "cell_type": "code",
   "execution_count": 78,
   "metadata": {
    "scrolled": true
   },
   "outputs": [
    {
     "data": {
      "text/plain": [
       "Text(0.5, 1.0, 'End Stations Longitude ')"
      ]
     },
     "execution_count": 78,
     "metadata": {},
     "output_type": "execute_result"
    },
    {
     "data": {
      "image/png": "[encoded data removed]",
      "text/plain": [
       "<Figure size 720x360 with 1 Axes>"
      ]
     },
     "metadata": {
      "needs_background": "light"
     },
     "output_type": "display_data"
    }
   ],
   "source": [
    "# Fourth Graph :Longitude end stations\n",
    "\n",
    "max_props = biketrips['end_station_longitude'].max()\n",
    "min_props = biketrips['end_station_longitude'].min()\n",
    "\n",
    "binsize = 0.01\n",
    "#establish tick locations and create plot\n",
    "fig1b = plt.figure(figsize = (10,5))\n",
    "\n",
    "tick_props = np.arange(min_props,max_props + binsize, binsize * 5)\n",
    "tick_names = ['{:0.2f}'.format(v) for v in tick_props]\n",
    "bins = np.arange(min_props,max_props + binsize, binsize)\n",
    "plt.hist(biketrips['end_station_longitude'], bins = bins)\n",
    "\n",
    "plt.xticks(tick_props , tick_names)\n",
    "plt.xlabel('Longitude')\n",
    "plt.xticks (rotation = 15)\n",
    "plt.title('End Stations Longitude ')"
   ]
  },
  {
   "cell_type": "markdown",
   "metadata": {},
   "source": [
    "It could be innteresting to explore the other features per area. I will add an extra column which contains a code that indicates the start area and a second column that indicates the end area."
   ]
  },
  {
   "cell_type": "markdown",
   "metadata": {},
   "source": [
    "#### - Defining the Start Area"
   ]
  },
  {
   "cell_type": "markdown",
   "metadata": {},
   "source": [
    "First I will start with the nort and south area"
   ]
  },
  {
   "cell_type": "code",
   "execution_count": 79,
   "metadata": {},
   "outputs": [],
   "source": [
    "## Fill the column nort_south with the value according to the latitude\n",
    "criteria = [biketrips['start_station_latitude'].between(37.26, 37.56),\n",
    "            biketrips['start_station_latitude'].between(37.57, 37.90)]\n",
    "values = ['S','N']\n",
    "\n",
    "biketrips['north_south'] = np.select(criteria, values, 0)"
   ]
  },
  {
   "cell_type": "code",
   "execution_count": 80,
   "metadata": {},
   "outputs": [
    {
     "data": {
      "text/plain": [
       "N    1764464\n",
       "S      87486\n",
       "Name: north_south, dtype: int64"
      ]
     },
     "execution_count": 80,
     "metadata": {},
     "output_type": "execute_result"
    }
   ],
   "source": [
    "biketrips['north_south'].value_counts()"
   ]
  },
  {
   "cell_type": "code",
   "execution_count": 81,
   "metadata": {},
   "outputs": [],
   "source": [
    "## Fill the column east_west with the value according to the longitude\n",
    "criteria = [biketrips['start_station_longitude'].between(-122.50, -122.35),\n",
    "            biketrips['start_station_longitude'].between(-122.34, -121.80)]\n",
    "values = ['W','E']\n",
    "\n",
    "biketrips['east_west'] = np.select(criteria, values, 0)"
   ]
  },
  {
   "cell_type": "code",
   "execution_count": 82,
   "metadata": {},
   "outputs": [
    {
     "data": {
      "text/plain": [
       "W    1362601\n",
       "E     489349\n",
       "Name: east_west, dtype: int64"
      ]
     },
     "execution_count": 82,
     "metadata": {},
     "output_type": "execute_result"
    }
   ],
   "source": [
    "biketrips['east_west'].value_counts()"
   ]
  },
  {
   "cell_type": "code",
   "execution_count": 83,
   "metadata": {},
   "outputs": [],
   "source": [
    "## Finally, I create a colummn aera which combines the nort_south and east_west_column\n",
    "biketrips['start_area'] = biketrips['north_south'] + biketrips['east_west']"
   ]
  },
  {
   "cell_type": "code",
   "execution_count": 84,
   "metadata": {},
   "outputs": [
    {
     "data": {
      "text/plain": [
       "NW    1362601\n",
       "NE     401863\n",
       "SE      87486\n",
       "Name: start_area, dtype: int64"
      ]
     },
     "execution_count": 84,
     "metadata": {},
     "output_type": "execute_result"
    }
   ],
   "source": [
    "biketrips['start_area'].value_counts()"
   ]
  },
  {
   "cell_type": "markdown",
   "metadata": {},
   "source": [
    "More to the east, there is a second and even a third, much smaller cluster. Between the three cluters there are no bike rental stations.\n",
    "Bigger, western distribution : Absolute maximum of end stations around -122.40"
   ]
  },
  {
   "cell_type": "markdown",
   "metadata": {},
   "source": [
    "#### - Defining the End Area"
   ]
  },
  {
   "cell_type": "markdown",
   "metadata": {},
   "source": [
    "Again, I will start with the north and south area"
   ]
  },
  {
   "cell_type": "code",
   "execution_count": 85,
   "metadata": {},
   "outputs": [],
   "source": [
    "## Fill the column nort_south with the value according to the latitude\n",
    "criteria = [biketrips['end_station_latitude'].between(37.26, 37.56),\n",
    "            biketrips['end_station_latitude'].between(37.57, 37.90)]\n",
    "values = ['S','N']\n",
    "\n",
    "biketrips['north_south_end'] = np.select(criteria, values, 0)"
   ]
  },
  {
   "cell_type": "code",
   "execution_count": 86,
   "metadata": {},
   "outputs": [
    {
     "data": {
      "text/plain": [
       "N    1764463\n",
       "S      87487\n",
       "Name: north_south_end, dtype: int64"
      ]
     },
     "execution_count": 86,
     "metadata": {},
     "output_type": "execute_result"
    }
   ],
   "source": [
    "biketrips['north_south_end'].value_counts()"
   ]
  },
  {
   "cell_type": "code",
   "execution_count": 87,
   "metadata": {},
   "outputs": [],
   "source": [
    "## Fill the column east_west with the value according to the longitude\n",
    "criteria = [biketrips['end_station_longitude'].between(-122.50, -122.35),\n",
    "            biketrips['end_station_longitude'].between(-122.34, -121.80)]\n",
    "values = ['W','E']\n",
    "\n",
    "biketrips['east_west_end'] = np.select(criteria, values, 0)"
   ]
  },
  {
   "cell_type": "code",
   "execution_count": 88,
   "metadata": {},
   "outputs": [
    {
     "data": {
      "text/plain": [
       "W    1362641\n",
       "E     489309\n",
       "Name: east_west_end, dtype: int64"
      ]
     },
     "execution_count": 88,
     "metadata": {},
     "output_type": "execute_result"
    }
   ],
   "source": [
    "biketrips['east_west_end'].value_counts()"
   ]
  },
  {
   "cell_type": "code",
   "execution_count": 89,
   "metadata": {},
   "outputs": [],
   "source": [
    "## Finally, I create a colummn end_aera which combines the nort_south and east_west_column\n",
    "biketrips['end_area'] = biketrips['north_south_end'] + biketrips['east_west_end']"
   ]
  },
  {
   "cell_type": "code",
   "execution_count": 90,
   "metadata": {},
   "outputs": [],
   "source": [
    "## Calculation of the inter-area trips\n",
    "int_biketrips = biketrips[biketrips['start_area']!= biketrips['end_area']]"
   ]
  },
  {
   "cell_type": "code",
   "execution_count": 91,
   "metadata": {},
   "outputs": [
    {
     "data": {
      "text/plain": [
       "96"
      ]
     },
     "execution_count": 91,
     "metadata": {},
     "output_type": "execute_result"
    }
   ],
   "source": [
    "int_biketrips.shape[0]"
   ]
  },
  {
   "cell_type": "code",
   "execution_count": 92,
   "metadata": {},
   "outputs": [
    {
     "data": {
      "text/html": [
       "<div>\n",
       "<style scoped>\n",
       "    .dataframe tbody tr th:only-of-type {\n",
       "        vertical-align: middle;\n",
       "    }\n",
       "\n",
       "    .dataframe tbody tr th {\n",
       "        vertical-align: top;\n",
       "    }\n",
       "\n",
       "    .dataframe thead th {\n",
       "        text-align: right;\n",
       "    }\n",
       "</style>\n",
       "<table border=\"1\" class=\"dataframe\">\n",
       "  <thead>\n",
       "    <tr style=\"text-align: right;\">\n",
       "      <th></th>\n",
       "      <th>duration_sec</th>\n",
       "      <th>start_time</th>\n",
       "      <th>end_time</th>\n",
       "      <th>start_station_id</th>\n",
       "      <th>start_station_name</th>\n",
       "      <th>start_station_latitude</th>\n",
       "      <th>start_station_longitude</th>\n",
       "      <th>end_station_id</th>\n",
       "      <th>end_station_name</th>\n",
       "      <th>end_station_latitude</th>\n",
       "      <th>...</th>\n",
       "      <th>months</th>\n",
       "      <th>weeknr</th>\n",
       "      <th>hour</th>\n",
       "      <th>distance</th>\n",
       "      <th>north_south</th>\n",
       "      <th>east_west</th>\n",
       "      <th>start_area</th>\n",
       "      <th>north_south_end</th>\n",
       "      <th>east_west_end</th>\n",
       "      <th>end_area</th>\n",
       "    </tr>\n",
       "  </thead>\n",
       "  <tbody>\n",
       "    <tr>\n",
       "      <td>33277</td>\n",
       "      <td>5502</td>\n",
       "      <td>2018-02-19 14:57:39.499</td>\n",
       "      <td>2018-02-19 16:29:22.328</td>\n",
       "      <td>148.0</td>\n",
       "      <td>Horton St at 40th St</td>\n",
       "      <td>37.829705</td>\n",
       "      <td>-122.287610</td>\n",
       "      <td>28.0</td>\n",
       "      <td>The Embarcadero at Bryant St</td>\n",
       "      <td>37.787168</td>\n",
       "      <td>...</td>\n",
       "      <td>Feb</td>\n",
       "      <td>8</td>\n",
       "      <td>14</td>\n",
       "      <td>10.015212</td>\n",
       "      <td>N</td>\n",
       "      <td>E</td>\n",
       "      <td>NE</td>\n",
       "      <td>N</td>\n",
       "      <td>W</td>\n",
       "      <td>NW</td>\n",
       "    </tr>\n",
       "    <tr>\n",
       "      <td>33279</td>\n",
       "      <td>5499</td>\n",
       "      <td>2018-02-19 14:57:39.675</td>\n",
       "      <td>2018-02-19 16:29:19.406</td>\n",
       "      <td>148.0</td>\n",
       "      <td>Horton St at 40th St</td>\n",
       "      <td>37.829705</td>\n",
       "      <td>-122.287610</td>\n",
       "      <td>28.0</td>\n",
       "      <td>The Embarcadero at Bryant St</td>\n",
       "      <td>37.787168</td>\n",
       "      <td>...</td>\n",
       "      <td>Feb</td>\n",
       "      <td>8</td>\n",
       "      <td>14</td>\n",
       "      <td>10.015212</td>\n",
       "      <td>N</td>\n",
       "      <td>E</td>\n",
       "      <td>NE</td>\n",
       "      <td>N</td>\n",
       "      <td>W</td>\n",
       "      <td>NW</td>\n",
       "    </tr>\n",
       "    <tr>\n",
       "      <td>43330</td>\n",
       "      <td>5008</td>\n",
       "      <td>2018-02-15 19:49:36.539</td>\n",
       "      <td>2018-02-15 21:13:04.951</td>\n",
       "      <td>93.0</td>\n",
       "      <td>4th St at Mission Bay Blvd S</td>\n",
       "      <td>37.770407</td>\n",
       "      <td>-122.391198</td>\n",
       "      <td>219.0</td>\n",
       "      <td>Marston Campbell Park</td>\n",
       "      <td>37.809824</td>\n",
       "      <td>...</td>\n",
       "      <td>Feb</td>\n",
       "      <td>7</td>\n",
       "      <td>19</td>\n",
       "      <td>10.693862</td>\n",
       "      <td>N</td>\n",
       "      <td>W</td>\n",
       "      <td>NW</td>\n",
       "      <td>N</td>\n",
       "      <td>E</td>\n",
       "      <td>NE</td>\n",
       "    </tr>\n",
       "    <tr>\n",
       "      <td>87711</td>\n",
       "      <td>3194</td>\n",
       "      <td>2018-02-05 23:25:31.577</td>\n",
       "      <td>2018-02-06 00:18:46.446</td>\n",
       "      <td>23.0</td>\n",
       "      <td>The Embarcadero at Steuart St</td>\n",
       "      <td>37.791464</td>\n",
       "      <td>-122.391034</td>\n",
       "      <td>243.0</td>\n",
       "      <td>Bancroft Way at College Ave</td>\n",
       "      <td>37.869360</td>\n",
       "      <td>...</td>\n",
       "      <td>Feb</td>\n",
       "      <td>6</td>\n",
       "      <td>23</td>\n",
       "      <td>14.803843</td>\n",
       "      <td>N</td>\n",
       "      <td>W</td>\n",
       "      <td>NW</td>\n",
       "      <td>N</td>\n",
       "      <td>E</td>\n",
       "      <td>NE</td>\n",
       "    </tr>\n",
       "    <tr>\n",
       "      <td>90964</td>\n",
       "      <td>2031</td>\n",
       "      <td>2018-02-05 09:09:45.487</td>\n",
       "      <td>2018-02-05 09:43:36.922</td>\n",
       "      <td>191.0</td>\n",
       "      <td>Market St at 40th St</td>\n",
       "      <td>37.830545</td>\n",
       "      <td>-122.273937</td>\n",
       "      <td>21.0</td>\n",
       "      <td>Montgomery St BART Station (Market St at 2nd St)</td>\n",
       "      <td>37.789625</td>\n",
       "      <td>...</td>\n",
       "      <td>Feb</td>\n",
       "      <td>6</td>\n",
       "      <td>9</td>\n",
       "      <td>12.038780</td>\n",
       "      <td>N</td>\n",
       "      <td>E</td>\n",
       "      <td>NE</td>\n",
       "      <td>N</td>\n",
       "      <td>W</td>\n",
       "      <td>NW</td>\n",
       "    </tr>\n",
       "  </tbody>\n",
       "</table>\n",
       "<p>5 rows × 26 columns</p>\n",
       "</div>"
      ],
      "text/plain": [
       "       duration_sec              start_time                end_time  \\\n",
       "33277          5502 2018-02-19 14:57:39.499 2018-02-19 16:29:22.328   \n",
       "33279          5499 2018-02-19 14:57:39.675 2018-02-19 16:29:19.406   \n",
       "43330          5008 2018-02-15 19:49:36.539 2018-02-15 21:13:04.951   \n",
       "87711          3194 2018-02-05 23:25:31.577 2018-02-06 00:18:46.446   \n",
       "90964          2031 2018-02-05 09:09:45.487 2018-02-05 09:43:36.922   \n",
       "\n",
       "       start_station_id             start_station_name  \\\n",
       "33277             148.0           Horton St at 40th St   \n",
       "33279             148.0           Horton St at 40th St   \n",
       "43330              93.0   4th St at Mission Bay Blvd S   \n",
       "87711              23.0  The Embarcadero at Steuart St   \n",
       "90964             191.0           Market St at 40th St   \n",
       "\n",
       "       start_station_latitude  start_station_longitude  end_station_id  \\\n",
       "33277               37.829705              -122.287610            28.0   \n",
       "33279               37.829705              -122.287610            28.0   \n",
       "43330               37.770407              -122.391198           219.0   \n",
       "87711               37.791464              -122.391034           243.0   \n",
       "90964               37.830545              -122.273937            21.0   \n",
       "\n",
       "                                       end_station_name  end_station_latitude  \\\n",
       "33277                      The Embarcadero at Bryant St             37.787168   \n",
       "33279                      The Embarcadero at Bryant St             37.787168   \n",
       "43330                             Marston Campbell Park             37.809824   \n",
       "87711                       Bancroft Way at College Ave             37.869360   \n",
       "90964  Montgomery St BART Station (Market St at 2nd St)             37.789625   \n",
       "\n",
       "       ...  months  weeknr hour   distance  north_south  east_west start_area  \\\n",
       "33277  ...     Feb       8   14  10.015212            N          E         NE   \n",
       "33279  ...     Feb       8   14  10.015212            N          E         NE   \n",
       "43330  ...     Feb       7   19  10.693862            N          W         NW   \n",
       "87711  ...     Feb       6   23  14.803843            N          W         NW   \n",
       "90964  ...     Feb       6    9  12.038780            N          E         NE   \n",
       "\n",
       "       north_south_end  east_west_end  end_area  \n",
       "33277                N              W        NW  \n",
       "33279                N              W        NW  \n",
       "43330                N              E        NE  \n",
       "87711                N              E        NE  \n",
       "90964                N              W        NW  \n",
       "\n",
       "[5 rows x 26 columns]"
      ]
     },
     "execution_count": 92,
     "metadata": {},
     "output_type": "execute_result"
    }
   ],
   "source": [
    "int_biketrips.head()"
   ]
  },
  {
   "cell_type": "code",
   "execution_count": 93,
   "metadata": {},
   "outputs": [
    {
     "data": {
      "text/html": [
       "<div>\n",
       "<style scoped>\n",
       "    .dataframe tbody tr th:only-of-type {\n",
       "        vertical-align: middle;\n",
       "    }\n",
       "\n",
       "    .dataframe tbody tr th {\n",
       "        vertical-align: top;\n",
       "    }\n",
       "\n",
       "    .dataframe thead th {\n",
       "        text-align: right;\n",
       "    }\n",
       "</style>\n",
       "<table border=\"1\" class=\"dataframe\">\n",
       "  <thead>\n",
       "    <tr style=\"text-align: right;\">\n",
       "      <th></th>\n",
       "      <th>duration_sec</th>\n",
       "      <th>start_station_id</th>\n",
       "      <th>start_station_latitude</th>\n",
       "      <th>start_station_longitude</th>\n",
       "      <th>end_station_id</th>\n",
       "      <th>end_station_latitude</th>\n",
       "      <th>end_station_longitude</th>\n",
       "      <th>bike_id</th>\n",
       "      <th>weekday</th>\n",
       "      <th>month</th>\n",
       "      <th>weeknr</th>\n",
       "      <th>hour</th>\n",
       "      <th>distance</th>\n",
       "    </tr>\n",
       "  </thead>\n",
       "  <tbody>\n",
       "    <tr>\n",
       "      <td>count</td>\n",
       "      <td>96.000000</td>\n",
       "      <td>96.000000</td>\n",
       "      <td>96.000000</td>\n",
       "      <td>96.000000</td>\n",
       "      <td>96.000000</td>\n",
       "      <td>96.000000</td>\n",
       "      <td>96.000000</td>\n",
       "      <td>96.000000</td>\n",
       "      <td>96.000000</td>\n",
       "      <td>96.000000</td>\n",
       "      <td>96.000000</td>\n",
       "      <td>96.000000</td>\n",
       "      <td>96.000000</td>\n",
       "    </tr>\n",
       "    <tr>\n",
       "      <td>mean</td>\n",
       "      <td>10585.687500</td>\n",
       "      <td>152.552083</td>\n",
       "      <td>37.809465</td>\n",
       "      <td>-122.314409</td>\n",
       "      <td>89.166667</td>\n",
       "      <td>37.792886</td>\n",
       "      <td>-122.360783</td>\n",
       "      <td>2160.593750</td>\n",
       "      <td>2.635417</td>\n",
       "      <td>6.333333</td>\n",
       "      <td>25.541667</td>\n",
       "      <td>13.572917</td>\n",
       "      <td>12.519319</td>\n",
       "    </tr>\n",
       "    <tr>\n",
       "      <td>std</td>\n",
       "      <td>15679.340966</td>\n",
       "      <td>93.115081</td>\n",
       "      <td>0.023131</td>\n",
       "      <td>0.059634</td>\n",
       "      <td>92.106193</td>\n",
       "      <td>0.051342</td>\n",
       "      <td>0.075000</td>\n",
       "      <td>1331.707717</td>\n",
       "      <td>1.892477</td>\n",
       "      <td>3.294866</td>\n",
       "      <td>14.315186</td>\n",
       "      <td>4.347400</td>\n",
       "      <td>5.763402</td>\n",
       "    </tr>\n",
       "    <tr>\n",
       "      <td>min</td>\n",
       "      <td>965.000000</td>\n",
       "      <td>5.000000</td>\n",
       "      <td>37.764710</td>\n",
       "      <td>-122.431158</td>\n",
       "      <td>3.000000</td>\n",
       "      <td>37.352601</td>\n",
       "      <td>-122.436861</td>\n",
       "      <td>79.000000</td>\n",
       "      <td>0.000000</td>\n",
       "      <td>1.000000</td>\n",
       "      <td>2.000000</td>\n",
       "      <td>1.000000</td>\n",
       "      <td>8.799916</td>\n",
       "    </tr>\n",
       "    <tr>\n",
       "      <td>25%</td>\n",
       "      <td>2220.500000</td>\n",
       "      <td>59.500000</td>\n",
       "      <td>37.795393</td>\n",
       "      <td>-122.394203</td>\n",
       "      <td>15.000000</td>\n",
       "      <td>37.786970</td>\n",
       "      <td>-122.403234</td>\n",
       "      <td>1141.500000</td>\n",
       "      <td>1.000000</td>\n",
       "      <td>3.750000</td>\n",
       "      <td>13.750000</td>\n",
       "      <td>10.000000</td>\n",
       "      <td>10.489120</td>\n",
       "    </tr>\n",
       "    <tr>\n",
       "      <td>50%</td>\n",
       "      <td>3825.000000</td>\n",
       "      <td>169.500000</td>\n",
       "      <td>37.806279</td>\n",
       "      <td>-122.287610</td>\n",
       "      <td>24.000000</td>\n",
       "      <td>37.792251</td>\n",
       "      <td>-122.394643</td>\n",
       "      <td>2058.500000</td>\n",
       "      <td>2.500000</td>\n",
       "      <td>6.500000</td>\n",
       "      <td>26.500000</td>\n",
       "      <td>13.000000</td>\n",
       "      <td>11.621587</td>\n",
       "    </tr>\n",
       "    <tr>\n",
       "      <td>75%</td>\n",
       "      <td>13798.000000</td>\n",
       "      <td>230.000000</td>\n",
       "      <td>37.827920</td>\n",
       "      <td>-122.271738</td>\n",
       "      <td>176.000000</td>\n",
       "      <td>37.800754</td>\n",
       "      <td>-122.289194</td>\n",
       "      <td>3156.250000</td>\n",
       "      <td>4.000000</td>\n",
       "      <td>9.000000</td>\n",
       "      <td>36.000000</td>\n",
       "      <td>17.000000</td>\n",
       "      <td>13.100878</td>\n",
       "    </tr>\n",
       "    <tr>\n",
       "      <td>max</td>\n",
       "      <td>76514.000000</td>\n",
       "      <td>363.000000</td>\n",
       "      <td>37.869060</td>\n",
       "      <td>-122.249680</td>\n",
       "      <td>323.000000</td>\n",
       "      <td>37.880222</td>\n",
       "      <td>-121.905733</td>\n",
       "      <td>5394.000000</td>\n",
       "      <td>6.000000</td>\n",
       "      <td>12.000000</td>\n",
       "      <td>52.000000</td>\n",
       "      <td>23.000000</td>\n",
       "      <td>65.309254</td>\n",
       "    </tr>\n",
       "  </tbody>\n",
       "</table>\n",
       "</div>"
      ],
      "text/plain": [
       "       duration_sec  start_station_id  start_station_latitude  \\\n",
       "count     96.000000         96.000000               96.000000   \n",
       "mean   10585.687500        152.552083               37.809465   \n",
       "std    15679.340966         93.115081                0.023131   \n",
       "min      965.000000          5.000000               37.764710   \n",
       "25%     2220.500000         59.500000               37.795393   \n",
       "50%     3825.000000        169.500000               37.806279   \n",
       "75%    13798.000000        230.000000               37.827920   \n",
       "max    76514.000000        363.000000               37.869060   \n",
       "\n",
       "       start_station_longitude  end_station_id  end_station_latitude  \\\n",
       "count                96.000000       96.000000             96.000000   \n",
       "mean               -122.314409       89.166667             37.792886   \n",
       "std                   0.059634       92.106193              0.051342   \n",
       "min                -122.431158        3.000000             37.352601   \n",
       "25%                -122.394203       15.000000             37.786970   \n",
       "50%                -122.287610       24.000000             37.792251   \n",
       "75%                -122.271738      176.000000             37.800754   \n",
       "max                -122.249680      323.000000             37.880222   \n",
       "\n",
       "       end_station_longitude      bike_id    weekday      month     weeknr  \\\n",
       "count              96.000000    96.000000  96.000000  96.000000  96.000000   \n",
       "mean             -122.360783  2160.593750   2.635417   6.333333  25.541667   \n",
       "std                 0.075000  1331.707717   1.892477   3.294866  14.315186   \n",
       "min              -122.436861    79.000000   0.000000   1.000000   2.000000   \n",
       "25%              -122.403234  1141.500000   1.000000   3.750000  13.750000   \n",
       "50%              -122.394643  2058.500000   2.500000   6.500000  26.500000   \n",
       "75%              -122.289194  3156.250000   4.000000   9.000000  36.000000   \n",
       "max              -121.905733  5394.000000   6.000000  12.000000  52.000000   \n",
       "\n",
       "            hour   distance  \n",
       "count  96.000000  96.000000  \n",
       "mean   13.572917  12.519319  \n",
       "std     4.347400   5.763402  \n",
       "min     1.000000   8.799916  \n",
       "25%    10.000000  10.489120  \n",
       "50%    13.000000  11.621587  \n",
       "75%    17.000000  13.100878  \n",
       "max    23.000000  65.309254  "
      ]
     },
     "execution_count": 93,
     "metadata": {},
     "output_type": "execute_result"
    }
   ],
   "source": [
    "## in the following table we are interested in the distance column\n",
    "int_biketrips.describe()"
   ]
  },
  {
   "cell_type": "code",
   "execution_count": 94,
   "metadata": {},
   "outputs": [],
   "source": [
    "## We can now remove again the columns north_south, east_west, nort_south_end, east_west_end\n",
    "biketrips.drop(['north_south','east_west','north_south_end','east_west_end'], axis=1, inplace=True)"
   ]
  },
  {
   "cell_type": "code",
   "execution_count": 95,
   "metadata": {},
   "outputs": [
    {
     "name": "stdout",
     "output_type": "stream",
     "text": [
      "<class 'pandas.core.frame.DataFrame'>\n",
      "Int64Index: 1851950 entries, 0 to 131168\n",
      "Data columns (total 22 columns):\n",
      "duration_sec               int64\n",
      "start_time                 datetime64[ns]\n",
      "end_time                   datetime64[ns]\n",
      "start_station_id           float64\n",
      "start_station_name         object\n",
      "start_station_latitude     float64\n",
      "start_station_longitude    float64\n",
      "end_station_id             float64\n",
      "end_station_name           object\n",
      "end_station_latitude       float64\n",
      "end_station_longitude      float64\n",
      "bike_id                    int64\n",
      "user_type                  object\n",
      "bike_share_for_all_trip    object\n",
      "weekday                    int64\n",
      "month                      int64\n",
      "months                     object\n",
      "weeknr                     int64\n",
      "hour                       int64\n",
      "distance                   float64\n",
      "start_area                 object\n",
      "end_area                   object\n",
      "dtypes: datetime64[ns](2), float64(7), int64(6), object(7)\n",
      "memory usage: 365.0+ MB\n"
     ]
    }
   ],
   "source": [
    "biketrips.info()"
   ]
  },
  {
   "cell_type": "markdown",
   "metadata": {},
   "source": [
    "### Discuss the distribution(s) of your variable(s) of interest. Were there any unusual points? Did you need to perform any transformations?\n",
    "\n",
    ">Duration in seconds : Here I looked only at the trips with a duration of max 30 minutes. They represent 95% of the total trips. In this group of trips I could see that the most frequent duration was between 5 and 7 minutes. For less than 5 min, the frequency goes steeply down to zero. For the trips that take more than 5 to 7 minutes. The slope goes down almost like in a normal distribution to 30 minutes.\n",
    "\n",
    "> Month : Surprisingly, October was the busiest month for biketrips in this aerea and not the summer months. This high frequency of bike rentals was spread equally over this month and didn't seem to be linked to a particular event.\n",
    "\n",
    "> Hour:  I could see twee peaks for bike rentals : One around 8 am and one around 5 pm. The lowest activity is 3 am -4 am in the morning. The bike rentals seem to be linked with the start and end of the business hours.\n",
    "\n",
    "> Day : The midweek days (Tuesday till Thursday) have they highest rental frequency, followed by the start and end of the business week. The weekends have the lowest frequency and Sunday has less rental than Saturday. This seems to confirm that mostly people who need to reach their workpalce rent the bikes.\n",
    "\n",
    "> Distance : About 75% drives less than 2 km. The most popular distance are 1 km and 1.5 km. This is probably in most cases the distance between the railway station, parking lot and the workplace. Also a considerable amount of users who bring back the bike at the station they started.\n",
    "\n",
    "> The trips between two area are almost inexistant (96 only)\n",
    "\n",
    "\n",
    "### Of the features you investigated, were there any unusual distributions? Did you perform any operations on the data to tidy, adjust, or change the form of the data? If so, why did you do this?\n",
    "\n",
    "> I had to do very little operations on the data. I removed some rows with no values for the start and end station id and name. (This operation deleted at the same time rows with outliers for the longitudes and latitudes of the start and end stations).  I added four columns month, weekday, hour and weeknr, based on the value in the start_time column.The existence of these columns make the programming much easier and better to understand. I added a column to calculated the distance (great circle distance) between the start station and  the end station. I noticed there where three clusters of stations, so I added two colums start_area and end_area to better distinguish between the inter-cluster and intra- cluster trips. \n"
   ]
  },
  {
   "cell_type": "markdown",
   "metadata": {},
   "source": [
    "## 3) Bivariate Exploration\n",
    "\n",
    "> In this section, I will investigate relationships between pairs of variables in the data set\n"
   ]
  },
  {
   "cell_type": "markdown",
   "metadata": {},
   "source": [
    "#### 3a ) Bivariate Exploration - Relationship between Durantion and Distance"
   ]
  },
  {
   "cell_type": "markdown",
   "metadata": {},
   "source": [
    "(Once again, with distance is meant the distance between start station and end station)"
   ]
  },
  {
   "cell_type": "code",
   "execution_count": 96,
   "metadata": {
    "scrolled": false
   },
   "outputs": [
    {
     "data": {
      "text/plain": [
       "Text(0.5, 1.0, 'Duration Bike trip and Distance')"
      ]
     },
     "execution_count": 96,
     "metadata": {},
     "output_type": "execute_result"
    },
    {
     "data": {
      "image/png": "[encoded data removed]",
      "text/plain": [
       "<Figure size 720x360 with 1 Axes>"
      ]
     },
     "metadata": {
      "needs_background": "light"
     },
     "output_type": "display_data"
    }
   ],
   "source": [
    "#plt.scatter(data = biketrips, x = 'distance', y = 'duration_sec')\n",
    "plt.figure(figsize = [10,5])\n",
    "plt.scatter(data = biketrips, x = 'duration_sec', y = 'distance')\n",
    "plt.xlabel('duration (sec)')\n",
    "plt.ylabel('distance')\n",
    "plt.title('Duration Bike trip and Distance')"
   ]
  },
  {
   "cell_type": "markdown",
   "metadata": {},
   "source": [
    "Not a lot to see here, there are to many points in the dataset"
   ]
  },
  {
   "cell_type": "code",
   "execution_count": 97,
   "metadata": {},
   "outputs": [
    {
     "data": {
      "text/plain": [
       "1000"
      ]
     },
     "execution_count": 97,
     "metadata": {},
     "output_type": "execute_result"
    }
   ],
   "source": [
    "## There are to many datapoints.Let's take a random selection from the dataset\n",
    "bike_sample = biketrips.sample(n = 1000)\n",
    "bike_sample.shape[0]"
   ]
  },
  {
   "cell_type": "code",
   "execution_count": 98,
   "metadata": {},
   "outputs": [
    {
     "data": {
      "text/plain": [
       "Text(0.5, 1.0, 'Duration Bike trip and Distance')"
      ]
     },
     "execution_count": 98,
     "metadata": {},
     "output_type": "execute_result"
    },
    {
     "data": {
      "image/png": "[encoded data removed]",
      "text/plain": [
       "<Figure size 720x360 with 1 Axes>"
      ]
     },
     "metadata": {
      "needs_background": "light"
     },
     "output_type": "display_data"
    }
   ],
   "source": [
    "#plt.scatter(data = biketrips, x = 'distance', y = 'duration_sec')\n",
    "plt.figure(figsize = [10,5])\n",
    "plt.scatter(data = bike_sample, x = 'duration_sec', y = 'distance')\n",
    "plt.xlabel('duration (sec)')\n",
    "plt.ylabel('distance')\n",
    "plt.title('Duration Bike trip and Distance')"
   ]
  },
  {
   "cell_type": "code",
   "execution_count": 99,
   "metadata": {
    "scrolled": true
   },
   "outputs": [
    {
     "data": {
      "image/png": "[encoded data removed]",
      "text/plain": [
       "<Figure size 576x360 with 2 Axes>"
      ]
     },
     "metadata": {
      "needs_background": "light"
     },
     "output_type": "display_data"
    }
   ],
   "source": [
    "numeric_vars = ['distance', 'duration_sec']\n",
    "# correlation plot\n",
    "plt.figure(figsize = [8, 5])\n",
    "sb.heatmap(bike_sample[numeric_vars].corr(), annot = True, fmt = '.3f',\n",
    "           cmap = 'vlag_r', center = 0)\n",
    "plt.show()"
   ]
  },
  {
   "cell_type": "markdown",
   "metadata": {},
   "source": [
    "As we can see from both graphs, there is only a very week positive correclation between the duration of a biketrip and the time of the rental.I would like to test the same correlation in the group of rentals with a duration of 30 min."
   ]
  },
  {
   "cell_type": "code",
   "execution_count": 100,
   "metadata": {},
   "outputs": [
    {
     "data": {
      "text/plain": [
       "1758815"
      ]
     },
     "execution_count": 100,
     "metadata": {},
     "output_type": "execute_result"
    }
   ],
   "source": [
    "## Only rows with a timeframe up to 30 minutes\n",
    "bike_30 = biketrips[biketrips['duration_sec'] <= 1800]\n",
    "bike_30.shape[0]"
   ]
  },
  {
   "cell_type": "code",
   "execution_count": 101,
   "metadata": {},
   "outputs": [],
   "source": [
    "##again we take a sample\n",
    "bike_30_sample = bike_30.sample(n = 1000)"
   ]
  },
  {
   "cell_type": "code",
   "execution_count": 102,
   "metadata": {},
   "outputs": [
    {
     "data": {
      "text/plain": [
       "1000"
      ]
     },
     "execution_count": 102,
     "metadata": {},
     "output_type": "execute_result"
    }
   ],
   "source": [
    "bike_30_sample.shape[0]"
   ]
  },
  {
   "cell_type": "code",
   "execution_count": 103,
   "metadata": {
    "scrolled": true
   },
   "outputs": [
    {
     "data": {
      "text/plain": [
       "Text(0.5, 1.0, 'Duration Bike trip and Distance')"
      ]
     },
     "execution_count": 103,
     "metadata": {},
     "output_type": "execute_result"
    },
    {
     "data": {
      "image/png": "[encoded data removed]",
      "text/plain": [
       "<Figure size 720x360 with 1 Axes>"
      ]
     },
     "metadata": {
      "needs_background": "light"
     },
     "output_type": "display_data"
    }
   ],
   "source": [
    "#plt.scatter(data = biketrips, x = 'distance', y = 'duration_sec')\n",
    "plt.figure(figsize = [10,5])\n",
    "plt.scatter(data = bike_30_sample, x = 'duration_sec', y = 'distance')\n",
    "plt.xlabel('duration (sec)')\n",
    "plt.ylabel('distance in km')\n",
    "plt.title('Duration Bike trip and Distance')"
   ]
  },
  {
   "cell_type": "code",
   "execution_count": 104,
   "metadata": {
    "scrolled": true
   },
   "outputs": [
    {
     "data": {
      "text/plain": [
       "<matplotlib.axes._subplots.AxesSubplot at 0x7ff80521c7d0>"
      ]
     },
     "execution_count": 104,
     "metadata": {},
     "output_type": "execute_result"
    },
    {
     "data": {
      "image/png": "[encoded data removed]",
      "text/plain": [
       "<Figure size 432x288 with 1 Axes>"
      ]
     },
     "metadata": {
      "needs_background": "light"
     },
     "output_type": "display_data"
    }
   ],
   "source": [
    "## I would like to add some transparency\n",
    "\n",
    "sb.regplot(data = bike_30_sample, x = 'duration_sec', y = 'distance', x_jitter = 0.06,\n",
    "           fit_reg = False,scatter_kws = {'alpha' : 1/3})"
   ]
  },
  {
   "cell_type": "markdown",
   "metadata": {},
   "source": [
    "> The concentration of the points is at the shorter durations (shorter than 500 sec) and distances short than 2 km."
   ]
  },
  {
   "cell_type": "code",
   "execution_count": 105,
   "metadata": {
    "scrolled": true
   },
   "outputs": [
    {
     "data": {
      "image/png": "[encoded data removed]",
      "text/plain": [
       "<Figure size 576x360 with 2 Axes>"
      ]
     },
     "metadata": {
      "needs_background": "light"
     },
     "output_type": "display_data"
    }
   ],
   "source": [
    "numeric_vars = ['distance', 'duration_sec']\n",
    "# correlation plot\n",
    "plt.figure(figsize = [8, 5])\n",
    "sb.heatmap(bike_30_sample[numeric_vars].corr(), annot = True, fmt = '.3f',\n",
    "           cmap = 'vlag_r', center = 0)\n",
    "plt.show()"
   ]
  },
  {
   "cell_type": "markdown",
   "metadata": {},
   "source": [
    "> For this subset, the correlation is much stronger. The longer the distance between start point and end point, the longer the trip takes. This is probly the group of users that rent a bike\n",
    "to go from point a to b, without making a roundtrip. The vast majority of the Baywheels users of are users that go from point a to b."
   ]
  },
  {
   "cell_type": "markdown",
   "metadata": {},
   "source": [
    "#### 3b) Bivariate Exploration - Relation between weekday and hour"
   ]
  },
  {
   "cell_type": "markdown",
   "metadata": {},
   "source": [
    "In the univarite exploration I showed a rental pattern for the weekday and the hour separately. Can we say the same if we combine both ?\n",
    "The weekday and hour are two discrete variables, the best option is therefore a heatmap."
   ]
  },
  {
   "cell_type": "code",
   "execution_count": 106,
   "metadata": {
    "scrolled": true
   },
   "outputs": [
    {
     "data": {
      "text/plain": [
       "Text(0.5, 1.0, 'Rental Overview per Day and Hour')"
      ]
     },
     "execution_count": 106,
     "metadata": {},
     "output_type": "execute_result"
    },
    {
     "data": {
      "image/png": "[encoded data removed]",
      "text/plain": [
       "<Figure size 720x360 with 2 Axes>"
      ]
     },
     "metadata": {
      "needs_background": "light"
     },
     "output_type": "display_data"
    }
   ],
   "source": [
    "## creation of the heatmap\n",
    "\n",
    "bins_x = np.arange(0, 7+1, 1)\n",
    "bins_y = np.arange(0, 24+1, 2)\n",
    "fig = plt.figure(figsize = [10, 5]) # larger figure size for subplots\n",
    "\n",
    "ax1 = fig.add_subplot(1,1,1)\n",
    "\n",
    "ax1.xaxis.set_major_formatter(ticker.NullFormatter())\n",
    "\n",
    "\n",
    "# Customize minor tick labels\n",
    "ax1.xaxis.set_minor_locator(ticker.FixedLocator([0.5,1.5,2.5,3.5,4.5,5.5,6.5]))\n",
    "ax1.xaxis.set_minor_formatter(ticker.FixedFormatter(['Mon','Tue','Wed','Thu','Fri','Sat','Sun']))\n",
    "\n",
    "\n",
    "\n",
    "\n",
    "\n",
    "\n",
    "plt.yticks(np.arange(0,24,2))\n",
    "plt.hist2d(data = biketrips, x = 'weekday', y = 'hour',\n",
    "           bins = [bins_x, bins_y], cmap = 'viridis_r', cmin = 100)\n",
    "plt.colorbar()\n",
    "plt.xlabel('Weekday')\n",
    "plt.ylabel('Hour')\n",
    "plt.title('Rental Overview per Day and Hour')"
   ]
  },
  {
   "cell_type": "markdown",
   "metadata": {},
   "source": [
    "The hour pattern is defintely not the same on working days and weekend days. During the weekends the start of the rental is most likely between 12 am and 4 pm. On working days the are two top moments : One between 8-10 am  and another one between 4 - 6 pm. "
   ]
  },
  {
   "cell_type": "code",
   "execution_count": 107,
   "metadata": {
    "scrolled": true
   },
   "outputs": [
    {
     "data": {
      "text/plain": [
       "Text(0.5, 1.0, 'Rental Overview per Day and Hour')"
      ]
     },
     "execution_count": 107,
     "metadata": {},
     "output_type": "execute_result"
    },
    {
     "data": {
      "image/png": "[encoded data removed]",
      "text/plain": [
       "<Figure size 720x360 with 2 Axes>"
      ]
     },
     "metadata": {
      "needs_background": "light"
     },
     "output_type": "display_data"
    }
   ],
   "source": [
    "## creation of the heatmap (show only > 1000)\n",
    "\n",
    "bins_x = np.arange(0, 7+1, 1)\n",
    "bins_y = np.arange(0, 24+1, 2)\n",
    "fig1 = plt.figure(figsize = [10, 5])\n",
    "\n",
    "ax1 = fig1.add_subplot(1,1,1)\n",
    "\n",
    "\n",
    "ax1.xaxis.set_major_formatter(ticker.NullFormatter())\n",
    "\n",
    "\n",
    "# Customize minor tick labels\n",
    "ax1.xaxis.set_minor_locator(ticker.FixedLocator([0.5,1.5,2.5,3.5,4.5,5.5,6.5]))\n",
    "ax1.xaxis.set_minor_formatter(ticker.FixedFormatter(['Mon','Tue','Wed','Thu','Fri','Sat','Sun']))\n",
    "\n",
    "\n",
    "\n",
    "\n",
    "\n",
    "\n",
    "plt.yticks(np.arange(0,24,2))\n",
    "plt.hist2d(data = biketrips, x = 'weekday', y = 'hour',\n",
    "           bins = [bins_x, bins_y], cmap = 'viridis_r', cmin = 1000)\n",
    "plt.colorbar()\n",
    "plt.xlabel('Weekday')\n",
    "plt.ylabel('Hour')\n",
    "plt.title('Rental Overview per Day and Hour')"
   ]
  },
  {
   "cell_type": "markdown",
   "metadata": {},
   "source": [
    "When I show only the values (rentals per hour) greater than 1000, we can see that during weekdays, there are (nearly) no rentals between 2 and 4 pm , while in the weekends there is still some activity at that moment. The \"no rentals\" moment in the weekend is between 4pm and 6 pm, while on working days the early birds use the bikes already to get to their working place."
   ]
  },
  {
   "cell_type": "markdown",
   "metadata": {},
   "source": [
    "#### 3c) Bivariate Exploration - Relation between the type of customer and the weekday"
   ]
  },
  {
   "cell_type": "markdown",
   "metadata": {},
   "source": [
    "This a basic presentation on the distribution of both user types. We see clear that the subscribers have a wider distribution on working days (Mon- Friday), while the non-subscribers have a wider distributiion during weekends, especially on Saturdays"
   ]
  },
  {
   "cell_type": "code",
   "execution_count": 108,
   "metadata": {
    "scrolled": true
   },
   "outputs": [
    {
     "data": {
      "text/plain": [
       "Text(0.5, 1.0, 'Subscribers and Non-Subscribers (customers) per Day')"
      ]
     },
     "execution_count": 108,
     "metadata": {},
     "output_type": "execute_result"
    },
    {
     "data": {
      "image/png": "[encoded data removed]",
      "text/plain": [
       "<Figure size 432x288 with 1 Axes>"
      ]
     },
     "metadata": {
      "needs_background": "light"
     },
     "output_type": "display_data"
    }
   ],
   "source": [
    "## The same presentation but with a clustered bar chart\n",
    "ax = sb.countplot(data = biketrips, x = 'weekday', hue = 'user_type')\n",
    "ax.legend(loc = 1, ncol = 1, framealpha = 1)\n",
    "ax.set(ylabel=\"Count\")\n",
    "ax = plt.gca() \n",
    "tick_propsx = ax.get_xticks().tolist()\n",
    "tick_namesx = ['Mon','Tue','Wed','Thu','Fri','Sat','Sun']\n",
    "plt.xticks(tick_propsx, tick_namesx);\n",
    "plt.title('Subscribers and Non-Subscribers (customers) per Day')\n"
   ]
  },
  {
   "cell_type": "markdown",
   "metadata": {},
   "source": [
    "During the weekends , there a lot more non-subscribers. A better view would be to have proportions instead of counts"
   ]
  },
  {
   "cell_type": "code",
   "execution_count": 109,
   "metadata": {},
   "outputs": [
    {
     "name": "stdout",
     "output_type": "stream",
     "text": [
      "user_type\n",
      "Customer       276959\n",
      "Subscriber    1574991\n",
      "Name: weeknr, dtype: int64\n"
     ]
    }
   ],
   "source": [
    "## preparation for the clustered bar-chart with percentages \n",
    "## calculation of the percentages\n",
    "\n",
    "user_count = biketrips.groupby(['user_type'])['weeknr'].count()\n",
    "print(user_count)\n",
    "## total number of subscriber\n",
    "total_subscriber = user_count['Subscriber']\n",
    "## total number of non-subscribers\n",
    "total_customer = user_count['Customer']\n",
    "count_day = biketrips.groupby(['user_type','weekday'])['weeknr'].count()\n",
    "count_day_subs = count_day['Subscriber']\n",
    "count_day_custs = count_day['Customer']\n",
    "prop_subs = count_day_subs/total_subscriber\n",
    "prop_custs = count_day_custs/total_customer\n",
    "\n",
    "\n",
    "\n"
   ]
  },
  {
   "cell_type": "code",
   "execution_count": 110,
   "metadata": {
    "scrolled": true
   },
   "outputs": [
    {
     "data": {
      "text/plain": [
       "<matplotlib.legend.Legend at 0x7ff805609c90>"
      ]
     },
     "execution_count": 110,
     "metadata": {},
     "output_type": "execute_result"
    },
    {
     "data": {
      "image/png": "[encoded data removed]",
      "text/plain": [
       "<Figure size 720x360 with 1 Axes>"
      ]
     },
     "metadata": {
      "needs_background": "light"
     },
     "output_type": "display_data"
    }
   ],
   "source": [
    "\n",
    "## plotting of the data\n",
    "#Caluculate the number of elements on the x-as\n",
    "fig3 = plt.figure(figsize = [10, 5])\n",
    "x =np.arange(len(prop_subs))\n",
    "width = 0.40\n",
    "\n",
    "plt.bar(x, prop_subs, width, color='b', alpha=.7, label='Subscribers')\n",
    "plt.bar(x + width, prop_custs, width, color='c', alpha=.7, label='Non-Subscribers')\n",
    "\n",
    "locations = x + width / 2\n",
    "tick_names = ['Mon','Tue','Wed','Thu','Fri','Sat','Sun']\n",
    "\n",
    "# title and labels\n",
    "plt.xticks(locations, tick_names)\n",
    "plt.ylabel('% rentals', fontsize = 13)\n",
    "\n",
    "plt.title('% Total Weekly Rentals', fontsize = 16)\n",
    "plt.legend(loc=(1.05,0.4))\n",
    "\n"
   ]
  },
  {
   "cell_type": "markdown",
   "metadata": {},
   "source": [
    ">The activity for the non-subscribers is relatively more important during te weekends. The rental activity is at its lowest level on monday and then goes up to Saturday. There is a big drop after the weekend."
   ]
  },
  {
   "cell_type": "markdown",
   "metadata": {},
   "source": [
    "#### 3d) Bivariate Exploration - Relation between Month and Starting Hour"
   ]
  },
  {
   "cell_type": "markdown",
   "metadata": {},
   "source": [
    "I had already a look at the starting hour per weekday, but what about the distribution of the starting date over the months ? Do people start using the bikes later in wintertim than in summertime ? Or is the opposite ?"
   ]
  },
  {
   "cell_type": "markdown",
   "metadata": {},
   "source": [
    "I will start with a heatmap"
   ]
  },
  {
   "cell_type": "code",
   "execution_count": 111,
   "metadata": {
    "scrolled": true
   },
   "outputs": [
    {
     "data": {
      "text/plain": [
       "Text(0.5, 1.0, 'Monthly Rental Overview per Hour')"
      ]
     },
     "execution_count": 111,
     "metadata": {},
     "output_type": "execute_result"
    },
    {
     "data": {
      "image/png": "[encoded data removed]",
      "text/plain": [
       "<Figure size 720x360 with 2 Axes>"
      ]
     },
     "metadata": {
      "needs_background": "light"
     },
     "output_type": "display_data"
    }
   ],
   "source": [
    "## creation of the heatmap (show only > 1000)\n",
    "binsize = 1\n",
    "\n",
    "bins_x = np.arange(1, 13+ binsize, binsize)\n",
    "\n",
    "                                                   \n",
    "bins_y = np.arange(0, 24+1, 1)\n",
    "fig4 = plt.figure(figsize = [10, 5])\n",
    "ax4 = fig4.add_subplot(1,1,1)\n",
    "ax4.xaxis.set_major_formatter(ticker.NullFormatter())\n",
    "\n",
    "\n",
    "#Customize minor tick labels - put the ticks in the middle\n",
    "ax4.xaxis.set_minor_locator(ticker.FixedLocator([1.5,2.5,3.5,4.5,5.5,6.5,7.5,8.5,\n",
    "                                                 9.5,10.5,11.5,12.5]))\n",
    "ax4.xaxis.set_minor_formatter(ticker.FixedFormatter(['Jan','Feb','Mar','Apr','May','Jun','Jul'\n",
    "                                                     ,'Aug','Sep','Oct','Nov','Dec']))\n",
    "                                                     \n",
    "\n",
    "\n",
    "\n",
    "\n",
    "\n",
    "\n",
    "plt.yticks(np.arange(0,24,2))\n",
    "plt.hist2d(data = biketrips, x = 'month', y = 'hour',\n",
    "           bins = [bins_x, bins_y], cmap = 'viridis_r')\n",
    "plt.colorbar()\n",
    "\n",
    "plt.ylabel('Hour')\n",
    "plt.title('Monthly Rental Overview per Hour')"
   ]
  },
  {
   "cell_type": "markdown",
   "metadata": {},
   "source": [
    "The darkest color is each time a horizontal line over the whole width of the graph. The users start their trips and he same time , regardless of the month."
   ]
  },
  {
   "cell_type": "code",
   "execution_count": 112,
   "metadata": {
    "scrolled": true
   },
   "outputs": [
    {
     "data": {
      "text/plain": [
       "Text(0.5, 0.98, '(Start) Hour Distribution per Month')"
      ]
     },
     "execution_count": 112,
     "metadata": {},
     "output_type": "execute_result"
    },
    {
     "data": {
      "image/png": "[encoded data removed]",
      "text/plain": [
       "<Figure size 1296x432 with 12 Axes>"
      ]
     },
     "metadata": {
      "needs_background": "light"
     },
     "output_type": "display_data"
    }
   ],
   "source": [
    "## The same relation with faceting\n",
    "\n",
    "month_order = ['Jan','Feb','Mar','Apr','May','Jun','Jul','Aug','Sep','Oct','Nov','Dec']\n",
    "bin_edges = np.arange(0, biketrips['hour'].max()+1, 1)\n",
    "g = sb.FacetGrid(data = biketrips, col = 'months',col_wrap = 6,col_order = month_order)\n",
    "g.map(plt.hist, 'hour',bins = bin_edges)\n",
    "g.set_titles('{col_name}')\n",
    "plt.subplots_adjust(top=0.9)\n",
    "g.fig.suptitle('(Start) Hour Distribution per Month')\n",
    "\n",
    "\n",
    "\n",
    "\n"
   ]
  },
  {
   "cell_type": "markdown",
   "metadata": {},
   "source": [
    "The shape of the distributions for the hours is practically the same in every month. As we saw already on the heatmap above, the 'start' behaviour of the bike users is not different per month."
   ]
  },
  {
   "cell_type": "markdown",
   "metadata": {},
   "source": [
    "#### 3e) Bivariate Exploration - Relation between Bike share and User type"
   ]
  },
  {
   "cell_type": "markdown",
   "metadata": {},
   "source": [
    "As I don't understand this variable very well, I would like to see whether it is related to the user type"
   ]
  },
  {
   "cell_type": "code",
   "execution_count": 113,
   "metadata": {},
   "outputs": [
    {
     "name": "stdout",
     "output_type": "stream",
     "text": [
      "bike_share_for_all_trip\n",
      "No     1690457\n",
      "Yes     161493\n",
      "Name: weeknr, dtype: int64\n"
     ]
    }
   ],
   "source": [
    "## The purpose is to show a clustered bar chart with percentages instead of count\n",
    "## calculation of the percentages\n",
    "## The values for the user type will be on the x-as with a clustered bar chart for the bike sharing\n",
    "\n",
    "##calculation of the denominator\n",
    "count2 = biketrips.groupby(['bike_share_for_all_trip'])['weeknr'].count()\n",
    "print(count2)\n",
    "## calculation of the numerators\n",
    "count1 = biketrips.groupby(['user_type','bike_share_for_all_trip'])['weeknr'].count()\n",
    "prop1 = count1['Customer']/count2\n",
    "prop2 = count1['Subscriber']/count2\n"
   ]
  },
  {
   "cell_type": "code",
   "execution_count": 114,
   "metadata": {
    "scrolled": false
   },
   "outputs": [
    {
     "data": {
      "text/plain": [
       "<matplotlib.legend.Legend at 0x7ff8146920d0>"
      ]
     },
     "execution_count": 114,
     "metadata": {},
     "output_type": "execute_result"
    },
    {
     "data": {
      "image/png": "[encoded data removed]",
      "text/plain": [
       "<Figure size 576x288 with 1 Axes>"
      ]
     },
     "metadata": {
      "needs_background": "light"
     },
     "output_type": "display_data"
    }
   ],
   "source": [
    "## plotting of the data\n",
    "#Caluculate the number of elements on the x-as\n",
    "fig3 = plt.figure(figsize = [8, 4])\n",
    "x =np.arange(len(prop1))\n",
    "width = 0.20\n",
    "\n",
    "plt.bar(x, prop1, width, color='b', alpha=.7, label='Shared')\n",
    "plt.bar(x + width, prop2, width, color='c', alpha=.7, label='Non-Shared')\n",
    "\n",
    "locations = x + width / 2\n",
    "tick_names = ['Subscribers', 'Non- Subscribers']\n",
    "\n",
    "# title and labels\n",
    "plt.xticks(locations, tick_names)\n",
    "plt.ylabel('% rentals', fontsize = 13)\n",
    "\n",
    "plt.title('Proportion Bike Share per user Type', fontsize = 16)\n",
    "plt.legend(loc=(1.05,0.4))\n"
   ]
  },
  {
   "cell_type": "markdown",
   "metadata": {},
   "source": [
    "Only the Subscribers use the option \"Bike share\" (for about 18%), the non-subscibers don't use this ooption at all."
   ]
  },
  {
   "cell_type": "markdown",
   "metadata": {},
   "source": [
    "#### 3f) Bivariate Exploration - Relation between Bike share and Month"
   ]
  },
  {
   "cell_type": "markdown",
   "metadata": {},
   "source": [
    "Is there a kind of change in the bike sharing over the months ?"
   ]
  },
  {
   "cell_type": "code",
   "execution_count": 115,
   "metadata": {},
   "outputs": [],
   "source": [
    "## The purpose is to show a clustered bar chart with percentages instead of count\n",
    "## calculation of the percentages\n",
    "## The values for the mont will be on the x-as with a clustered bar chart for the bike sharing\n",
    "\n",
    "##calculation of the denominator\n",
    "count4 = biketrips.groupby(['month'])['weeknr'].count()\n",
    "\n",
    "## calculation of the numerators\n",
    "count3 = biketrips.groupby(['bike_share_for_all_trip','month',])['weeknr'].count()\n",
    "\n",
    "prop3 = count3['Yes']/count4\n",
    "prop4 = count3['No']/count4\n",
    "\n",
    "\n"
   ]
  },
  {
   "cell_type": "code",
   "execution_count": 116,
   "metadata": {},
   "outputs": [
    {
     "data": {
      "text/plain": [
       "<matplotlib.legend.Legend at 0x7ff805e1cad0>"
      ]
     },
     "execution_count": 116,
     "metadata": {},
     "output_type": "execute_result"
    },
    {
     "data": {
      "image/png": "[encoded data removed]",
      "text/plain": [
       "<Figure size 720x360 with 1 Axes>"
      ]
     },
     "metadata": {
      "needs_background": "light"
     },
     "output_type": "display_data"
    }
   ],
   "source": [
    "### plotting of percentages\n",
    "#Caluculate the number of elements on the x-as\n",
    "fig3 = plt.figure(figsize = [10, 5])\n",
    "x =np.arange(len(prop3))\n",
    "width = 0.20\n",
    "\n",
    "plt.bar(x, prop3, width, color='b', alpha=.7, label='Shared')\n",
    "plt.bar(x + width, prop4, width, color='c', alpha=.7, label='Non-Shared')\n",
    "\n",
    "# title and labels\n",
    "locations = x + width / 2\n",
    "tick_names = ['Jan','Feb','Mar','Apr','May','Jun','Jul','Aug','Sep','Oct','Nov','Dec']\n",
    "\n",
    "\n",
    "plt.xticks(locations, tick_names)\n",
    "plt.yticks(np.arange(0,1.05,0.05))\n",
    "plt.ylabel('% rentals', fontsize = 13)\n",
    "\n",
    "plt.title('Proportion Bike Share per Month', fontsize = 16)\n",
    "plt.legend(loc=(1.05,0.4))\n"
   ]
  },
  {
   "cell_type": "markdown",
   "metadata": {},
   "source": [
    "The % of the bike share is all the year between 5% anf 10% with the highest values in March and  April"
   ]
  },
  {
   "cell_type": "markdown",
   "metadata": {},
   "source": [
    "\n",
    "\n",
    "> In this second part, I started by looking at a possible correlation between duration and distance. On the total of the dataset, there was no correlation. Only by taking a random sample and limiting the duration to 30 min, the correlation  between the duration and the distance between start and end station became visible.\n",
    "> I looked also at the relation between weekday the start hour of the trip. Here I could see a difference between the business days and the weekend days. On business days, I could see that there are two peaks, one between 8-10 am and one between 5 am - 6 am. On weekend days the peak is in the early afternoon.\n",
    "Next, I looked at the variables user type and day. The user type 'Subscribers' are relatively spoken, more active on business days. The user type 'Customers' are relatively more active on weekend days.\n",
    "Last, I wanted to verify whether the month had an impact on the starting hours. I couldn't detect a significant difference in the starting hour distribution per month. Only the subscribers use the option 'bike share' (18%). The non-subscribers don't use this option at all.\n",
    "\n"
   ]
  },
  {
   "cell_type": "markdown",
   "metadata": {},
   "source": [
    "## 4) Multivariate Exploration\n",
    "\n",
    "In this section. I will expand some of the plots, made in the bivariate exploration with an extra variable"
   ]
  },
  {
   "cell_type": "markdown",
   "metadata": {},
   "source": [
    "#### 4a ) Multivariate Exploration - Relationship between Durantion and Distance per User Type \n"
   ]
  },
  {
   "cell_type": "code",
   "execution_count": 117,
   "metadata": {},
   "outputs": [
    {
     "data": {
      "text/plain": [
       "1000"
      ]
     },
     "execution_count": 117,
     "metadata": {},
     "output_type": "execute_result"
    }
   ],
   "source": [
    "## I take again a sample of the dataframe\n",
    "bike_30 = biketrips[biketrips['duration_sec'] <= 1800]\n",
    "bike_sample_30 = bike_30.sample(n = 1000,random_state=1)\n",
    "bike_sample_30.shape[0]"
   ]
  },
  {
   "cell_type": "code",
   "execution_count": 118,
   "metadata": {},
   "outputs": [
    {
     "data": {
      "text/html": [
       "<div>\n",
       "<style scoped>\n",
       "    .dataframe tbody tr th:only-of-type {\n",
       "        vertical-align: middle;\n",
       "    }\n",
       "\n",
       "    .dataframe tbody tr th {\n",
       "        vertical-align: top;\n",
       "    }\n",
       "\n",
       "    .dataframe thead th {\n",
       "        text-align: right;\n",
       "    }\n",
       "</style>\n",
       "<table border=\"1\" class=\"dataframe\">\n",
       "  <thead>\n",
       "    <tr style=\"text-align: right;\">\n",
       "      <th></th>\n",
       "      <th>duration_sec</th>\n",
       "      <th>start_time</th>\n",
       "      <th>end_time</th>\n",
       "      <th>start_station_id</th>\n",
       "      <th>start_station_name</th>\n",
       "      <th>start_station_latitude</th>\n",
       "      <th>start_station_longitude</th>\n",
       "      <th>end_station_id</th>\n",
       "      <th>end_station_name</th>\n",
       "      <th>end_station_latitude</th>\n",
       "      <th>...</th>\n",
       "      <th>user_type</th>\n",
       "      <th>bike_share_for_all_trip</th>\n",
       "      <th>weekday</th>\n",
       "      <th>month</th>\n",
       "      <th>months</th>\n",
       "      <th>weeknr</th>\n",
       "      <th>hour</th>\n",
       "      <th>distance</th>\n",
       "      <th>start_area</th>\n",
       "      <th>end_area</th>\n",
       "    </tr>\n",
       "  </thead>\n",
       "  <tbody>\n",
       "    <tr>\n",
       "      <td>144393</td>\n",
       "      <td>290</td>\n",
       "      <td>2018-10-09 15:39:51.016</td>\n",
       "      <td>2018-10-09 15:44:41.682</td>\n",
       "      <td>3.0</td>\n",
       "      <td>Powell St BART Station (Market St at 4th St)</td>\n",
       "      <td>37.786375</td>\n",
       "      <td>-122.404904</td>\n",
       "      <td>47.0</td>\n",
       "      <td>4th St at Harrison St</td>\n",
       "      <td>37.780955</td>\n",
       "      <td>...</td>\n",
       "      <td>Subscriber</td>\n",
       "      <td>No</td>\n",
       "      <td>1</td>\n",
       "      <td>10</td>\n",
       "      <td>Oct</td>\n",
       "      <td>41</td>\n",
       "      <td>15</td>\n",
       "      <td>0.754027</td>\n",
       "      <td>NW</td>\n",
       "      <td>NW</td>\n",
       "    </tr>\n",
       "    <tr>\n",
       "      <td>160707</td>\n",
       "      <td>388</td>\n",
       "      <td>2018-08-06 11:53:39.700</td>\n",
       "      <td>2018-08-06 12:00:08.542</td>\n",
       "      <td>23.0</td>\n",
       "      <td>The Embarcadero at Steuart St</td>\n",
       "      <td>37.791464</td>\n",
       "      <td>-122.391034</td>\n",
       "      <td>50.0</td>\n",
       "      <td>2nd St at Townsend St</td>\n",
       "      <td>37.780526</td>\n",
       "      <td>...</td>\n",
       "      <td>Subscriber</td>\n",
       "      <td>No</td>\n",
       "      <td>0</td>\n",
       "      <td>8</td>\n",
       "      <td>Aug</td>\n",
       "      <td>32</td>\n",
       "      <td>11</td>\n",
       "      <td>1.218016</td>\n",
       "      <td>NW</td>\n",
       "      <td>NW</td>\n",
       "    </tr>\n",
       "    <tr>\n",
       "      <td>102215</td>\n",
       "      <td>242</td>\n",
       "      <td>2018-10-16 08:26:33.455</td>\n",
       "      <td>2018-10-16 08:30:35.986</td>\n",
       "      <td>178.0</td>\n",
       "      <td>Broadway at 30th St</td>\n",
       "      <td>37.819381</td>\n",
       "      <td>-122.261928</td>\n",
       "      <td>182.0</td>\n",
       "      <td>19th Street BART Station</td>\n",
       "      <td>37.809013</td>\n",
       "      <td>...</td>\n",
       "      <td>Subscriber</td>\n",
       "      <td>No</td>\n",
       "      <td>1</td>\n",
       "      <td>10</td>\n",
       "      <td>Oct</td>\n",
       "      <td>42</td>\n",
       "      <td>8</td>\n",
       "      <td>1.279619</td>\n",
       "      <td>NE</td>\n",
       "      <td>NE</td>\n",
       "    </tr>\n",
       "    <tr>\n",
       "      <td>117712</td>\n",
       "      <td>756</td>\n",
       "      <td>2018-08-13 08:05:40.275</td>\n",
       "      <td>2018-08-13 08:18:17.083</td>\n",
       "      <td>22.0</td>\n",
       "      <td>Howard St at Beale St</td>\n",
       "      <td>37.789756</td>\n",
       "      <td>-122.394643</td>\n",
       "      <td>6.0</td>\n",
       "      <td>The Embarcadero at Sansome St</td>\n",
       "      <td>37.804770</td>\n",
       "      <td>...</td>\n",
       "      <td>Subscriber</td>\n",
       "      <td>Yes</td>\n",
       "      <td>0</td>\n",
       "      <td>8</td>\n",
       "      <td>Aug</td>\n",
       "      <td>33</td>\n",
       "      <td>8</td>\n",
       "      <td>1.832199</td>\n",
       "      <td>NW</td>\n",
       "      <td>NW</td>\n",
       "    </tr>\n",
       "    <tr>\n",
       "      <td>67479</td>\n",
       "      <td>444</td>\n",
       "      <td>2018-07-21 15:06:28.183</td>\n",
       "      <td>2018-07-21 15:13:53.146</td>\n",
       "      <td>91.0</td>\n",
       "      <td>Berry St at King St</td>\n",
       "      <td>37.771762</td>\n",
       "      <td>-122.398438</td>\n",
       "      <td>62.0</td>\n",
       "      <td>Victoria Manalo Draves Park</td>\n",
       "      <td>37.777791</td>\n",
       "      <td>...</td>\n",
       "      <td>Subscriber</td>\n",
       "      <td>No</td>\n",
       "      <td>5</td>\n",
       "      <td>7</td>\n",
       "      <td>Jul</td>\n",
       "      <td>29</td>\n",
       "      <td>15</td>\n",
       "      <td>0.971101</td>\n",
       "      <td>NW</td>\n",
       "      <td>NW</td>\n",
       "    </tr>\n",
       "  </tbody>\n",
       "</table>\n",
       "<p>5 rows × 22 columns</p>\n",
       "</div>"
      ],
      "text/plain": [
       "        duration_sec              start_time                end_time  \\\n",
       "144393           290 2018-10-09 15:39:51.016 2018-10-09 15:44:41.682   \n",
       "160707           388 2018-08-06 11:53:39.700 2018-08-06 12:00:08.542   \n",
       "102215           242 2018-10-16 08:26:33.455 2018-10-16 08:30:35.986   \n",
       "117712           756 2018-08-13 08:05:40.275 2018-08-13 08:18:17.083   \n",
       "67479            444 2018-07-21 15:06:28.183 2018-07-21 15:13:53.146   \n",
       "\n",
       "        start_station_id                            start_station_name  \\\n",
       "144393               3.0  Powell St BART Station (Market St at 4th St)   \n",
       "160707              23.0                 The Embarcadero at Steuart St   \n",
       "102215             178.0                           Broadway at 30th St   \n",
       "117712              22.0                         Howard St at Beale St   \n",
       "67479               91.0                           Berry St at King St   \n",
       "\n",
       "        start_station_latitude  start_station_longitude  end_station_id  \\\n",
       "144393               37.786375              -122.404904            47.0   \n",
       "160707               37.791464              -122.391034            50.0   \n",
       "102215               37.819381              -122.261928           182.0   \n",
       "117712               37.789756              -122.394643             6.0   \n",
       "67479                37.771762              -122.398438            62.0   \n",
       "\n",
       "                     end_station_name  end_station_latitude  ...   user_type  \\\n",
       "144393          4th St at Harrison St             37.780955  ...  Subscriber   \n",
       "160707          2nd St at Townsend St             37.780526  ...  Subscriber   \n",
       "102215       19th Street BART Station             37.809013  ...  Subscriber   \n",
       "117712  The Embarcadero at Sansome St             37.804770  ...  Subscriber   \n",
       "67479     Victoria Manalo Draves Park             37.777791  ...  Subscriber   \n",
       "\n",
       "        bike_share_for_all_trip weekday month  months  weeknr hour  distance  \\\n",
       "144393                       No       1    10     Oct      41   15  0.754027   \n",
       "160707                       No       0     8     Aug      32   11  1.218016   \n",
       "102215                       No       1    10     Oct      42    8  1.279619   \n",
       "117712                      Yes       0     8     Aug      33    8  1.832199   \n",
       "67479                        No       5     7     Jul      29   15  0.971101   \n",
       "\n",
       "        start_area  end_area  \n",
       "144393          NW        NW  \n",
       "160707          NW        NW  \n",
       "102215          NE        NE  \n",
       "117712          NW        NW  \n",
       "67479           NW        NW  \n",
       "\n",
       "[5 rows x 22 columns]"
      ]
     },
     "execution_count": 118,
     "metadata": {},
     "output_type": "execute_result"
    }
   ],
   "source": [
    "bike_sample.head()"
   ]
  },
  {
   "cell_type": "code",
   "execution_count": 119,
   "metadata": {
    "scrolled": false
   },
   "outputs": [
    {
     "data": {
      "image/png": "[encoded data removed]",
      "text/plain": [
       "<Figure size 720x360 with 1 Axes>"
      ]
     },
     "metadata": {
      "needs_background": "light"
     },
     "output_type": "display_data"
    }
   ],
   "source": [
    "## plot the data\n",
    "fig5 = plt.figure(figsize = [10, 5])\n",
    "ttype_markers = [['Subscriber','o'],['Customer','^']]\n",
    "for ttype, marker in ttype_markers:\n",
    "    plot_data = bike_sample_30[bike_sample_30['user_type']== ttype]\n",
    "    sb.regplot(data= plot_data, x = 'duration_sec', y = 'distance', x_jitter = 0.04,\n",
    "               fit_reg= False,marker = marker);\n",
    "  \n",
    "    \n",
    "plt.ylabel('Distance in km')   \n",
    "plt.legend(['Subscriber','Customer'])    \n",
    "plt.title('Relation Duration Trip and Distance (< 30 min)');"
   ]
  },
  {
   "cell_type": "markdown",
   "metadata": {},
   "source": [
    "For the time frames shorter than 30 min, there is clearly a positive relation between the duration of the rental and the distance between start and end station. This relation is stronger for the subscribers than for the customers and stronger when the time frame is shorter "
   ]
  },
  {
   "cell_type": "markdown",
   "metadata": {},
   "source": [
    "I would like to do the same for the time frame 31 min to 60 min"
   ]
  },
  {
   "cell_type": "code",
   "execution_count": 120,
   "metadata": {
    "scrolled": true
   },
   "outputs": [
    {
     "data": {
      "text/plain": [
       "1000"
      ]
     },
     "execution_count": 120,
     "metadata": {},
     "output_type": "execute_result"
    }
   ],
   "source": [
    "## I take again a sample of the dataframe between 90 min and 2 hours\n",
    "bike_60 = biketrips[(biketrips['duration_sec'] >1800 )& (biketrips['duration_sec'] <= 3600)]\n",
    "bike_sample_60 = bike_60.sample(n = 1000,random_state=1)\n",
    "bike_sample_60.shape[0]"
   ]
  },
  {
   "cell_type": "code",
   "execution_count": 121,
   "metadata": {
    "scrolled": true
   },
   "outputs": [
    {
     "data": {
      "image/png": "[encoded data removed]",
      "text/plain": [
       "<Figure size 720x360 with 1 Axes>"
      ]
     },
     "metadata": {
      "needs_background": "light"
     },
     "output_type": "display_data"
    }
   ],
   "source": [
    "## plot the data\n",
    "fig6 = plt.figure(figsize = [10, 5])\n",
    "ttype_markers = [['Subscriber','o'],['Customer','^']]\n",
    "for ttype, marker in ttype_markers:\n",
    "    plot_data = bike_sample_60[bike_sample_60['user_type']== ttype]\n",
    "    sb.regplot(data= plot_data, x = 'duration_sec', y = 'distance', x_jitter = 0.04,\n",
    "               fit_reg= False,marker = marker);\n",
    "  \n",
    "    \n",
    "    \n",
    "plt.legend(['Subscriber','Customer'])    \n",
    "plt.title('Relation Duration Trip and Distance');\n"
   ]
  },
  {
   "cell_type": "markdown",
   "metadata": {},
   "source": [
    "In the second half hours, we see all possible distances, as well for subscribers as for customers.The volatility for subscribers is here even bigger than for customers. "
   ]
  },
  {
   "cell_type": "markdown",
   "metadata": {},
   "source": [
    "The following two graphs show the same but with faceting over customer type"
   ]
  },
  {
   "cell_type": "code",
   "execution_count": 122,
   "metadata": {
    "scrolled": false
   },
   "outputs": [
    {
     "data": {
      "text/plain": [
       "<seaborn.axisgrid.FacetGrid at 0x7ff7fc4df9d0>"
      ]
     },
     "execution_count": 122,
     "metadata": {},
     "output_type": "execute_result"
    },
    {
     "data": {
      "image/png": "[encoded data removed]",
      "text/plain": [
       "<Figure size 440x216 with 2 Axes>"
      ]
     },
     "metadata": {
      "needs_background": "light"
     },
     "output_type": "display_data"
    }
   ],
   "source": [
    "##bivariate faceting for the shorter time frames\n",
    "g = sb.FacetGrid(data = bike_sample_30, col = 'user_type')\n",
    "g.map(plt.scatter, 'duration_sec','distance')\n",
    "g.add_legend()\n",
    "\n",
    "\n"
   ]
  },
  {
   "cell_type": "code",
   "execution_count": 123,
   "metadata": {},
   "outputs": [
    {
     "data": {
      "text/plain": [
       "<seaborn.axisgrid.FacetGrid at 0x7ff7fc718d90>"
      ]
     },
     "execution_count": 123,
     "metadata": {},
     "output_type": "execute_result"
    },
    {
     "data": {
      "image/png": "[encoded data removed]",
      "text/plain": [
       "<Figure size 432x216 with 2 Axes>"
      ]
     },
     "metadata": {
      "needs_background": "light"
     },
     "output_type": "display_data"
    }
   ],
   "source": [
    "##bivariate faceting for the  longer time frames\n",
    "g = sb.FacetGrid(data = bike_sample_60, col = 'user_type')\n",
    "g.map(plt.scatter, 'duration_sec','distance')"
   ]
  },
  {
   "cell_type": "markdown",
   "metadata": {},
   "source": [
    "#### 4b ) Multivariate Exploration - Relationship between Month and Hour per User Type "
   ]
  },
  {
   "cell_type": "code",
   "execution_count": 124,
   "metadata": {},
   "outputs": [],
   "source": [
    "## Take a random sample of the dataframe (the same datafram as uase above)\n",
    "bike_30_1000 = bike_30.sample(n = 1000,random_state=1)\n",
    "#np.random.seed(2018)\n",
    "#sample = np.random.choice(bike_30.shape[0],1000,replace = False)\n",
    "#bike_30_300 = bike_30.loc[sample]"
   ]
  },
  {
   "cell_type": "code",
   "execution_count": 125,
   "metadata": {},
   "outputs": [
    {
     "data": {
      "text/html": [
       "<div>\n",
       "<style scoped>\n",
       "    .dataframe tbody tr th:only-of-type {\n",
       "        vertical-align: middle;\n",
       "    }\n",
       "\n",
       "    .dataframe tbody tr th {\n",
       "        vertical-align: top;\n",
       "    }\n",
       "\n",
       "    .dataframe thead th {\n",
       "        text-align: right;\n",
       "    }\n",
       "</style>\n",
       "<table border=\"1\" class=\"dataframe\">\n",
       "  <thead>\n",
       "    <tr style=\"text-align: right;\">\n",
       "      <th></th>\n",
       "      <th>duration_sec</th>\n",
       "      <th>start_time</th>\n",
       "      <th>end_time</th>\n",
       "      <th>start_station_id</th>\n",
       "      <th>start_station_name</th>\n",
       "      <th>start_station_latitude</th>\n",
       "      <th>start_station_longitude</th>\n",
       "      <th>end_station_id</th>\n",
       "      <th>end_station_name</th>\n",
       "      <th>end_station_latitude</th>\n",
       "      <th>...</th>\n",
       "      <th>user_type</th>\n",
       "      <th>bike_share_for_all_trip</th>\n",
       "      <th>weekday</th>\n",
       "      <th>month</th>\n",
       "      <th>months</th>\n",
       "      <th>weeknr</th>\n",
       "      <th>hour</th>\n",
       "      <th>distance</th>\n",
       "      <th>start_area</th>\n",
       "      <th>end_area</th>\n",
       "    </tr>\n",
       "  </thead>\n",
       "  <tbody>\n",
       "    <tr>\n",
       "      <td>15639</td>\n",
       "      <td>900</td>\n",
       "      <td>2018-07-29 16:44:02.195</td>\n",
       "      <td>2018-07-29 16:59:03.087</td>\n",
       "      <td>259.0</td>\n",
       "      <td>Addison St at Fourth St</td>\n",
       "      <td>37.866249</td>\n",
       "      <td>-122.299371</td>\n",
       "      <td>157.0</td>\n",
       "      <td>65th St at Hollis St</td>\n",
       "      <td>37.846784</td>\n",
       "      <td>...</td>\n",
       "      <td>Subscriber</td>\n",
       "      <td>No</td>\n",
       "      <td>6</td>\n",
       "      <td>7</td>\n",
       "      <td>Jul</td>\n",
       "      <td>30</td>\n",
       "      <td>16</td>\n",
       "      <td>2.275350</td>\n",
       "      <td>NE</td>\n",
       "      <td>NE</td>\n",
       "    </tr>\n",
       "    <tr>\n",
       "      <td>10867</td>\n",
       "      <td>850</td>\n",
       "      <td>2018-06-29 08:11:16.281</td>\n",
       "      <td>2018-06-29 08:25:26.426</td>\n",
       "      <td>30.0</td>\n",
       "      <td>San Francisco Caltrain (Townsend St at 4th St)</td>\n",
       "      <td>37.776598</td>\n",
       "      <td>-122.395282</td>\n",
       "      <td>9.0</td>\n",
       "      <td>Broadway at Battery St</td>\n",
       "      <td>37.798572</td>\n",
       "      <td>...</td>\n",
       "      <td>Subscriber</td>\n",
       "      <td>No</td>\n",
       "      <td>4</td>\n",
       "      <td>6</td>\n",
       "      <td>Jun</td>\n",
       "      <td>26</td>\n",
       "      <td>8</td>\n",
       "      <td>2.492247</td>\n",
       "      <td>NW</td>\n",
       "      <td>NW</td>\n",
       "    </tr>\n",
       "    <tr>\n",
       "      <td>163244</td>\n",
       "      <td>1318</td>\n",
       "      <td>2018-07-07 14:05:27.835</td>\n",
       "      <td>2018-07-07 14:27:26.232</td>\n",
       "      <td>324.0</td>\n",
       "      <td>Union Square (Powell St at Post St)</td>\n",
       "      <td>37.788300</td>\n",
       "      <td>-122.408531</td>\n",
       "      <td>323.0</td>\n",
       "      <td>Broadway at Kearny</td>\n",
       "      <td>37.798014</td>\n",
       "      <td>...</td>\n",
       "      <td>Customer</td>\n",
       "      <td>No</td>\n",
       "      <td>5</td>\n",
       "      <td>7</td>\n",
       "      <td>Jul</td>\n",
       "      <td>27</td>\n",
       "      <td>14</td>\n",
       "      <td>1.103650</td>\n",
       "      <td>NW</td>\n",
       "      <td>NW</td>\n",
       "    </tr>\n",
       "    <tr>\n",
       "      <td>89817</td>\n",
       "      <td>851</td>\n",
       "      <td>2018-09-17 09:47:59.882</td>\n",
       "      <td>2018-09-17 10:02:11.525</td>\n",
       "      <td>60.0</td>\n",
       "      <td>8th St at Ringold St</td>\n",
       "      <td>37.774520</td>\n",
       "      <td>-122.409449</td>\n",
       "      <td>24.0</td>\n",
       "      <td>Spear St at Folsom St</td>\n",
       "      <td>37.789677</td>\n",
       "      <td>...</td>\n",
       "      <td>Subscriber</td>\n",
       "      <td>No</td>\n",
       "      <td>0</td>\n",
       "      <td>9</td>\n",
       "      <td>Sep</td>\n",
       "      <td>38</td>\n",
       "      <td>9</td>\n",
       "      <td>2.373710</td>\n",
       "      <td>NW</td>\n",
       "      <td>NW</td>\n",
       "    </tr>\n",
       "    <tr>\n",
       "      <td>40050</td>\n",
       "      <td>775</td>\n",
       "      <td>2018-07-25 17:18:47.491</td>\n",
       "      <td>2018-07-25 17:31:42.930</td>\n",
       "      <td>92.0</td>\n",
       "      <td>Mission Bay Kids Park</td>\n",
       "      <td>37.772301</td>\n",
       "      <td>-122.393028</td>\n",
       "      <td>100.0</td>\n",
       "      <td>Bryant St at 15th St</td>\n",
       "      <td>37.767100</td>\n",
       "      <td>...</td>\n",
       "      <td>Subscriber</td>\n",
       "      <td>No</td>\n",
       "      <td>2</td>\n",
       "      <td>7</td>\n",
       "      <td>Jul</td>\n",
       "      <td>30</td>\n",
       "      <td>17</td>\n",
       "      <td>1.654365</td>\n",
       "      <td>NW</td>\n",
       "      <td>NW</td>\n",
       "    </tr>\n",
       "  </tbody>\n",
       "</table>\n",
       "<p>5 rows × 22 columns</p>\n",
       "</div>"
      ],
      "text/plain": [
       "        duration_sec              start_time                end_time  \\\n",
       "15639            900 2018-07-29 16:44:02.195 2018-07-29 16:59:03.087   \n",
       "10867            850 2018-06-29 08:11:16.281 2018-06-29 08:25:26.426   \n",
       "163244          1318 2018-07-07 14:05:27.835 2018-07-07 14:27:26.232   \n",
       "89817            851 2018-09-17 09:47:59.882 2018-09-17 10:02:11.525   \n",
       "40050            775 2018-07-25 17:18:47.491 2018-07-25 17:31:42.930   \n",
       "\n",
       "        start_station_id                              start_station_name  \\\n",
       "15639              259.0                         Addison St at Fourth St   \n",
       "10867               30.0  San Francisco Caltrain (Townsend St at 4th St)   \n",
       "163244             324.0             Union Square (Powell St at Post St)   \n",
       "89817               60.0                            8th St at Ringold St   \n",
       "40050               92.0                           Mission Bay Kids Park   \n",
       "\n",
       "        start_station_latitude  start_station_longitude  end_station_id  \\\n",
       "15639                37.866249              -122.299371           157.0   \n",
       "10867                37.776598              -122.395282             9.0   \n",
       "163244               37.788300              -122.408531           323.0   \n",
       "89817                37.774520              -122.409449            24.0   \n",
       "40050                37.772301              -122.393028           100.0   \n",
       "\n",
       "              end_station_name  end_station_latitude  ...   user_type  \\\n",
       "15639     65th St at Hollis St             37.846784  ...  Subscriber   \n",
       "10867   Broadway at Battery St             37.798572  ...  Subscriber   \n",
       "163244      Broadway at Kearny             37.798014  ...    Customer   \n",
       "89817    Spear St at Folsom St             37.789677  ...  Subscriber   \n",
       "40050     Bryant St at 15th St             37.767100  ...  Subscriber   \n",
       "\n",
       "        bike_share_for_all_trip weekday month  months  weeknr hour  distance  \\\n",
       "15639                        No       6     7     Jul      30   16  2.275350   \n",
       "10867                        No       4     6     Jun      26    8  2.492247   \n",
       "163244                       No       5     7     Jul      27   14  1.103650   \n",
       "89817                        No       0     9     Sep      38    9  2.373710   \n",
       "40050                        No       2     7     Jul      30   17  1.654365   \n",
       "\n",
       "        start_area  end_area  \n",
       "15639           NE        NE  \n",
       "10867           NW        NW  \n",
       "163244          NW        NW  \n",
       "89817           NW        NW  \n",
       "40050           NW        NW  \n",
       "\n",
       "[5 rows x 22 columns]"
      ]
     },
     "execution_count": 125,
     "metadata": {},
     "output_type": "execute_result"
    }
   ],
   "source": [
    "bike_30_1000.head()"
   ]
  },
  {
   "cell_type": "code",
   "execution_count": 126,
   "metadata": {
    "scrolled": true
   },
   "outputs": [
    {
     "data": {
      "text/plain": [
       "1000"
      ]
     },
     "execution_count": 126,
     "metadata": {},
     "output_type": "execute_result"
    }
   ],
   "source": [
    "bike_30_1000.shape[0]"
   ]
  },
  {
   "cell_type": "code",
   "execution_count": 127,
   "metadata": {
    "scrolled": false
   },
   "outputs": [
    {
     "data": {
      "text/plain": [
       "<Figure size 720x360 with 0 Axes>"
      ]
     },
     "metadata": {},
     "output_type": "display_data"
    },
    {
     "data": {
      "image/png": "[encoded data removed]",
      "text/plain": [
       "<Figure size 540x360 with 1 Axes>"
      ]
     },
     "metadata": {
      "needs_background": "light"
     },
     "output_type": "display_data"
    }
   ],
   "source": [
    "fig7 = plt.figure(figsize = [10, 5])\n",
    "\n",
    "g = sb.FacetGrid(data=bike_30_1000, hue = 'user_type', hue_order = ['Subscriber','Customer'],\n",
    "                height = 5, aspect = 1.5);\n",
    "g.map(sb.regplot,'month', 'hour', x_jitter = 0.08,fit_reg = False);\n",
    "\n",
    "\n",
    "tick_propsx = np.arange(1,13,1)\n",
    "\n",
    "#labs = ax.get_xticklabels() ## not needed \n",
    "tick_namesx = ['Jan','Feb','Mar','Apr','May','Jun','Jul','Aug','Sep','Oct','Nov','Dec']\n",
    "plt.xticks(tick_propsx, tick_namesx)\n",
    "\n",
    "plt.title('Rentals per Month, Hour and User Category')\n",
    "plt.yticks(np.arange(0,24,2))\n",
    "\n",
    "\n",
    "\n",
    "plt.ylabel('Hour')\n",
    "plt.legend(['Subscriber','Customer']); \n",
    "\n"
   ]
  },
  {
   "cell_type": "markdown",
   "metadata": {},
   "source": [
    "In the summer months, there concentration of non-subscribers (customers) is clearly higher than in winter; Non-subscribers start their trip more after lunch than before, although in the summer months they start riding also in the morning. Subscribers are more equally spread over the year with a lot of departures in the morning and in the late afternoon."
   ]
  },
  {
   "cell_type": "markdown",
   "metadata": {},
   "source": [
    "#### 4c ) Multivariate Exploration - Relationship betweenWeekday and Hour per User Type "
   ]
  },
  {
   "cell_type": "code",
   "execution_count": 128,
   "metadata": {
    "scrolled": true
   },
   "outputs": [
    {
     "data": {
      "text/plain": [
       "<Figure size 720x360 with 0 Axes>"
      ]
     },
     "metadata": {},
     "output_type": "display_data"
    },
    {
     "data": {
      "image/png": "[encoded data removed]",
      "text/plain": [
       "<Figure size 540x360 with 1 Axes>"
      ]
     },
     "metadata": {
      "needs_background": "light"
     },
     "output_type": "display_data"
    }
   ],
   "source": [
    "fig8 = plt.figure(figsize = [10, 5])\n",
    "\n",
    "g = sb.FacetGrid(data=bike_30_1000, hue = 'user_type', hue_order = ['Subscriber','Customer'],\n",
    "                height = 5, aspect = 1.5);\n",
    "g.map(sb.regplot,'weekday', 'hour', x_jitter = 0.08,fit_reg = False);\n",
    "\n",
    "\n",
    "tick_propsx = np.arange(0,7,1)\n",
    "\n",
    "#labs = ax.get_xticklabels() ## not needed \n",
    "tick_namesx = ['Mon','Tue','Wed','Thu','Fri','Sat','Sun']\n",
    "plt.xticks(tick_propsx, tick_namesx)\n",
    "\n",
    "plt.title('Rentals per Weekday,Hour and User Category')\n",
    "plt.yticks(np.arange(0,24,2))\n",
    "\n",
    "\n",
    "\n",
    "plt.ylabel('Hour')\n",
    "plt.legend(['Subscriber','Customer']); \n"
   ]
  },
  {
   "cell_type": "markdown",
   "metadata": {},
   "source": [
    "Once again, as in the view per month, much more non-subscribers (customers) who start their trip in the afternoon. Except on Saturday where it is the oposite. Sunday is moreor less equally spread Unsurprisingly less subscribers in the weekend. In general they start to ride earlier."
   ]
  },
  {
   "cell_type": "markdown",
   "metadata": {},
   "source": [
    "\n",
    "\n",
    " \n",
    "\n",
    "\n",
    "\n",
    "> Adding an extra variable to the analysis helped me to get more precise insights. For example in the bivariate analysis, it was clear that the departure times in the weekends were later than on business days, but this is not true if you look at the behaviour of the subscribers and non-subscribers separately. Also surprising for me was that the idea that the subscribers are the people who use the bikes only to make the same short trip to their working place is not completely true. In the time frame from 30 min to  60 min, there are a lot of subscribers and they seem to make trips of all distances within that time frame."
   ]
  },
  {
   "cell_type": "code",
   "execution_count": null,
   "metadata": {},
   "outputs": [],
   "source": []
  }
 ],
 "metadata": {
  "kernelspec": {
   "display_name": "Python 3",
   "language": "python",
   "name": "python3"
  },
  "language_info": {
   "codemirror_mode": {
    "name": "ipython",
    "version": 3
   },
   "file_extension": ".py",
   "mimetype": "text/x-python",
   "name": "python",
   "nbconvert_exporter": "python",
   "pygments_lexer": "ipython3",
   "version": "3.7.8"
  }
 },
 "nbformat": 4,
 "nbformat_minor": 2
}
